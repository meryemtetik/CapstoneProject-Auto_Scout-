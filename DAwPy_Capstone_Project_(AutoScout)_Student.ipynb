{
 "cells": [
  {
   "cell_type": "markdown",
   "metadata": {
    "id": "Bv1I7_aas1L3"
   },
   "source": [
    "___\n",
    "\n",
    "<p style=\"text-align: center;\"><img src=\"https://docs.google.com/uc?id=1lY0Uj5R04yMY3-ZppPWxqCr5pvBLYPnV\" class=\"img-fluid\" \n",
    "alt=\"CLRSWY\"></p>\n",
    "\n",
    "## <p style=\"background-color:#FDFEFE; font-family:newtimeroman; color:#9d4f8c; font-size:100%; text-align:center; border-radius:10px 10px;\">WAY TO REINVENT YOURSELF</p>"
   ]
  },
  {
   "cell_type": "markdown",
   "metadata": {
    "id": "Bkw3_pB0s1L-"
   },
   "source": [
    "<img src=https://i.ibb.co/wJW61Y2/Used-cars.jpg width=\"700\" height=\"200\">\n",
    "\n",
    "## <p style=\"background-color:#FDFEFE; font-family:newtimeroman; color:#060108; font-size:200%; text-align:center; border-radius:10px 10px;\">The Capstone Project of Data Analytics Module</p>\n",
    "\n",
    "## <p style=\"background-color:#FDFEFE; font-family:newtimeroman; color:#060108; font-size:150%; text-align:center; border-radius:10px 10px;\">Car Price Prediction EDA</p>"
   ]
  },
  {
   "cell_type": "markdown",
   "metadata": {
    "id": "Z_oWczxZs1MA"
   },
   "source": [
    "## Introduction\n",
    "Welcome to \"***AutoScout Data Analysis Project***\". This is the capstone project of ***Data Analysis*** Module. **Auto Scout** data which using for this project, scraped from the on-line car trading company in 2019, contains many features of 9 different car models. In this project, you will have the opportunity to apply many commonly used algorithms for Data Cleaning and Exploratory Data Analysis by using many Python libraries such as Numpy, Pandas, Matplotlib, Seaborn, Scipy you will analyze clean dataset.\n",
    "\n",
    "### Some Reminders on Exploratory data analysis (EDA)\n",
    "\n",
    "Exploratory data analysis (EDA) is an especially important activity in the routine of a data analyst or scientist. It enables an in depth understanding of the dataset, define or discard hypotheses and create predictive models on a solid basis. It uses data manipulation techniques and several statistical tools to describe and understand the relationship between variables and how these can impact business. By means of EDA, we can obtain meaningful insights that can impact analysis under the following questions (If a checklist is good enough for pilots to use every flight, it’s good enough for data scientists to use with every dataset).\n",
    "1. What question are you trying to solve (or prove wrong)?\n",
    "2. What kind of data do you have?\n",
    "3. What’s missing from the data?\n",
    "4. Where are the outliers?\n",
    "5. How can you add, change or remove features to get more out of your data?\n",
    "\n",
    "**``Exploratory data analysis (EDA)``** is often an **iterative brainstorming process** where you pose a question, review the data, and develop further questions to investigate before beginning model development work. The image below shows how the brainstorming phase is connected with that of understanding the variables and how this in turn is connected again with the brainstorming phase.<br>\n",
    "\n",
    "<img src=https://i.ibb.co/k0MC950/EDA-Process.png width=\"300\" height=\"100\">\n",
    "\n",
    "[Image Credit: Andrew D.](https://towardsdatascience.com/exploratory-data-analysis-in-python-a-step-by-step-process-d0dfa6bf94ee)\n",
    "\n",
    "**``In this context, the project consists of 3 parts in general:``**\n",
    "* **The first part** is related to 'Data Cleaning'. It deals with Incorrect Headers, Incorrect Format, Anomalies, and Dropping useless columns.\n",
    "* **The second part** is related to 'Filling Data', in other words 'Imputation'. It deals with Missing Values. Categorical to numeric transformation is done as well.\n",
    "* **The third part** is related to 'Handling Outliers of Data' via Visualization libraries. So, some insights will be extracted.\n",
    "\n",
    "**``NOTE:``**  However, you are free to create your own style. You do NOT have to stick to the steps above. We, the DA & DV instructors, recommend you study each part separately to create a source notebook for each part title for your further studies. "
   ]
  },
  {
   "cell_type": "code",
   "execution_count": 11,
   "metadata": {},
   "outputs": [],
   "source": [
    "import numpy as np\n",
    "import pandas as pd\n",
    "import matplotlib.pyplot as plt\n",
    "import seaborn as sns\n",
    "import json\n",
    "\n",
    "import warnings\n",
    "warnings.filterwarnings(\"ignore\")\n",
    "warnings.warn(\"this will not show\")\n",
    "\n",
    "plt.rcParams[\"figure.figsize\"] = (10, 6)\n",
    "\n",
    "sns.set_style(\"whitegrid\")\n",
    "pd.set_option('display.float_format', lambda x: '%.3f' % x)\n",
    "\n",
    "# Set it None to display all rows in the dataframe\n",
    "# pd.set_option('display.max_rows', None)\n",
    "\n",
    "# Set it to None to display all columns in the dataframe\n",
    "pd.set_option('display.max_columns', None)"
   ]
  },
  {
   "cell_type": "code",
   "execution_count": 9,
   "metadata": {},
   "outputs": [
    {
     "name": "stdout",
     "output_type": "stream",
     "text": [
      "Requirement already satisfied: skimpy in c:\\users\\tetik\\anaconda3\\lib\\site-packages (0.0.6)\n",
      "Requirement already satisfied: jupyter<2.0.0,>=1.0.0 in c:\\users\\tetik\\anaconda3\\lib\\site-packages (from skimpy) (1.0.0)\n",
      "Requirement already satisfied: Pygments<3.0.0,>=2.10.0 in c:\\users\\tetik\\anaconda3\\lib\\site-packages (from skimpy) (2.10.0)\n",
      "Requirement already satisfied: black<23.0.0,>=22.3.0 in c:\\users\\tetik\\anaconda3\\lib\\site-packages (from skimpy) (22.6.0)\n",
      "Requirement already satisfied: click<9.0.0,>=8.1.3 in c:\\users\\tetik\\anaconda3\\lib\\site-packages (from skimpy) (8.1.3)\n",
      "Requirement already satisfied: rich<13.0,>=10.9 in c:\\users\\tetik\\anaconda3\\lib\\site-packages (from skimpy) (12.5.1)\n",
      "Requirement already satisfied: pandas<2.0.0,>=1.3.2 in c:\\users\\tetik\\anaconda3\\lib\\site-packages (from skimpy) (1.3.4)\n",
      "Requirement already satisfied: numpy<2.0.0,>=1.22.2 in c:\\users\\tetik\\anaconda3\\lib\\site-packages (from skimpy) (1.23.1)\n",
      "Requirement already satisfied: typeguard<3.0.0,>=2.12.1 in c:\\users\\tetik\\anaconda3\\lib\\site-packages (from skimpy) (2.13.3)\n",
      "Requirement already satisfied: ipykernel<7.0.0,>=6.7.0 in c:\\users\\tetik\\anaconda3\\lib\\site-packages (from skimpy) (6.15.1)\n",
      "Requirement already satisfied: pathspec>=0.9.0 in c:\\users\\tetik\\anaconda3\\lib\\site-packages (from black<23.0.0,>=22.3.0->skimpy) (0.9.0)\n",
      "Requirement already satisfied: platformdirs>=2 in c:\\users\\tetik\\anaconda3\\lib\\site-packages (from black<23.0.0,>=22.3.0->skimpy) (2.5.2)\n",
      "Requirement already satisfied: tomli>=1.1.0 in c:\\users\\tetik\\anaconda3\\lib\\site-packages (from black<23.0.0,>=22.3.0->skimpy) (2.0.1)\n",
      "Requirement already satisfied: mypy-extensions>=0.4.3 in c:\\users\\tetik\\anaconda3\\lib\\site-packages (from black<23.0.0,>=22.3.0->skimpy) (0.4.3)\n",
      "Requirement already satisfied: typing-extensions>=3.10.0.0 in c:\\users\\tetik\\anaconda3\\lib\\site-packages (from black<23.0.0,>=22.3.0->skimpy) (3.10.0.2)\n",
      "Requirement already satisfied: colorama in c:\\users\\tetik\\anaconda3\\lib\\site-packages (from click<9.0.0,>=8.1.3->skimpy) (0.4.4)\n",
      "Requirement already satisfied: psutil in c:\\users\\tetik\\anaconda3\\lib\\site-packages (from ipykernel<7.0.0,>=6.7.0->skimpy) (5.8.0)\n",
      "Requirement already satisfied: jupyter-client>=6.1.12 in c:\\users\\tetik\\anaconda3\\lib\\site-packages (from ipykernel<7.0.0,>=6.7.0->skimpy) (6.1.12)\n",
      "Requirement already satisfied: traitlets>=5.1.0 in c:\\users\\tetik\\anaconda3\\lib\\site-packages (from ipykernel<7.0.0,>=6.7.0->skimpy) (5.1.0)\n",
      "Requirement already satisfied: ipython>=7.23.1 in c:\\users\\tetik\\anaconda3\\lib\\site-packages (from ipykernel<7.0.0,>=6.7.0->skimpy) (7.29.0)\n",
      "Requirement already satisfied: matplotlib-inline>=0.1 in c:\\users\\tetik\\anaconda3\\lib\\site-packages (from ipykernel<7.0.0,>=6.7.0->skimpy) (0.1.2)\n",
      "Requirement already satisfied: packaging in c:\\users\\tetik\\anaconda3\\lib\\site-packages (from ipykernel<7.0.0,>=6.7.0->skimpy) (21.0)\n",
      "Requirement already satisfied: pyzmq>=17 in c:\\users\\tetik\\anaconda3\\lib\\site-packages (from ipykernel<7.0.0,>=6.7.0->skimpy) (22.2.1)\n",
      "Requirement already satisfied: tornado>=6.1 in c:\\users\\tetik\\anaconda3\\lib\\site-packages (from ipykernel<7.0.0,>=6.7.0->skimpy) (6.1)\n",
      "Requirement already satisfied: nest-asyncio in c:\\users\\tetik\\anaconda3\\lib\\site-packages (from ipykernel<7.0.0,>=6.7.0->skimpy) (1.5.1)\n",
      "Requirement already satisfied: debugpy>=1.0 in c:\\users\\tetik\\anaconda3\\lib\\site-packages (from ipykernel<7.0.0,>=6.7.0->skimpy) (1.4.1)\n",
      "Requirement already satisfied: nbconvert in c:\\users\\tetik\\anaconda3\\lib\\site-packages (from jupyter<2.0.0,>=1.0.0->skimpy) (6.1.0)\n",
      "Requirement already satisfied: jupyter-console in c:\\users\\tetik\\anaconda3\\lib\\site-packages (from jupyter<2.0.0,>=1.0.0->skimpy) (6.4.0)\n",
      "Requirement already satisfied: qtconsole in c:\\users\\tetik\\anaconda3\\lib\\site-packages (from jupyter<2.0.0,>=1.0.0->skimpy) (5.1.1)\n",
      "Requirement already satisfied: notebook in c:\\users\\tetik\\anaconda3\\lib\\site-packages (from jupyter<2.0.0,>=1.0.0->skimpy) (6.4.5)\n",
      "Requirement already satisfied: ipywidgets in c:\\users\\tetik\\anaconda3\\lib\\site-packages (from jupyter<2.0.0,>=1.0.0->skimpy) (7.6.5)\n",
      "Requirement already satisfied: pytz>=2017.3 in c:\\users\\tetik\\anaconda3\\lib\\site-packages (from pandas<2.0.0,>=1.3.2->skimpy) (2021.3)\n",
      "Requirement already satisfied: python-dateutil>=2.7.3 in c:\\users\\tetik\\anaconda3\\lib\\site-packages (from pandas<2.0.0,>=1.3.2->skimpy) (2.8.2)\n",
      "Requirement already satisfied: commonmark<0.10.0,>=0.9.0 in c:\\users\\tetik\\anaconda3\\lib\\site-packages (from rich<13.0,>=10.9->skimpy) (0.9.1)\n",
      "Requirement already satisfied: setuptools>=18.5 in c:\\users\\tetik\\anaconda3\\lib\\site-packages (from ipython>=7.23.1->ipykernel<7.0.0,>=6.7.0->skimpy) (58.0.4)\n",
      "Requirement already satisfied: backcall in c:\\users\\tetik\\anaconda3\\lib\\site-packages (from ipython>=7.23.1->ipykernel<7.0.0,>=6.7.0->skimpy) (0.2.0)\n",
      "Requirement already satisfied: prompt-toolkit!=3.0.0,!=3.0.1,<3.1.0,>=2.0.0 in c:\\users\\tetik\\anaconda3\\lib\\site-packages (from ipython>=7.23.1->ipykernel<7.0.0,>=6.7.0->skimpy) (3.0.20)\n",
      "Requirement already satisfied: decorator in c:\\users\\tetik\\anaconda3\\lib\\site-packages (from ipython>=7.23.1->ipykernel<7.0.0,>=6.7.0->skimpy) (5.1.0)\n",
      "Requirement already satisfied: pickleshare in c:\\users\\tetik\\anaconda3\\lib\\site-packages (from ipython>=7.23.1->ipykernel<7.0.0,>=6.7.0->skimpy) (0.7.5)\n",
      "Requirement already satisfied: jedi>=0.16 in c:\\users\\tetik\\anaconda3\\lib\\site-packages (from ipython>=7.23.1->ipykernel<7.0.0,>=6.7.0->skimpy) (0.18.0)\n",
      "Requirement already satisfied: jupyter-core>=4.6.0 in c:\\users\\tetik\\anaconda3\\lib\\site-packages (from jupyter-client>=6.1.12->ipykernel<7.0.0,>=6.7.0->skimpy) (4.8.1)\n",
      "Requirement already satisfied: six>=1.5 in c:\\users\\tetik\\anaconda3\\lib\\site-packages (from python-dateutil>=2.7.3->pandas<2.0.0,>=1.3.2->skimpy) (1.16.0)\n",
      "Requirement already satisfied: ipython-genutils~=0.2.0 in c:\\users\\tetik\\anaconda3\\lib\\site-packages (from ipywidgets->jupyter<2.0.0,>=1.0.0->skimpy) (0.2.0)\n",
      "Requirement already satisfied: nbformat>=4.2.0 in c:\\users\\tetik\\anaconda3\\lib\\site-packages (from ipywidgets->jupyter<2.0.0,>=1.0.0->skimpy) (5.1.3)\n",
      "Requirement already satisfied: widgetsnbextension~=3.5.0 in c:\\users\\tetik\\anaconda3\\lib\\site-packages (from ipywidgets->jupyter<2.0.0,>=1.0.0->skimpy) (3.5.1)\n",
      "Requirement already satisfied: jupyterlab-widgets>=1.0.0 in c:\\users\\tetik\\anaconda3\\lib\\site-packages (from ipywidgets->jupyter<2.0.0,>=1.0.0->skimpy) (1.0.0)\n",
      "Requirement already satisfied: mistune<2,>=0.8.1 in c:\\users\\tetik\\anaconda3\\lib\\site-packages (from nbconvert->jupyter<2.0.0,>=1.0.0->skimpy) (0.8.4)\n",
      "Requirement already satisfied: nbclient<0.6.0,>=0.5.0 in c:\\users\\tetik\\anaconda3\\lib\\site-packages (from nbconvert->jupyter<2.0.0,>=1.0.0->skimpy) (0.5.3)\n",
      "Requirement already satisfied: pandocfilters>=1.4.1 in c:\\users\\tetik\\anaconda3\\lib\\site-packages (from nbconvert->jupyter<2.0.0,>=1.0.0->skimpy) (1.4.3)\n",
      "Requirement already satisfied: testpath in c:\\users\\tetik\\anaconda3\\lib\\site-packages (from nbconvert->jupyter<2.0.0,>=1.0.0->skimpy) (0.5.0)\n",
      "Requirement already satisfied: entrypoints>=0.2.2 in c:\\users\\tetik\\anaconda3\\lib\\site-packages (from nbconvert->jupyter<2.0.0,>=1.0.0->skimpy) (0.3)\n",
      "Requirement already satisfied: jinja2>=2.4 in c:\\users\\tetik\\anaconda3\\lib\\site-packages (from nbconvert->jupyter<2.0.0,>=1.0.0->skimpy) (2.11.3)\n",
      "Requirement already satisfied: jupyterlab-pygments in c:\\users\\tetik\\anaconda3\\lib\\site-packages (from nbconvert->jupyter<2.0.0,>=1.0.0->skimpy) (0.1.2)\n",
      "Requirement already satisfied: bleach in c:\\users\\tetik\\anaconda3\\lib\\site-packages (from nbconvert->jupyter<2.0.0,>=1.0.0->skimpy) (4.0.0)\n",
      "Requirement already satisfied: defusedxml in c:\\users\\tetik\\anaconda3\\lib\\site-packages (from nbconvert->jupyter<2.0.0,>=1.0.0->skimpy) (0.7.1)\n",
      "Requirement already satisfied: Send2Trash>=1.5.0 in c:\\users\\tetik\\anaconda3\\lib\\site-packages (from notebook->jupyter<2.0.0,>=1.0.0->skimpy) (1.8.0)\n",
      "Requirement already satisfied: argon2-cffi in c:\\users\\tetik\\anaconda3\\lib\\site-packages (from notebook->jupyter<2.0.0,>=1.0.0->skimpy) (20.1.0)\n",
      "Requirement already satisfied: prometheus-client in c:\\users\\tetik\\anaconda3\\lib\\site-packages (from notebook->jupyter<2.0.0,>=1.0.0->skimpy) (0.11.0)\n",
      "Requirement already satisfied: terminado>=0.8.3 in c:\\users\\tetik\\anaconda3\\lib\\site-packages (from notebook->jupyter<2.0.0,>=1.0.0->skimpy) (0.9.4)\n",
      "Requirement already satisfied: pyparsing>=2.0.2 in c:\\users\\tetik\\anaconda3\\lib\\site-packages (from packaging->ipykernel<7.0.0,>=6.7.0->skimpy) (3.0.4)\n",
      "Requirement already satisfied: qtpy in c:\\users\\tetik\\anaconda3\\lib\\site-packages (from qtconsole->jupyter<2.0.0,>=1.0.0->skimpy) (1.10.0)\n",
      "Requirement already satisfied: parso<0.9.0,>=0.8.0 in c:\\users\\tetik\\anaconda3\\lib\\site-packages (from jedi>=0.16->ipython>=7.23.1->ipykernel<7.0.0,>=6.7.0->skimpy) (0.8.2)\n",
      "Requirement already satisfied: MarkupSafe>=0.23 in c:\\users\\tetik\\anaconda3\\lib\\site-packages (from jinja2>=2.4->nbconvert->jupyter<2.0.0,>=1.0.0->skimpy) (1.1.1)\n",
      "Requirement already satisfied: pywin32>=1.0 in c:\\users\\tetik\\anaconda3\\lib\\site-packages (from jupyter-core>=4.6.0->jupyter-client>=6.1.12->ipykernel<7.0.0,>=6.7.0->skimpy) (228)\n",
      "Requirement already satisfied: async-generator in c:\\users\\tetik\\anaconda3\\lib\\site-packages (from nbclient<0.6.0,>=0.5.0->nbconvert->jupyter<2.0.0,>=1.0.0->skimpy) (1.10)\n",
      "Requirement already satisfied: jsonschema!=2.5.0,>=2.4 in c:\\users\\tetik\\anaconda3\\lib\\site-packages (from nbformat>=4.2.0->ipywidgets->jupyter<2.0.0,>=1.0.0->skimpy) (3.2.0)\n",
      "Requirement already satisfied: wcwidth in c:\\users\\tetik\\anaconda3\\lib\\site-packages (from prompt-toolkit!=3.0.0,!=3.0.1,<3.1.0,>=2.0.0->ipython>=7.23.1->ipykernel<7.0.0,>=6.7.0->skimpy) (0.2.5)\n",
      "Requirement already satisfied: pywinpty>=0.5 in c:\\users\\tetik\\anaconda3\\lib\\site-packages (from terminado>=0.8.3->notebook->jupyter<2.0.0,>=1.0.0->skimpy) (0.5.7)\n",
      "Requirement already satisfied: cffi>=1.0.0 in c:\\users\\tetik\\anaconda3\\lib\\site-packages (from argon2-cffi->notebook->jupyter<2.0.0,>=1.0.0->skimpy) (1.14.6)\n",
      "Requirement already satisfied: webencodings in c:\\users\\tetik\\anaconda3\\lib\\site-packages (from bleach->nbconvert->jupyter<2.0.0,>=1.0.0->skimpy) (0.5.1)\n",
      "Requirement already satisfied: pycparser in c:\\users\\tetik\\anaconda3\\lib\\site-packages (from cffi>=1.0.0->argon2-cffi->notebook->jupyter<2.0.0,>=1.0.0->skimpy) (2.20)\n",
      "Requirement already satisfied: pyrsistent>=0.14.0 in c:\\users\\tetik\\anaconda3\\lib\\site-packages (from jsonschema!=2.5.0,>=2.4->nbformat>=4.2.0->ipywidgets->jupyter<2.0.0,>=1.0.0->skimpy) (0.18.0)\n",
      "Requirement already satisfied: attrs>=17.4.0 in c:\\users\\tetik\\anaconda3\\lib\\site-packages (from jsonschema!=2.5.0,>=2.4->nbformat>=4.2.0->ipywidgets->jupyter<2.0.0,>=1.0.0->skimpy) (21.2.0)\n",
      "Note: you may need to restart the kernel to use updated packages.\n"
     ]
    }
   ],
   "source": [
    "pip install skimpy --user"
   ]
  },
  {
   "cell_type": "code",
   "execution_count": 7,
   "metadata": {},
   "outputs": [
    {
     "name": "stdout",
     "output_type": "stream",
     "text": [
      "Requirement already satisfied: pip in c:\\users\\tetik\\anaconda3\\lib\\site-packages (22.1.2)\n",
      "Collecting pip\n",
      "  Downloading pip-22.2-py3-none-any.whl (2.0 MB)\n",
      "     ---------------------------------------- 2.0/2.0 MB 7.2 MB/s eta 0:00:00\n",
      "Installing collected packages: pip\n",
      "  Attempting uninstall: pip\n",
      "    Found existing installation: pip 22.1.2\n",
      "    Uninstalling pip-22.1.2:\n",
      "      Successfully uninstalled pip-22.1.2\n",
      "Successfully installed pip-22.2\n"
     ]
    }
   ],
   "source": [
    "!python.exe -m pip install --upgrade pip"
   ]
  },
  {
   "cell_type": "code",
   "execution_count": null,
   "metadata": {},
   "outputs": [],
   "source": []
  },
  {
   "cell_type": "markdown",
   "metadata": {
    "id": "vvgJ5KWTs1MB"
   },
   "source": [
    "# PART- 1 `( Data Cleaning )`"
   ]
  },
  {
   "cell_type": "code",
   "execution_count": null,
   "metadata": {},
   "outputs": [],
   "source": []
  },
  {
   "cell_type": "markdown",
   "metadata": {
    "id": "uGeKSdYds1MD"
   },
   "source": [
    "# PART- 2 `( Handling With Missing Vales )`"
   ]
  },
  {
   "cell_type": "code",
   "execution_count": null,
   "metadata": {
    "id": "WDZnqBhbs1ME"
   },
   "outputs": [],
   "source": []
  },
  {
   "cell_type": "markdown",
   "metadata": {
    "id": "gPPdPAu5s1ME"
   },
   "source": [
    "# PART- 3 `( Handling With Outliers )`"
   ]
  },
  {
   "cell_type": "code",
   "execution_count": null,
   "metadata": {
    "id": "Is4HLjHWs1MF"
   },
   "outputs": [],
   "source": []
  },
  {
   "cell_type": "markdown",
   "metadata": {
    "id": "EKxmsgfts1MG"
   },
   "source": [
    "# Final Step (Checking final situation of data via graphs)"
   ]
  },
  {
   "cell_type": "code",
   "execution_count": null,
   "metadata": {
    "id": "8mgL_Bd0s1MG"
   },
   "outputs": [],
   "source": []
  },
  {
   "cell_type": "markdown",
   "metadata": {
    "id": "2PgUVPoes1MH"
   },
   "source": [
    "## Export dataframe to csv file (without dummy)"
   ]
  },
  {
   "cell_type": "code",
   "execution_count": null,
   "metadata": {
    "id": "Byg_o2ZMs1MI"
   },
   "outputs": [],
   "source": [
    "df.to_csv(\"final_scout_not_dummy.csv\", index=False)"
   ]
  },
  {
   "cell_type": "markdown",
   "metadata": {
    "id": "hrw9hr-3s1MJ"
   },
   "source": [
    "# Dummy Operation"
   ]
  },
  {
   "cell_type": "code",
   "execution_count": null,
   "metadata": {
    "id": "faDyWTC9s1MJ"
   },
   "outputs": [],
   "source": []
  },
  {
   "cell_type": "markdown",
   "metadata": {
    "id": "DUOdihlqs1MJ"
   },
   "source": [
    "## Export dataframe to csv file (dummy)"
   ]
  },
  {
   "cell_type": "code",
   "execution_count": null,
   "metadata": {
    "id": "IJT7Yl1Us1MK"
   },
   "outputs": [],
   "source": [
    "df_dummied.to_csv(\"final_scout_dummy.csv\", index=False)"
   ]
  }
 ],
 "metadata": {
  "colab": {
   "name": "DAwPy-Capstone_Project_(AutoScout)_Student.ipynb",
   "provenance": []
  },
  "kernelspec": {
   "display_name": "Python 3 (ipykernel)",
   "language": "python",
   "name": "python3"
  },
  "language_info": {
   "codemirror_mode": {
    "name": "ipython",
    "version": 3
   },
   "file_extension": ".py",
   "mimetype": "text/x-python",
   "name": "python",
   "nbconvert_exporter": "python",
   "pygments_lexer": "ipython3",
   "version": "3.9.7"
  },
  "toc": {
   "base_numbering": 1,
   "nav_menu": {},
   "number_sections": false,
   "sideBar": true,
   "skip_h1_title": false,
   "title_cell": "Table of Contents",
   "title_sidebar": "Contents",
   "toc_cell": false,
   "toc_position": {},
   "toc_section_display": true,
   "toc_window_display": false
  }
 },
 "nbformat": 4,
 "nbformat_minor": 1
}
