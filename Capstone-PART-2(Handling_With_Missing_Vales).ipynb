{
 "cells": [
  {
   "cell_type": "markdown",
   "id": "bd4e6bd9",
   "metadata": {},
   "source": [
    "<div class=\"burk\">\n",
    "PART- 2 `( Handling With Missing Vales )`</div><i class=\"fa fa-lightbulb-o \"></i>"
   ]
  },
  {
   "cell_type": "code",
   "execution_count": 1,
   "id": "072bccec",
   "metadata": {},
   "outputs": [],
   "source": [
    "import numpy as np\n",
    "import pandas as pd\n",
    "import matplotlib.pyplot as plt\n",
    "import seaborn as sns\n",
    "from scipy import stats\n",
    "from scipy.stats.mstats import winsorize\n",
    "\n",
    "import warnings\n",
    "warnings.filterwarnings(\"ignore\")\n",
    "warnings.warn(\"this will not show\")\n",
    "\n",
    "plt.rcParams[\"figure.figsize\"] = (10, 6)\n",
    "\n",
    "sns.set_style(\"whitegrid\")\n",
    "pd.set_option('display.float_format', lambda x: '%.3f' % x)\n",
    "\n",
    "# Set it None to display all rows in the dataframe\n",
    "# pd.set_option('display.max_rows', None)\n",
    "\n",
    "# Set it to None to display all columns in the dataframe\n",
    "pd.set_option('display.max_columns', None)"
   ]
  },
  {
   "cell_type": "code",
   "execution_count": 2,
   "id": "7ddc738d",
   "metadata": {},
   "outputs": [],
   "source": [
    "df0=pd.read_csv('auto_scout_cleaned.csv')"
   ]
  },
  {
   "cell_type": "code",
   "execution_count": 3,
   "id": "8725ec59",
   "metadata": {},
   "outputs": [],
   "source": [
    "df=df0.copy()"
   ]
  },
  {
   "cell_type": "code",
   "execution_count": 4,
   "id": "a0b402b0",
   "metadata": {},
   "outputs": [
    {
     "data": {
      "text/plain": [
       "1675"
      ]
     },
     "execution_count": 4,
     "metadata": {},
     "output_type": "execute_result"
    }
   ],
   "source": [
    "df.duplicated().sum()"
   ]
  },
  {
   "cell_type": "code",
   "execution_count": 5,
   "id": "2d31e6db",
   "metadata": {},
   "outputs": [],
   "source": [
    "df.drop_duplicates(inplace=True)"
   ]
  },
  {
   "cell_type": "code",
   "execution_count": 6,
   "id": "e566d43d",
   "metadata": {},
   "outputs": [
    {
     "data": {
      "text/html": [
       "<div>\n",
       "<style scoped>\n",
       "    .dataframe tbody tr th:only-of-type {\n",
       "        vertical-align: middle;\n",
       "    }\n",
       "\n",
       "    .dataframe tbody tr th {\n",
       "        vertical-align: top;\n",
       "    }\n",
       "\n",
       "    .dataframe thead th {\n",
       "        text-align: right;\n",
       "    }\n",
       "</style>\n",
       "<table border=\"1\" class=\"dataframe\">\n",
       "  <thead>\n",
       "    <tr style=\"text-align: right;\">\n",
       "      <th></th>\n",
       "      <th>0</th>\n",
       "      <th>1</th>\n",
       "      <th>2</th>\n",
       "      <th>3</th>\n",
       "      <th>4</th>\n",
       "    </tr>\n",
       "  </thead>\n",
       "  <tbody>\n",
       "    <tr>\n",
       "      <th>make_model</th>\n",
       "      <td>Audi A1</td>\n",
       "      <td>Audi A1</td>\n",
       "      <td>Audi A1</td>\n",
       "      <td>Audi A1</td>\n",
       "      <td>Audi A1</td>\n",
       "    </tr>\n",
       "    <tr>\n",
       "      <th>body_type</th>\n",
       "      <td>Sedans</td>\n",
       "      <td>Sedans</td>\n",
       "      <td>Sedans</td>\n",
       "      <td>Sedans</td>\n",
       "      <td>Sedans</td>\n",
       "    </tr>\n",
       "    <tr>\n",
       "      <th>price</th>\n",
       "      <td>15770</td>\n",
       "      <td>14500</td>\n",
       "      <td>14640</td>\n",
       "      <td>14500</td>\n",
       "      <td>16790</td>\n",
       "    </tr>\n",
       "    <tr>\n",
       "      <th>vat</th>\n",
       "      <td>VAT deductible</td>\n",
       "      <td>Price negotiable</td>\n",
       "      <td>VAT deductible</td>\n",
       "      <td>NaN</td>\n",
       "      <td>NaN</td>\n",
       "    </tr>\n",
       "    <tr>\n",
       "      <th>km</th>\n",
       "      <td>56013</td>\n",
       "      <td>80000</td>\n",
       "      <td>83450</td>\n",
       "      <td>73000</td>\n",
       "      <td>16200</td>\n",
       "    </tr>\n",
       "    <tr>\n",
       "      <th>Type</th>\n",
       "      <td>Used</td>\n",
       "      <td>Used</td>\n",
       "      <td>Used</td>\n",
       "      <td>Used</td>\n",
       "      <td>Used</td>\n",
       "    </tr>\n",
       "    <tr>\n",
       "      <th>Previous_Owners</th>\n",
       "      <td>2.000</td>\n",
       "      <td>NaN</td>\n",
       "      <td>1.000</td>\n",
       "      <td>1.000</td>\n",
       "      <td>1.000</td>\n",
       "    </tr>\n",
       "    <tr>\n",
       "      <th>Warranty</th>\n",
       "      <td>NaN</td>\n",
       "      <td>NaN</td>\n",
       "      <td>NaN</td>\n",
       "      <td>NaN</td>\n",
       "      <td>NaN</td>\n",
       "    </tr>\n",
       "    <tr>\n",
       "      <th>Nr_of_Doors</th>\n",
       "      <td>5.000</td>\n",
       "      <td>3.000</td>\n",
       "      <td>4.000</td>\n",
       "      <td>3.000</td>\n",
       "      <td>5.000</td>\n",
       "    </tr>\n",
       "    <tr>\n",
       "      <th>Nr_of_Seats</th>\n",
       "      <td>5.000</td>\n",
       "      <td>4.000</td>\n",
       "      <td>4.000</td>\n",
       "      <td>4.000</td>\n",
       "      <td>5.000</td>\n",
       "    </tr>\n",
       "    <tr>\n",
       "      <th>Gearing_Type</th>\n",
       "      <td>Automatic</td>\n",
       "      <td>Automatic</td>\n",
       "      <td>Automatic</td>\n",
       "      <td>Automatic</td>\n",
       "      <td>Automatic</td>\n",
       "    </tr>\n",
       "    <tr>\n",
       "      <th>Cylinders</th>\n",
       "      <td>3.000</td>\n",
       "      <td>4.000</td>\n",
       "      <td>NaN</td>\n",
       "      <td>3.000</td>\n",
       "      <td>3.000</td>\n",
       "    </tr>\n",
       "    <tr>\n",
       "      <th>Drive_Chain</th>\n",
       "      <td>front</td>\n",
       "      <td>front</td>\n",
       "      <td>front</td>\n",
       "      <td>NaN</td>\n",
       "      <td>front</td>\n",
       "    </tr>\n",
       "    <tr>\n",
       "      <th>Fuel</th>\n",
       "      <td>Diesel</td>\n",
       "      <td>Benzine</td>\n",
       "      <td>Diesel</td>\n",
       "      <td>Diesel</td>\n",
       "      <td>Diesel</td>\n",
       "    </tr>\n",
       "    <tr>\n",
       "      <th>Emission_Class</th>\n",
       "      <td>Euro6</td>\n",
       "      <td>Euro6</td>\n",
       "      <td>Euro6</td>\n",
       "      <td>Euro6</td>\n",
       "      <td>Euro6</td>\n",
       "    </tr>\n",
       "    <tr>\n",
       "      <th>comfort_convenience</th>\n",
       "      <td>Air conditioning,Armrest,Automatic climate con...</td>\n",
       "      <td>Air conditioning,Automatic climate control,Hil...</td>\n",
       "      <td>Air conditioning,Cruise control,Electrical sid...</td>\n",
       "      <td>Air suspension,Armrest,Auxiliary heating,Elect...</td>\n",
       "      <td>Air conditioning,Armrest,Automatic climate con...</td>\n",
       "    </tr>\n",
       "    <tr>\n",
       "      <th>entertainment_media</th>\n",
       "      <td>Bluetooth,Hands-free equipment,On-board comput...</td>\n",
       "      <td>Bluetooth,Hands-free equipment,On-board comput...</td>\n",
       "      <td>MP3,On-board computer</td>\n",
       "      <td>Bluetooth,CD player,Hands-free equipment,MP3,O...</td>\n",
       "      <td>Bluetooth,CD player,Hands-free equipment,MP3,O...</td>\n",
       "    </tr>\n",
       "    <tr>\n",
       "      <th>Extras</th>\n",
       "      <td>Alloy wheels,Catalytic Converter,Voice Control</td>\n",
       "      <td>Alloy wheels,Sport seats,Sport suspension,Voic...</td>\n",
       "      <td>Alloy wheels,Voice Control</td>\n",
       "      <td>Alloy wheels,Sport seats,Voice Control</td>\n",
       "      <td>Alloy wheels,Sport package,Sport suspension,Vo...</td>\n",
       "    </tr>\n",
       "    <tr>\n",
       "      <th>safety_security</th>\n",
       "      <td>ABS,Central door lock,Daytime running lights,D...</td>\n",
       "      <td>ABS,Central door lock,Central door lock with r...</td>\n",
       "      <td>ABS,Central door lock,Daytime running lights,D...</td>\n",
       "      <td>ABS,Alarm system,Central door lock with remote...</td>\n",
       "      <td>ABS,Central door lock,Driver-side airbag,Elect...</td>\n",
       "    </tr>\n",
       "    <tr>\n",
       "      <th>Gears</th>\n",
       "      <td>NaN</td>\n",
       "      <td>7.000</td>\n",
       "      <td>NaN</td>\n",
       "      <td>6.000</td>\n",
       "      <td>NaN</td>\n",
       "    </tr>\n",
       "    <tr>\n",
       "      <th>age</th>\n",
       "      <td>3.000</td>\n",
       "      <td>2.000</td>\n",
       "      <td>3.000</td>\n",
       "      <td>3.000</td>\n",
       "      <td>3.000</td>\n",
       "    </tr>\n",
       "    <tr>\n",
       "      <th>hp_kW</th>\n",
       "      <td>66.000</td>\n",
       "      <td>141.000</td>\n",
       "      <td>85.000</td>\n",
       "      <td>66.000</td>\n",
       "      <td>66.000</td>\n",
       "    </tr>\n",
       "    <tr>\n",
       "      <th>Inspection_new</th>\n",
       "      <td>Yes</td>\n",
       "      <td>NaN</td>\n",
       "      <td>NaN</td>\n",
       "      <td>NaN</td>\n",
       "      <td>Yes</td>\n",
       "    </tr>\n",
       "    <tr>\n",
       "      <th>Paint_Type</th>\n",
       "      <td>Metallic</td>\n",
       "      <td>NaN</td>\n",
       "      <td>Metallic</td>\n",
       "      <td>Metallic</td>\n",
       "      <td>Metallic</td>\n",
       "    </tr>\n",
       "    <tr>\n",
       "      <th>Upholstery_type</th>\n",
       "      <td>Cloth</td>\n",
       "      <td>Cloth</td>\n",
       "      <td>Cloth</td>\n",
       "      <td>NaN</td>\n",
       "      <td>Cloth</td>\n",
       "    </tr>\n",
       "    <tr>\n",
       "      <th>Upholstery_color</th>\n",
       "      <td>Black</td>\n",
       "      <td>Grey</td>\n",
       "      <td>Black</td>\n",
       "      <td>NaN</td>\n",
       "      <td>Black</td>\n",
       "    </tr>\n",
       "    <tr>\n",
       "      <th>Displacement_cc</th>\n",
       "      <td>1422.000</td>\n",
       "      <td>1798.000</td>\n",
       "      <td>1598.000</td>\n",
       "      <td>1422.000</td>\n",
       "      <td>1422.000</td>\n",
       "    </tr>\n",
       "    <tr>\n",
       "      <th>Weight_kg</th>\n",
       "      <td>1220.000</td>\n",
       "      <td>1255.000</td>\n",
       "      <td>NaN</td>\n",
       "      <td>1195.000</td>\n",
       "      <td>NaN</td>\n",
       "    </tr>\n",
       "    <tr>\n",
       "      <th>cons_comb</th>\n",
       "      <td>3.800</td>\n",
       "      <td>5.600</td>\n",
       "      <td>3.800</td>\n",
       "      <td>3.800</td>\n",
       "      <td>4.100</td>\n",
       "    </tr>\n",
       "    <tr>\n",
       "      <th>cons_city</th>\n",
       "      <td>4.300</td>\n",
       "      <td>7.100</td>\n",
       "      <td>4.400</td>\n",
       "      <td>4.300</td>\n",
       "      <td>4.600</td>\n",
       "    </tr>\n",
       "    <tr>\n",
       "      <th>cons_country</th>\n",
       "      <td>3.500</td>\n",
       "      <td>4.700</td>\n",
       "      <td>3.400</td>\n",
       "      <td>3.500</td>\n",
       "      <td>3.800</td>\n",
       "    </tr>\n",
       "    <tr>\n",
       "      <th>CO2_Emission</th>\n",
       "      <td>99.000</td>\n",
       "      <td>129.000</td>\n",
       "      <td>99.000</td>\n",
       "      <td>99.000</td>\n",
       "      <td>109.000</td>\n",
       "    </tr>\n",
       "  </tbody>\n",
       "</table>\n",
       "</div>"
      ],
      "text/plain": [
       "                                                                     0  \\\n",
       "make_model                                                     Audi A1   \n",
       "body_type                                                       Sedans   \n",
       "price                                                            15770   \n",
       "vat                                                     VAT deductible   \n",
       "km                                                               56013   \n",
       "Type                                                              Used   \n",
       "Previous_Owners                                                  2.000   \n",
       "Warranty                                                           NaN   \n",
       "Nr_of_Doors                                                      5.000   \n",
       "Nr_of_Seats                                                      5.000   \n",
       "Gearing_Type                                                 Automatic   \n",
       "Cylinders                                                        3.000   \n",
       "Drive_Chain                                                      front   \n",
       "Fuel                                                            Diesel   \n",
       "Emission_Class                                                   Euro6   \n",
       "comfort_convenience  Air conditioning,Armrest,Automatic climate con...   \n",
       "entertainment_media  Bluetooth,Hands-free equipment,On-board comput...   \n",
       "Extras                  Alloy wheels,Catalytic Converter,Voice Control   \n",
       "safety_security      ABS,Central door lock,Daytime running lights,D...   \n",
       "Gears                                                              NaN   \n",
       "age                                                              3.000   \n",
       "hp_kW                                                           66.000   \n",
       "Inspection_new                                                     Yes   \n",
       "Paint_Type                                                    Metallic   \n",
       "Upholstery_type                                                  Cloth   \n",
       "Upholstery_color                                                 Black   \n",
       "Displacement_cc                                               1422.000   \n",
       "Weight_kg                                                     1220.000   \n",
       "cons_comb                                                        3.800   \n",
       "cons_city                                                        4.300   \n",
       "cons_country                                                     3.500   \n",
       "CO2_Emission                                                    99.000   \n",
       "\n",
       "                                                                     1  \\\n",
       "make_model                                                     Audi A1   \n",
       "body_type                                                       Sedans   \n",
       "price                                                            14500   \n",
       "vat                                                   Price negotiable   \n",
       "km                                                               80000   \n",
       "Type                                                              Used   \n",
       "Previous_Owners                                                    NaN   \n",
       "Warranty                                                           NaN   \n",
       "Nr_of_Doors                                                      3.000   \n",
       "Nr_of_Seats                                                      4.000   \n",
       "Gearing_Type                                                 Automatic   \n",
       "Cylinders                                                        4.000   \n",
       "Drive_Chain                                                      front   \n",
       "Fuel                                                           Benzine   \n",
       "Emission_Class                                                   Euro6   \n",
       "comfort_convenience  Air conditioning,Automatic climate control,Hil...   \n",
       "entertainment_media  Bluetooth,Hands-free equipment,On-board comput...   \n",
       "Extras               Alloy wheels,Sport seats,Sport suspension,Voic...   \n",
       "safety_security      ABS,Central door lock,Central door lock with r...   \n",
       "Gears                                                            7.000   \n",
       "age                                                              2.000   \n",
       "hp_kW                                                          141.000   \n",
       "Inspection_new                                                     NaN   \n",
       "Paint_Type                                                         NaN   \n",
       "Upholstery_type                                                  Cloth   \n",
       "Upholstery_color                                                  Grey   \n",
       "Displacement_cc                                               1798.000   \n",
       "Weight_kg                                                     1255.000   \n",
       "cons_comb                                                        5.600   \n",
       "cons_city                                                        7.100   \n",
       "cons_country                                                     4.700   \n",
       "CO2_Emission                                                   129.000   \n",
       "\n",
       "                                                                     2  \\\n",
       "make_model                                                     Audi A1   \n",
       "body_type                                                       Sedans   \n",
       "price                                                            14640   \n",
       "vat                                                     VAT deductible   \n",
       "km                                                               83450   \n",
       "Type                                                              Used   \n",
       "Previous_Owners                                                  1.000   \n",
       "Warranty                                                           NaN   \n",
       "Nr_of_Doors                                                      4.000   \n",
       "Nr_of_Seats                                                      4.000   \n",
       "Gearing_Type                                                 Automatic   \n",
       "Cylinders                                                          NaN   \n",
       "Drive_Chain                                                      front   \n",
       "Fuel                                                            Diesel   \n",
       "Emission_Class                                                   Euro6   \n",
       "comfort_convenience  Air conditioning,Cruise control,Electrical sid...   \n",
       "entertainment_media                              MP3,On-board computer   \n",
       "Extras                                      Alloy wheels,Voice Control   \n",
       "safety_security      ABS,Central door lock,Daytime running lights,D...   \n",
       "Gears                                                              NaN   \n",
       "age                                                              3.000   \n",
       "hp_kW                                                           85.000   \n",
       "Inspection_new                                                     NaN   \n",
       "Paint_Type                                                    Metallic   \n",
       "Upholstery_type                                                  Cloth   \n",
       "Upholstery_color                                                 Black   \n",
       "Displacement_cc                                               1598.000   \n",
       "Weight_kg                                                          NaN   \n",
       "cons_comb                                                        3.800   \n",
       "cons_city                                                        4.400   \n",
       "cons_country                                                     3.400   \n",
       "CO2_Emission                                                    99.000   \n",
       "\n",
       "                                                                     3  \\\n",
       "make_model                                                     Audi A1   \n",
       "body_type                                                       Sedans   \n",
       "price                                                            14500   \n",
       "vat                                                                NaN   \n",
       "km                                                               73000   \n",
       "Type                                                              Used   \n",
       "Previous_Owners                                                  1.000   \n",
       "Warranty                                                           NaN   \n",
       "Nr_of_Doors                                                      3.000   \n",
       "Nr_of_Seats                                                      4.000   \n",
       "Gearing_Type                                                 Automatic   \n",
       "Cylinders                                                        3.000   \n",
       "Drive_Chain                                                        NaN   \n",
       "Fuel                                                            Diesel   \n",
       "Emission_Class                                                   Euro6   \n",
       "comfort_convenience  Air suspension,Armrest,Auxiliary heating,Elect...   \n",
       "entertainment_media  Bluetooth,CD player,Hands-free equipment,MP3,O...   \n",
       "Extras                          Alloy wheels,Sport seats,Voice Control   \n",
       "safety_security      ABS,Alarm system,Central door lock with remote...   \n",
       "Gears                                                            6.000   \n",
       "age                                                              3.000   \n",
       "hp_kW                                                           66.000   \n",
       "Inspection_new                                                     NaN   \n",
       "Paint_Type                                                    Metallic   \n",
       "Upholstery_type                                                    NaN   \n",
       "Upholstery_color                                                   NaN   \n",
       "Displacement_cc                                               1422.000   \n",
       "Weight_kg                                                     1195.000   \n",
       "cons_comb                                                        3.800   \n",
       "cons_city                                                        4.300   \n",
       "cons_country                                                     3.500   \n",
       "CO2_Emission                                                    99.000   \n",
       "\n",
       "                                                                     4  \n",
       "make_model                                                     Audi A1  \n",
       "body_type                                                       Sedans  \n",
       "price                                                            16790  \n",
       "vat                                                                NaN  \n",
       "km                                                               16200  \n",
       "Type                                                              Used  \n",
       "Previous_Owners                                                  1.000  \n",
       "Warranty                                                           NaN  \n",
       "Nr_of_Doors                                                      5.000  \n",
       "Nr_of_Seats                                                      5.000  \n",
       "Gearing_Type                                                 Automatic  \n",
       "Cylinders                                                        3.000  \n",
       "Drive_Chain                                                      front  \n",
       "Fuel                                                            Diesel  \n",
       "Emission_Class                                                   Euro6  \n",
       "comfort_convenience  Air conditioning,Armrest,Automatic climate con...  \n",
       "entertainment_media  Bluetooth,CD player,Hands-free equipment,MP3,O...  \n",
       "Extras               Alloy wheels,Sport package,Sport suspension,Vo...  \n",
       "safety_security      ABS,Central door lock,Driver-side airbag,Elect...  \n",
       "Gears                                                              NaN  \n",
       "age                                                              3.000  \n",
       "hp_kW                                                           66.000  \n",
       "Inspection_new                                                     Yes  \n",
       "Paint_Type                                                    Metallic  \n",
       "Upholstery_type                                                  Cloth  \n",
       "Upholstery_color                                                 Black  \n",
       "Displacement_cc                                               1422.000  \n",
       "Weight_kg                                                          NaN  \n",
       "cons_comb                                                        4.100  \n",
       "cons_city                                                        4.600  \n",
       "cons_country                                                     3.800  \n",
       "CO2_Emission                                                   109.000  "
      ]
     },
     "execution_count": 6,
     "metadata": {},
     "output_type": "execute_result"
    }
   ],
   "source": [
    "df.head().T"
   ]
  },
  {
   "cell_type": "code",
   "execution_count": 7,
   "id": "e0c1e72c",
   "metadata": {},
   "outputs": [
    {
     "name": "stdout",
     "output_type": "stream",
     "text": [
      "<class 'pandas.core.frame.DataFrame'>\n",
      "Int64Index: 14244 entries, 0 to 15916\n",
      "Data columns (total 32 columns):\n",
      " #   Column               Non-Null Count  Dtype  \n",
      "---  ------               --------------  -----  \n",
      " 0   make_model           14244 non-null  object \n",
      " 1   body_type            14198 non-null  object \n",
      " 2   price                14244 non-null  int64  \n",
      " 3   vat                  10255 non-null  object \n",
      " 4   km                   14244 non-null  int64  \n",
      " 5   Type                 14242 non-null  object \n",
      " 6   Previous_Owners      8506 non-null   float64\n",
      " 7   Warranty             4267 non-null   float64\n",
      " 8   Nr_of_Doors          14104 non-null  float64\n",
      " 9   Nr_of_Seats          13392 non-null  float64\n",
      " 10  Gearing_Type         14244 non-null  object \n",
      " 11  Cylinders            9292 non-null   float64\n",
      " 12  Drive_Chain          7999 non-null   object \n",
      " 13  Fuel                 14244 non-null  object \n",
      " 14  Emission_Class       10995 non-null  object \n",
      " 15  comfort_convenience  13479 non-null  object \n",
      " 16  entertainment_media  13094 non-null  object \n",
      " 17  Extras               11720 non-null  object \n",
      " 18  safety_security      13441 non-null  object \n",
      " 19  Gears                10104 non-null  float64\n",
      " 20  age                  12923 non-null  float64\n",
      " 21  hp_kW                14244 non-null  float64\n",
      " 22  Inspection_new       3649 non-null   object \n",
      " 23  Paint_Type           9191 non-null   object \n",
      " 24  Upholstery_type      10031 non-null  object \n",
      " 25  Upholstery_color     9630 non-null   object \n",
      " 26  Displacement_cc      13882 non-null  float64\n",
      " 27  Weight_kg            7980 non-null   float64\n",
      " 28  cons_comb            12437 non-null  float64\n",
      " 29  cons_city            11974 non-null  float64\n",
      " 30  cons_country         12034 non-null  float64\n",
      " 31  CO2_Emission         12005 non-null  float64\n",
      "dtypes: float64(14), int64(2), object(16)\n",
      "memory usage: 3.6+ MB\n"
     ]
    }
   ],
   "source": [
    "df.info()"
   ]
  },
  {
   "cell_type": "code",
   "execution_count": 8,
   "id": "e2612531",
   "metadata": {},
   "outputs": [
    {
     "data": {
      "text/plain": [
       "(14244, 32)"
      ]
     },
     "execution_count": 8,
     "metadata": {},
     "output_type": "execute_result"
    }
   ],
   "source": [
    "df.shape"
   ]
  },
  {
   "cell_type": "code",
   "execution_count": 9,
   "id": "ae52520a",
   "metadata": {},
   "outputs": [
    {
     "data": {
      "text/plain": [
       "make_model                 0\n",
       "body_type                 46\n",
       "price                      0\n",
       "vat                     3989\n",
       "km                         0\n",
       "Type                       2\n",
       "Previous_Owners         5738\n",
       "Warranty                9977\n",
       "Nr_of_Doors              140\n",
       "Nr_of_Seats              852\n",
       "Gearing_Type               0\n",
       "Cylinders               4952\n",
       "Drive_Chain             6245\n",
       "Fuel                       0\n",
       "Emission_Class          3249\n",
       "comfort_convenience      765\n",
       "entertainment_media     1150\n",
       "Extras                  2524\n",
       "safety_security          803\n",
       "Gears                   4140\n",
       "age                     1321\n",
       "hp_kW                      0\n",
       "Inspection_new         10595\n",
       "Paint_Type              5053\n",
       "Upholstery_type         4213\n",
       "Upholstery_color        4614\n",
       "Displacement_cc          362\n",
       "Weight_kg               6264\n",
       "cons_comb               1807\n",
       "cons_city               2270\n",
       "cons_country            2210\n",
       "CO2_Emission            2239\n",
       "dtype: int64"
      ]
     },
     "execution_count": 9,
     "metadata": {},
     "output_type": "execute_result"
    }
   ],
   "source": [
    "df.isnull().sum()"
   ]
  },
  {
   "cell_type": "code",
   "execution_count": 10,
   "id": "fde5e3a2",
   "metadata": {},
   "outputs": [
    {
     "data": {
      "text/plain": [
       "Inspection_new        74.382\n",
       "Warranty              70.044\n",
       "Weight_kg             43.976\n",
       "Drive_Chain           43.843\n",
       "Previous_Owners       40.284\n",
       "Paint_Type            35.475\n",
       "Cylinders             34.766\n",
       "Upholstery_color      32.393\n",
       "Upholstery_type       29.577\n",
       "Gears                 29.065\n",
       "vat                   28.005\n",
       "Emission_Class        22.810\n",
       "Extras                17.720\n",
       "cons_city             15.937\n",
       "CO2_Emission          15.719\n",
       "cons_country          15.515\n",
       "cons_comb             12.686\n",
       "age                    9.274\n",
       "entertainment_media    8.074\n",
       "Nr_of_Seats            5.981\n",
       "safety_security        5.637\n",
       "comfort_convenience    5.371\n",
       "Displacement_cc        2.541\n",
       "Nr_of_Doors            0.983\n",
       "body_type              0.323\n",
       "Type                   0.014\n",
       "hp_kW                  0.000\n",
       "Fuel                   0.000\n",
       "Gearing_Type           0.000\n",
       "km                     0.000\n",
       "price                  0.000\n",
       "make_model             0.000\n",
       "dtype: float64"
      ]
     },
     "execution_count": 10,
     "metadata": {},
     "output_type": "execute_result"
    }
   ],
   "source": [
    "(df.isnull().sum()*100 / df.shape[0]).sort_values(ascending=False)    #percent of null values in columns"
   ]
  },
  {
   "cell_type": "markdown",
   "id": "35436f76",
   "metadata": {},
   "source": [
    "# Missing Data Percentage List"
   ]
  },
  {
   "cell_type": "code",
   "execution_count": 11,
   "id": "42d5760b",
   "metadata": {},
   "outputs": [
    {
     "name": "stdout",
     "output_type": "stream",
     "text": [
      "make_model - 0%\n",
      "body_type - 0%\n",
      "price - 0%\n",
      "vat - 28%\n",
      "km - 0%\n",
      "Type - 0%\n",
      "Previous_Owners - 40%\n",
      "Warranty - 70%\n",
      "Nr_of_Doors - 1%\n",
      "Nr_of_Seats - 6%\n",
      "Gearing_Type - 0%\n",
      "Cylinders - 35%\n",
      "Drive_Chain - 44%\n",
      "Fuel - 0%\n",
      "Emission_Class - 23%\n",
      "comfort_convenience - 5%\n",
      "entertainment_media - 8%\n",
      "Extras - 18%\n",
      "safety_security - 6%\n",
      "Gears - 29%\n",
      "age - 9%\n",
      "hp_kW - 0%\n",
      "Inspection_new - 74%\n",
      "Paint_Type - 35%\n",
      "Upholstery_type - 30%\n",
      "Upholstery_color - 32%\n",
      "Displacement_cc - 3%\n",
      "Weight_kg - 44%\n",
      "cons_comb - 13%\n",
      "cons_city - 16%\n",
      "cons_country - 16%\n",
      "CO2_Emission - 16%\n"
     ]
    }
   ],
   "source": [
    "# % of missing.\n",
    "for col in df.columns:\n",
    "    pct_missing = np.mean(df[col].isnull())\n",
    "    print('{} - {}%'.format(col, round(pct_missing*100)))"
   ]
  },
  {
   "cell_type": "code",
   "execution_count": 12,
   "id": "3b43d1a2",
   "metadata": {},
   "outputs": [
    {
     "data": {
      "image/png": "[encoded data removed]",
      "text/plain": [
       "<Figure size 720x432 with 1 Axes>"
      ]
     },
     "metadata": {},
     "output_type": "display_data"
    }
   ],
   "source": [
    "sns.heatmap(df.isnull(), yticklabels=False, cbar=False, cmap='viridis');"
   ]
  },
  {
   "cell_type": "markdown",
   "id": "8118fd85",
   "metadata": {},
   "source": [
    "# Columns & some helpful functions for filling columns"
   ]
  },
  {
   "cell_type": "code",
   "execution_count": 13,
   "id": "28a04b03",
   "metadata": {},
   "outputs": [
    {
     "data": {
      "text/plain": [
       "Index(['make_model', 'body_type', 'price', 'vat', 'km', 'Type',\n",
       "       'Previous_Owners', 'Warranty', 'Nr_of_Doors', 'Nr_of_Seats',\n",
       "       'Gearing_Type', 'Cylinders', 'Drive_Chain', 'Fuel', 'Emission_Class',\n",
       "       'comfort_convenience', 'entertainment_media', 'Extras',\n",
       "       'safety_security', 'Gears', 'age', 'hp_kW', 'Inspection_new',\n",
       "       'Paint_Type', 'Upholstery_type', 'Upholstery_color', 'Displacement_cc',\n",
       "       'Weight_kg', 'cons_comb', 'cons_city', 'cons_country', 'CO2_Emission'],\n",
       "      dtype='object')"
      ]
     },
     "execution_count": 13,
     "metadata": {},
     "output_type": "execute_result"
    }
   ],
   "source": [
    "df.columns"
   ]
  },
  {
   "cell_type": "code",
   "execution_count": 14,
   "id": "faca75bb",
   "metadata": {},
   "outputs": [],
   "source": [
    "# We defined a function that shows the first info of the column\n",
    "\n",
    "def info(col):\n",
    "    print(\"Column Name    : \", col)\n",
    "    print(\"--------------------------------\")\n",
    "    print(\"Number of Nulls       : \", df[col].isnull().sum())\n",
    "    print(\"Percentage of Nulls   : \", \"%\", round(df[col].isnull().sum()/df.shape[0]*100, 2))\n",
    "    print(\"Number of Uniques     : \", df[col].nunique())\n",
    "    print(\"\\n--------------------------------\")\n",
    "    print(df[col].value_counts(dropna = False))"
   ]
  },
  {
   "cell_type": "code",
   "execution_count": 15,
   "id": "c1bf1135",
   "metadata": {},
   "outputs": [],
   "source": [
    "def fillallmethod(df, group_col1, group_col2, col_name, method): # method can be \"mode\" or \"mean\" or \"ffill\"\n",
    "    if method == \"mode\":\n",
    "        for group1 in list(df[group_col1].unique()):\n",
    "            for group2 in list(df[group_col2].unique()):\n",
    "                cond1 = df[group_col1]==group1\n",
    "                cond2 = (df[group_col1]==group1) & (df[group_col2]==group2)\n",
    "                mode1 = list(df[cond1][col_name].mode())\n",
    "                mode2 = list(df[cond2][col_name].mode())\n",
    "                if mode2 != []:\n",
    "                    df.loc[cond2, col_name] = df.loc[cond2, col_name].fillna(df[cond2][col_name].mode()[0])\n",
    "                elif mode1 != []:\n",
    "                    df.loc[cond2, col_name] = df.loc[cond2, col_name].fillna(df[cond1][col_name].mode()[0])\n",
    "                else:\n",
    "                    df.loc[cond2, col_name] = df.loc[cond2, col_name].fillna(df[col_name].mode()[0])\n",
    "                \n",
    "    elif method == \"mean\":\n",
    "        for group1 in list(df[group_col1].unique()):\n",
    "            for group2 in list(df[group_col2].unique()):\n",
    "                cond1 = df[group_col1]==group1\n",
    "                cond2 = (df[group_col1]==group1) & (df[group_col2]==group2)\n",
    "                df.loc[cond2, col_name] = df.loc[cond2, col_name].fillna(df[cond2][col_name].mean()).fillna(df[cond1][col_name].mean()).fillna(df[col_name].mean())\n",
    "\n",
    "\n",
    "    elif method == \"median\":\n",
    "        for group1 in list(df[group_col1].unique()):\n",
    "            for group2 in list(df[group_col2].unique()):\n",
    "                cond1 = df[group_col1]==group1\n",
    "                cond2 = (df[group_col1]==group1) & (df[group_col2]==group2)\n",
    "                df.loc[cond2, col_name] = df.loc[cond2, col_name].fillna(df[cond2][col_name].median()).fillna(df[cond1][col_name].median()).fillna(df[col_name].mean())\n",
    "\n",
    "    elif method == \"ffill\":           \n",
    "        for group1 in list(df[group_col1].unique()):\n",
    "            for group2 in list(df[group_col2].unique()):\n",
    "                cond2 = (df[group_col1]==group1) & (df[group_col2]==group2)\n",
    "                df.loc[cond2, col_name] = df.loc[cond2, col_name].fillna(method=\"ffill\").fillna(method=\"bfill\")\n",
    "                \n",
    "        for group1 in list(df[group_col1].unique()):\n",
    "            cond1 = df[group_col1]==group1\n",
    "            df.loc[cond1, col_name] = df.loc[cond1, col_name].fillna(method=\"ffill\").fillna(method=\"bfill\")            \n",
    "           \n",
    "        df[col_name] = df[col_name].fillna(method=\"ffill\").fillna(method=\"bfill\")\n",
    "    \n",
    "    print(\"Number of NaN : \",df[col_name].isnull().sum())\n",
    "    print(\"------------------\")\n",
    "    print(df[col_name].value_counts(dropna=False))"
   ]
  },
  {
   "cell_type": "code",
   "execution_count": 16,
   "id": "cd0b04f6",
   "metadata": {},
   "outputs": [],
   "source": [
    "def fillmean(df, group_col1, col_name,method): # method can be  \"mean\" \n",
    "    if method == \"mean\":\n",
    "        for group1 in list(df[group_col1].unique()):\n",
    "            cond1 = df[group_col1]==group1\n",
    "            df.loc[cond1, col_name] = df.loc[cond1, col_name].fillna(df[cond1][col_name].mean()).fillna(df[col_name].mean())"
   ]
  },
  {
   "cell_type": "code",
   "execution_count": 17,
   "id": "babd10dd",
   "metadata": {},
   "outputs": [],
   "source": [
    "def fill_most_frq(df, group_col, col_name):\n",
    "    #Fills the missing values with the most existing value (mode) in the relevant column according to single-stage grouping\n",
    "    for group in list(df[group_col].unique()):\n",
    "        cond = df[group_col]==group\n",
    "        mode = list(df[cond][col_name].mode())\n",
    "        if mode != []:\n",
    "            df.loc[cond, col_name] = df.loc[cond, col_name].fillna(df[cond][col_name].mode()[0])\n",
    "        else:\n",
    "            df.loc[cond, col_name] = df.loc[cond, col_name].fillna(df[col_name].mode()[0])\n",
    "    print(\"Number of NaN : \",df[col_name].isnull().sum())\n",
    "    print(\"------------------\")\n",
    "    print(df[col_name].value_counts(dropna=False))"
   ]
  },
  {
   "cell_type": "code",
   "execution_count": 18,
   "id": "83e83bed",
   "metadata": {},
   "outputs": [],
   "source": [
    "def fill_prop(df, group_col, col_name):\n",
    "    #Fills the missing values with \"ffill and bfill method\" according to single-stage grouping'''\n",
    "    for group in list(df[group_col].unique()):\n",
    "        cond = df[group_col]==group\n",
    "        df.loc[cond, col_name] = df.loc[cond, col_name].fillna(method=\"ffill\").fillna(method=\"bfill\")\n",
    "    df[col_name] = df[col_name].fillna(method=\"ffill\").fillna(method=\"bfill\")\n",
    "    print(\"Number of NaN : \",df[col_name].isnull().sum())\n",
    "    print(\"------------------\")\n",
    "    print(df[col_name].value_counts(dropna=False))"
   ]
  },
  {
   "cell_type": "code",
   "execution_count": null,
   "id": "d19de917",
   "metadata": {},
   "outputs": [],
   "source": []
  },
  {
   "cell_type": "markdown",
   "id": "37f1ccff",
   "metadata": {},
   "source": [
    "## make_model"
   ]
  },
  {
   "cell_type": "code",
   "execution_count": 19,
   "id": "93cb18d4",
   "metadata": {},
   "outputs": [
    {
     "name": "stdout",
     "output_type": "stream",
     "text": [
      "Column Name    :  make_model\n",
      "--------------------------------\n",
      "Number of Nulls       :  0\n",
      "Percentage of Nulls   :  % 0.0\n",
      "Number of Uniques     :  9\n",
      "\n",
      "--------------------------------\n",
      "Audi A3           2754\n",
      "Opel Insignia     2399\n",
      "Audi A1           2378\n",
      "Opel Astra        2308\n",
      "Opel Corsa        2012\n",
      "Renault Clio      1477\n",
      "Renault Espace     881\n",
      "Renault Duster      34\n",
      "Audi A2              1\n",
      "Name: make_model, dtype: int64\n"
     ]
    }
   ],
   "source": [
    "info('make_model')"
   ]
  },
  {
   "cell_type": "markdown",
   "id": "a5e47c5f",
   "metadata": {},
   "source": [
    "## body_type"
   ]
  },
  {
   "cell_type": "code",
   "execution_count": 20,
   "id": "ec027159",
   "metadata": {},
   "outputs": [
    {
     "name": "stdout",
     "output_type": "stream",
     "text": [
      "Column Name    :  body_type\n",
      "--------------------------------\n",
      "Number of Nulls       :  46\n",
      "Percentage of Nulls   :  % 0.32\n",
      "Number of Uniques     :  9\n",
      "\n",
      "--------------------------------\n",
      "Sedans           7124\n",
      "Station wagon    3278\n",
      "Compact          2635\n",
      "Van               704\n",
      "Other             281\n",
      "Transporter        87\n",
      "Off-Road           56\n",
      "NaN                46\n",
      "Coupe              25\n",
      "Convertible         8\n",
      "Name: body_type, dtype: int64\n"
     ]
    }
   ],
   "source": [
    "info('body_type')"
   ]
  },
  {
   "cell_type": "code",
   "execution_count": 21,
   "id": "3b34d677",
   "metadata": {},
   "outputs": [
    {
     "data": {
      "text/html": [
       "<div>\n",
       "<style scoped>\n",
       "    .dataframe tbody tr th:only-of-type {\n",
       "        vertical-align: middle;\n",
       "    }\n",
       "\n",
       "    .dataframe tbody tr th {\n",
       "        vertical-align: top;\n",
       "    }\n",
       "\n",
       "    .dataframe thead th {\n",
       "        text-align: right;\n",
       "    }\n",
       "</style>\n",
       "<table border=\"1\" class=\"dataframe\">\n",
       "  <thead>\n",
       "    <tr style=\"text-align: right;\">\n",
       "      <th></th>\n",
       "      <th>make_model</th>\n",
       "      <th>body_type</th>\n",
       "      <th>price</th>\n",
       "      <th>vat</th>\n",
       "      <th>km</th>\n",
       "      <th>Type</th>\n",
       "      <th>Previous_Owners</th>\n",
       "      <th>Warranty</th>\n",
       "      <th>Nr_of_Doors</th>\n",
       "      <th>Nr_of_Seats</th>\n",
       "      <th>Gearing_Type</th>\n",
       "      <th>Cylinders</th>\n",
       "      <th>Drive_Chain</th>\n",
       "      <th>Fuel</th>\n",
       "      <th>Emission_Class</th>\n",
       "      <th>comfort_convenience</th>\n",
       "      <th>entertainment_media</th>\n",
       "      <th>Extras</th>\n",
       "      <th>safety_security</th>\n",
       "      <th>Gears</th>\n",
       "      <th>age</th>\n",
       "      <th>hp_kW</th>\n",
       "      <th>Inspection_new</th>\n",
       "      <th>Paint_Type</th>\n",
       "      <th>Upholstery_type</th>\n",
       "      <th>Upholstery_color</th>\n",
       "      <th>Displacement_cc</th>\n",
       "      <th>Weight_kg</th>\n",
       "      <th>cons_comb</th>\n",
       "      <th>cons_city</th>\n",
       "      <th>cons_country</th>\n",
       "      <th>CO2_Emission</th>\n",
       "    </tr>\n",
       "  </thead>\n",
       "  <tbody>\n",
       "    <tr>\n",
       "      <th>744</th>\n",
       "      <td>Audi A1</td>\n",
       "      <td>Other</td>\n",
       "      <td>23490</td>\n",
       "      <td>NaN</td>\n",
       "      <td>22001</td>\n",
       "      <td>Used</td>\n",
       "      <td>NaN</td>\n",
       "      <td>3.000</td>\n",
       "      <td>5.000</td>\n",
       "      <td>5.000</td>\n",
       "      <td>Semi-automatic</td>\n",
       "      <td>4.000</td>\n",
       "      <td>NaN</td>\n",
       "      <td>Benzine</td>\n",
       "      <td>NaN</td>\n",
       "      <td>Air conditioning,Automatic climate control,Cru...</td>\n",
       "      <td>CD player,On-board computer</td>\n",
       "      <td>Roof rack,Sport seats</td>\n",
       "      <td>Adaptive Cruise Control,Central door lock,Driv...</td>\n",
       "      <td>7.000</td>\n",
       "      <td>2.000</td>\n",
       "      <td>140.000</td>\n",
       "      <td>NaN</td>\n",
       "      <td>NaN</td>\n",
       "      <td>NaN</td>\n",
       "      <td>NaN</td>\n",
       "      <td>NaN</td>\n",
       "      <td>1205.000</td>\n",
       "      <td>5.800</td>\n",
       "      <td>7.400</td>\n",
       "      <td>4.900</td>\n",
       "      <td>134.000</td>\n",
       "    </tr>\n",
       "    <tr>\n",
       "      <th>1764</th>\n",
       "      <td>Audi A1</td>\n",
       "      <td>Other</td>\n",
       "      <td>16590</td>\n",
       "      <td>VAT deductible</td>\n",
       "      <td>5300</td>\n",
       "      <td>Used</td>\n",
       "      <td>1.000</td>\n",
       "      <td>NaN</td>\n",
       "      <td>5.000</td>\n",
       "      <td>5.000</td>\n",
       "      <td>Manual</td>\n",
       "      <td>3.000</td>\n",
       "      <td>front</td>\n",
       "      <td>Benzine</td>\n",
       "      <td>Euro6</td>\n",
       "      <td>Air conditioning,Automatic climate control,Ele...</td>\n",
       "      <td>Bluetooth,Hands-free equipment,On-board comput...</td>\n",
       "      <td>Alloy wheels,Cab or rented Car,Sport seats</td>\n",
       "      <td>ABS,Daytime running lights,Driver-side airbag,...</td>\n",
       "      <td>5.000</td>\n",
       "      <td>1.000</td>\n",
       "      <td>60.000</td>\n",
       "      <td>NaN</td>\n",
       "      <td>Metallic</td>\n",
       "      <td>Cloth</td>\n",
       "      <td>NaN</td>\n",
       "      <td>999.000</td>\n",
       "      <td>NaN</td>\n",
       "      <td>4.200</td>\n",
       "      <td>5.000</td>\n",
       "      <td>3.700</td>\n",
       "      <td>97.000</td>\n",
       "    </tr>\n",
       "    <tr>\n",
       "      <th>1793</th>\n",
       "      <td>Audi A1</td>\n",
       "      <td>Other</td>\n",
       "      <td>16900</td>\n",
       "      <td>VAT deductible</td>\n",
       "      <td>18950</td>\n",
       "      <td>Employee's car</td>\n",
       "      <td>1.000</td>\n",
       "      <td>NaN</td>\n",
       "      <td>5.000</td>\n",
       "      <td>4.000</td>\n",
       "      <td>Manual</td>\n",
       "      <td>4.000</td>\n",
       "      <td>front</td>\n",
       "      <td>Diesel</td>\n",
       "      <td>Euro6</td>\n",
       "      <td>Air conditioning,Armrest,Electrical side mirro...</td>\n",
       "      <td>Bluetooth,On-board computer,Radio</td>\n",
       "      <td>Alloy wheels</td>\n",
       "      <td>ABS,Central door lock,Daytime running lights,D...</td>\n",
       "      <td>5.000</td>\n",
       "      <td>1.000</td>\n",
       "      <td>85.000</td>\n",
       "      <td>NaN</td>\n",
       "      <td>Metallic</td>\n",
       "      <td>Cloth</td>\n",
       "      <td>Black</td>\n",
       "      <td>1598.000</td>\n",
       "      <td>NaN</td>\n",
       "      <td>3.800</td>\n",
       "      <td>4.600</td>\n",
       "      <td>3.300</td>\n",
       "      <td>99.000</td>\n",
       "    </tr>\n",
       "    <tr>\n",
       "      <th>1819</th>\n",
       "      <td>Audi A1</td>\n",
       "      <td>Other</td>\n",
       "      <td>16900</td>\n",
       "      <td>VAT deductible</td>\n",
       "      <td>26980</td>\n",
       "      <td>Employee's car</td>\n",
       "      <td>1.000</td>\n",
       "      <td>NaN</td>\n",
       "      <td>5.000</td>\n",
       "      <td>5.000</td>\n",
       "      <td>Manual</td>\n",
       "      <td>4.000</td>\n",
       "      <td>front</td>\n",
       "      <td>Diesel</td>\n",
       "      <td>Euro6</td>\n",
       "      <td>Air conditioning,Armrest,Electrical side mirro...</td>\n",
       "      <td>Bluetooth,CD player,Hands-free equipment,On-bo...</td>\n",
       "      <td>Alloy wheels</td>\n",
       "      <td>ABS,Central door lock,Driver-side airbag,Elect...</td>\n",
       "      <td>5.000</td>\n",
       "      <td>1.000</td>\n",
       "      <td>85.000</td>\n",
       "      <td>NaN</td>\n",
       "      <td>Metallic</td>\n",
       "      <td>Cloth</td>\n",
       "      <td>Black</td>\n",
       "      <td>1598.000</td>\n",
       "      <td>1250.000</td>\n",
       "      <td>3.800</td>\n",
       "      <td>4.600</td>\n",
       "      <td>3.300</td>\n",
       "      <td>99.000</td>\n",
       "    </tr>\n",
       "    <tr>\n",
       "      <th>2047</th>\n",
       "      <td>Audi A1</td>\n",
       "      <td>Other</td>\n",
       "      <td>26900</td>\n",
       "      <td>VAT deductible</td>\n",
       "      <td>2000</td>\n",
       "      <td>Demonstration</td>\n",
       "      <td>1.000</td>\n",
       "      <td>NaN</td>\n",
       "      <td>5.000</td>\n",
       "      <td>5.000</td>\n",
       "      <td>Automatic</td>\n",
       "      <td>3.000</td>\n",
       "      <td>front</td>\n",
       "      <td>Benzine</td>\n",
       "      <td>NaN</td>\n",
       "      <td>Air conditioning,Armrest,Automatic climate con...</td>\n",
       "      <td>Bluetooth,CD player,Hands-free equipment,MP3,O...</td>\n",
       "      <td>Alloy wheels,Catalytic Converter,Shift paddles...</td>\n",
       "      <td>ABS,Central door lock,Central door lock with r...</td>\n",
       "      <td>7.000</td>\n",
       "      <td>0.000</td>\n",
       "      <td>85.000</td>\n",
       "      <td>NaN</td>\n",
       "      <td>Metallic</td>\n",
       "      <td>Cloth</td>\n",
       "      <td>Black</td>\n",
       "      <td>999.000</td>\n",
       "      <td>NaN</td>\n",
       "      <td>4.800</td>\n",
       "      <td>5.800</td>\n",
       "      <td>4.200</td>\n",
       "      <td>108.000</td>\n",
       "    </tr>\n",
       "    <tr>\n",
       "      <th>...</th>\n",
       "      <td>...</td>\n",
       "      <td>...</td>\n",
       "      <td>...</td>\n",
       "      <td>...</td>\n",
       "      <td>...</td>\n",
       "      <td>...</td>\n",
       "      <td>...</td>\n",
       "      <td>...</td>\n",
       "      <td>...</td>\n",
       "      <td>...</td>\n",
       "      <td>...</td>\n",
       "      <td>...</td>\n",
       "      <td>...</td>\n",
       "      <td>...</td>\n",
       "      <td>...</td>\n",
       "      <td>...</td>\n",
       "      <td>...</td>\n",
       "      <td>...</td>\n",
       "      <td>...</td>\n",
       "      <td>...</td>\n",
       "      <td>...</td>\n",
       "      <td>...</td>\n",
       "      <td>...</td>\n",
       "      <td>...</td>\n",
       "      <td>...</td>\n",
       "      <td>...</td>\n",
       "      <td>...</td>\n",
       "      <td>...</td>\n",
       "      <td>...</td>\n",
       "      <td>...</td>\n",
       "      <td>...</td>\n",
       "      <td>...</td>\n",
       "    </tr>\n",
       "    <tr>\n",
       "      <th>15276</th>\n",
       "      <td>Renault Espace</td>\n",
       "      <td>Other</td>\n",
       "      <td>17500</td>\n",
       "      <td>VAT deductible</td>\n",
       "      <td>118596</td>\n",
       "      <td>Used</td>\n",
       "      <td>NaN</td>\n",
       "      <td>12.000</td>\n",
       "      <td>5.000</td>\n",
       "      <td>5.000</td>\n",
       "      <td>Automatic</td>\n",
       "      <td>4.000</td>\n",
       "      <td>front</td>\n",
       "      <td>Diesel</td>\n",
       "      <td>Euro6</td>\n",
       "      <td>Air conditioning,Armrest,Automatic climate con...</td>\n",
       "      <td>Bluetooth,Hands-free equipment,MP3,On-board co...</td>\n",
       "      <td>Alloy wheels,Sport seats,Touch screen</td>\n",
       "      <td>ABS,Central door lock,Daytime running lights,D...</td>\n",
       "      <td>6.000</td>\n",
       "      <td>3.000</td>\n",
       "      <td>118.000</td>\n",
       "      <td>NaN</td>\n",
       "      <td>Metallic</td>\n",
       "      <td>Part leather</td>\n",
       "      <td>Grey</td>\n",
       "      <td>1598.000</td>\n",
       "      <td>1734.000</td>\n",
       "      <td>4.700</td>\n",
       "      <td>5.100</td>\n",
       "      <td>4.400</td>\n",
       "      <td>120.000</td>\n",
       "    </tr>\n",
       "    <tr>\n",
       "      <th>15302</th>\n",
       "      <td>Renault Espace</td>\n",
       "      <td>Other</td>\n",
       "      <td>42681</td>\n",
       "      <td>VAT deductible</td>\n",
       "      <td>14900</td>\n",
       "      <td>Demonstration</td>\n",
       "      <td>1.000</td>\n",
       "      <td>NaN</td>\n",
       "      <td>5.000</td>\n",
       "      <td>7.000</td>\n",
       "      <td>Manual</td>\n",
       "      <td>NaN</td>\n",
       "      <td>front</td>\n",
       "      <td>Benzine</td>\n",
       "      <td>Euro6</td>\n",
       "      <td>Air conditioning,Automatic climate control,Cru...</td>\n",
       "      <td>Bluetooth,CD player,Hands-free equipment,Radio</td>\n",
       "      <td>Alloy wheels,Sport suspension</td>\n",
       "      <td>ABS,Blind spot monitor,Central door lock,Dayti...</td>\n",
       "      <td>NaN</td>\n",
       "      <td>0.000</td>\n",
       "      <td>165.000</td>\n",
       "      <td>Yes</td>\n",
       "      <td>Metallic</td>\n",
       "      <td>Full leather</td>\n",
       "      <td>Brown</td>\n",
       "      <td>1798.000</td>\n",
       "      <td>NaN</td>\n",
       "      <td>7.400</td>\n",
       "      <td>9.100</td>\n",
       "      <td>6.300</td>\n",
       "      <td>168.000</td>\n",
       "    </tr>\n",
       "    <tr>\n",
       "      <th>15303</th>\n",
       "      <td>Renault Espace</td>\n",
       "      <td>Other</td>\n",
       "      <td>32900</td>\n",
       "      <td>NaN</td>\n",
       "      <td>19600</td>\n",
       "      <td>Used</td>\n",
       "      <td>NaN</td>\n",
       "      <td>12.000</td>\n",
       "      <td>NaN</td>\n",
       "      <td>NaN</td>\n",
       "      <td>Manual</td>\n",
       "      <td>NaN</td>\n",
       "      <td>NaN</td>\n",
       "      <td>Diesel</td>\n",
       "      <td>NaN</td>\n",
       "      <td>Air conditioning,Automatic climate control,Ele...</td>\n",
       "      <td>NaN</td>\n",
       "      <td>NaN</td>\n",
       "      <td>NaN</td>\n",
       "      <td>NaN</td>\n",
       "      <td>3.000</td>\n",
       "      <td>0.000</td>\n",
       "      <td>NaN</td>\n",
       "      <td>NaN</td>\n",
       "      <td>NaN</td>\n",
       "      <td>NaN</td>\n",
       "      <td>NaN</td>\n",
       "      <td>NaN</td>\n",
       "      <td>NaN</td>\n",
       "      <td>NaN</td>\n",
       "      <td>NaN</td>\n",
       "      <td>NaN</td>\n",
       "    </tr>\n",
       "    <tr>\n",
       "      <th>15353</th>\n",
       "      <td>Renault Espace</td>\n",
       "      <td>Other</td>\n",
       "      <td>27900</td>\n",
       "      <td>VAT deductible</td>\n",
       "      <td>76591</td>\n",
       "      <td>Used</td>\n",
       "      <td>NaN</td>\n",
       "      <td>NaN</td>\n",
       "      <td>5.000</td>\n",
       "      <td>7.000</td>\n",
       "      <td>Automatic</td>\n",
       "      <td>4.000</td>\n",
       "      <td>NaN</td>\n",
       "      <td>Diesel</td>\n",
       "      <td>Euro6</td>\n",
       "      <td>Air conditioning,Armrest,Automatic climate con...</td>\n",
       "      <td>On-board computer</td>\n",
       "      <td>Alloy wheels</td>\n",
       "      <td>ABS,Central door lock,Driver-side airbag,Elect...</td>\n",
       "      <td>6.000</td>\n",
       "      <td>2.000</td>\n",
       "      <td>118.000</td>\n",
       "      <td>NaN</td>\n",
       "      <td>Metallic</td>\n",
       "      <td>Part leather</td>\n",
       "      <td>Black</td>\n",
       "      <td>1598.000</td>\n",
       "      <td>1635.000</td>\n",
       "      <td>4.600</td>\n",
       "      <td>5.000</td>\n",
       "      <td>4.400</td>\n",
       "      <td>120.000</td>\n",
       "    </tr>\n",
       "    <tr>\n",
       "      <th>15788</th>\n",
       "      <td>Renault Espace</td>\n",
       "      <td>Other</td>\n",
       "      <td>34000</td>\n",
       "      <td>VAT deductible</td>\n",
       "      <td>15000</td>\n",
       "      <td>Used</td>\n",
       "      <td>NaN</td>\n",
       "      <td>NaN</td>\n",
       "      <td>5.000</td>\n",
       "      <td>5.000</td>\n",
       "      <td>Automatic</td>\n",
       "      <td>4.000</td>\n",
       "      <td>front</td>\n",
       "      <td>Diesel</td>\n",
       "      <td>Euro6</td>\n",
       "      <td>Air conditioning,Automatic climate control,Cru...</td>\n",
       "      <td>Bluetooth,On-board computer,Radio</td>\n",
       "      <td>Touch screen</td>\n",
       "      <td>ABS,Central door lock,Daytime running lights,D...</td>\n",
       "      <td>6.000</td>\n",
       "      <td>1.000</td>\n",
       "      <td>118.000</td>\n",
       "      <td>NaN</td>\n",
       "      <td>Uni/basic</td>\n",
       "      <td>Full leather</td>\n",
       "      <td>Beige</td>\n",
       "      <td>1598.000</td>\n",
       "      <td>1809.000</td>\n",
       "      <td>4.700</td>\n",
       "      <td>5.100</td>\n",
       "      <td>4.400</td>\n",
       "      <td>120.000</td>\n",
       "    </tr>\n",
       "  </tbody>\n",
       "</table>\n",
       "<p>281 rows × 32 columns</p>\n",
       "</div>"
      ],
      "text/plain": [
       "           make_model body_type  price             vat      km  \\\n",
       "744           Audi A1     Other  23490             NaN   22001   \n",
       "1764          Audi A1     Other  16590  VAT deductible    5300   \n",
       "1793          Audi A1     Other  16900  VAT deductible   18950   \n",
       "1819          Audi A1     Other  16900  VAT deductible   26980   \n",
       "2047          Audi A1     Other  26900  VAT deductible    2000   \n",
       "...               ...       ...    ...             ...     ...   \n",
       "15276  Renault Espace     Other  17500  VAT deductible  118596   \n",
       "15302  Renault Espace     Other  42681  VAT deductible   14900   \n",
       "15303  Renault Espace     Other  32900             NaN   19600   \n",
       "15353  Renault Espace     Other  27900  VAT deductible   76591   \n",
       "15788  Renault Espace     Other  34000  VAT deductible   15000   \n",
       "\n",
       "                 Type  Previous_Owners  Warranty  Nr_of_Doors  Nr_of_Seats  \\\n",
       "744              Used              NaN     3.000        5.000        5.000   \n",
       "1764             Used            1.000       NaN        5.000        5.000   \n",
       "1793   Employee's car            1.000       NaN        5.000        4.000   \n",
       "1819   Employee's car            1.000       NaN        5.000        5.000   \n",
       "2047    Demonstration            1.000       NaN        5.000        5.000   \n",
       "...               ...              ...       ...          ...          ...   \n",
       "15276            Used              NaN    12.000        5.000        5.000   \n",
       "15302   Demonstration            1.000       NaN        5.000        7.000   \n",
       "15303            Used              NaN    12.000          NaN          NaN   \n",
       "15353            Used              NaN       NaN        5.000        7.000   \n",
       "15788            Used              NaN       NaN        5.000        5.000   \n",
       "\n",
       "         Gearing_Type  Cylinders Drive_Chain     Fuel Emission_Class  \\\n",
       "744    Semi-automatic      4.000         NaN  Benzine            NaN   \n",
       "1764           Manual      3.000       front  Benzine          Euro6   \n",
       "1793           Manual      4.000       front   Diesel          Euro6   \n",
       "1819           Manual      4.000       front   Diesel          Euro6   \n",
       "2047        Automatic      3.000       front  Benzine            NaN   \n",
       "...               ...        ...         ...      ...            ...   \n",
       "15276       Automatic      4.000       front   Diesel          Euro6   \n",
       "15302          Manual        NaN       front  Benzine          Euro6   \n",
       "15303          Manual        NaN         NaN   Diesel            NaN   \n",
       "15353       Automatic      4.000         NaN   Diesel          Euro6   \n",
       "15788       Automatic      4.000       front   Diesel          Euro6   \n",
       "\n",
       "                                     comfort_convenience  \\\n",
       "744    Air conditioning,Automatic climate control,Cru...   \n",
       "1764   Air conditioning,Automatic climate control,Ele...   \n",
       "1793   Air conditioning,Armrest,Electrical side mirro...   \n",
       "1819   Air conditioning,Armrest,Electrical side mirro...   \n",
       "2047   Air conditioning,Armrest,Automatic climate con...   \n",
       "...                                                  ...   \n",
       "15276  Air conditioning,Armrest,Automatic climate con...   \n",
       "15302  Air conditioning,Automatic climate control,Cru...   \n",
       "15303  Air conditioning,Automatic climate control,Ele...   \n",
       "15353  Air conditioning,Armrest,Automatic climate con...   \n",
       "15788  Air conditioning,Automatic climate control,Cru...   \n",
       "\n",
       "                                     entertainment_media  \\\n",
       "744                          CD player,On-board computer   \n",
       "1764   Bluetooth,Hands-free equipment,On-board comput...   \n",
       "1793                   Bluetooth,On-board computer,Radio   \n",
       "1819   Bluetooth,CD player,Hands-free equipment,On-bo...   \n",
       "2047   Bluetooth,CD player,Hands-free equipment,MP3,O...   \n",
       "...                                                  ...   \n",
       "15276  Bluetooth,Hands-free equipment,MP3,On-board co...   \n",
       "15302     Bluetooth,CD player,Hands-free equipment,Radio   \n",
       "15303                                                NaN   \n",
       "15353                                  On-board computer   \n",
       "15788                  Bluetooth,On-board computer,Radio   \n",
       "\n",
       "                                                  Extras  \\\n",
       "744                                Roof rack,Sport seats   \n",
       "1764          Alloy wheels,Cab or rented Car,Sport seats   \n",
       "1793                                        Alloy wheels   \n",
       "1819                                        Alloy wheels   \n",
       "2047   Alloy wheels,Catalytic Converter,Shift paddles...   \n",
       "...                                                  ...   \n",
       "15276              Alloy wheels,Sport seats,Touch screen   \n",
       "15302                      Alloy wheels,Sport suspension   \n",
       "15303                                                NaN   \n",
       "15353                                       Alloy wheels   \n",
       "15788                                       Touch screen   \n",
       "\n",
       "                                         safety_security  Gears   age   hp_kW  \\\n",
       "744    Adaptive Cruise Control,Central door lock,Driv...  7.000 2.000 140.000   \n",
       "1764   ABS,Daytime running lights,Driver-side airbag,...  5.000 1.000  60.000   \n",
       "1793   ABS,Central door lock,Daytime running lights,D...  5.000 1.000  85.000   \n",
       "1819   ABS,Central door lock,Driver-side airbag,Elect...  5.000 1.000  85.000   \n",
       "2047   ABS,Central door lock,Central door lock with r...  7.000 0.000  85.000   \n",
       "...                                                  ...    ...   ...     ...   \n",
       "15276  ABS,Central door lock,Daytime running lights,D...  6.000 3.000 118.000   \n",
       "15302  ABS,Blind spot monitor,Central door lock,Dayti...    NaN 0.000 165.000   \n",
       "15303                                                NaN    NaN 3.000   0.000   \n",
       "15353  ABS,Central door lock,Driver-side airbag,Elect...  6.000 2.000 118.000   \n",
       "15788  ABS,Central door lock,Daytime running lights,D...  6.000 1.000 118.000   \n",
       "\n",
       "      Inspection_new Paint_Type Upholstery_type Upholstery_color  \\\n",
       "744              NaN        NaN             NaN              NaN   \n",
       "1764             NaN   Metallic           Cloth              NaN   \n",
       "1793             NaN   Metallic           Cloth            Black   \n",
       "1819             NaN   Metallic           Cloth            Black   \n",
       "2047             NaN   Metallic           Cloth            Black   \n",
       "...              ...        ...             ...              ...   \n",
       "15276            NaN   Metallic    Part leather             Grey   \n",
       "15302            Yes   Metallic    Full leather            Brown   \n",
       "15303            NaN        NaN             NaN              NaN   \n",
       "15353            NaN   Metallic    Part leather            Black   \n",
       "15788            NaN  Uni/basic    Full leather            Beige   \n",
       "\n",
       "       Displacement_cc  Weight_kg  cons_comb  cons_city  cons_country  \\\n",
       "744                NaN   1205.000      5.800      7.400         4.900   \n",
       "1764           999.000        NaN      4.200      5.000         3.700   \n",
       "1793          1598.000        NaN      3.800      4.600         3.300   \n",
       "1819          1598.000   1250.000      3.800      4.600         3.300   \n",
       "2047           999.000        NaN      4.800      5.800         4.200   \n",
       "...                ...        ...        ...        ...           ...   \n",
       "15276         1598.000   1734.000      4.700      5.100         4.400   \n",
       "15302         1798.000        NaN      7.400      9.100         6.300   \n",
       "15303              NaN        NaN        NaN        NaN           NaN   \n",
       "15353         1598.000   1635.000      4.600      5.000         4.400   \n",
       "15788         1598.000   1809.000      4.700      5.100         4.400   \n",
       "\n",
       "       CO2_Emission  \n",
       "744         134.000  \n",
       "1764         97.000  \n",
       "1793         99.000  \n",
       "1819         99.000  \n",
       "2047        108.000  \n",
       "...             ...  \n",
       "15276       120.000  \n",
       "15302       168.000  \n",
       "15303           NaN  \n",
       "15353       120.000  \n",
       "15788       120.000  \n",
       "\n",
       "[281 rows x 32 columns]"
      ]
     },
     "execution_count": 21,
     "metadata": {},
     "output_type": "execute_result"
    }
   ],
   "source": [
    "df[df.body_type=='Other']"
   ]
  },
  {
   "cell_type": "code",
   "execution_count": 22,
   "id": "2971e657",
   "metadata": {},
   "outputs": [],
   "source": [
    "df.body_type.replace('Other', np.nan, inplace=True)"
   ]
  },
  {
   "cell_type": "code",
   "execution_count": 23,
   "id": "32368f0e",
   "metadata": {},
   "outputs": [
    {
     "data": {
      "text/plain": [
       "Sedans           7124\n",
       "Station wagon    3278\n",
       "Compact          2635\n",
       "Van               704\n",
       "NaN               327\n",
       "Transporter        87\n",
       "Off-Road           56\n",
       "Coupe              25\n",
       "Convertible         8\n",
       "Name: body_type, dtype: int64"
      ]
     },
     "execution_count": 23,
     "metadata": {},
     "output_type": "execute_result"
    }
   ],
   "source": [
    "df.body_type.value_counts(dropna=False)"
   ]
  },
  {
   "cell_type": "code",
   "execution_count": 24,
   "id": "be05c746",
   "metadata": {},
   "outputs": [
    {
     "name": "stdout",
     "output_type": "stream",
     "text": [
      "Number of NaN :  0\n",
      "------------------\n",
      "Sedans           7217\n",
      "Station wagon    3396\n",
      "Compact          2723\n",
      "Van               732\n",
      "Transporter        87\n",
      "Off-Road           56\n",
      "Coupe              25\n",
      "Convertible         8\n",
      "Name: body_type, dtype: int64\n"
     ]
    }
   ],
   "source": [
    "fill_most_frq(df, \"make_model\", \"body_type\")"
   ]
  },
  {
   "cell_type": "code",
   "execution_count": 25,
   "id": "8da88064",
   "metadata": {},
   "outputs": [
    {
     "data": {
      "text/plain": [
       "Sedans           7217\n",
       "Station wagon    3396\n",
       "Compact          2723\n",
       "Van               732\n",
       "Transporter        87\n",
       "Off-Road           56\n",
       "Coupe              25\n",
       "Convertible         8\n",
       "Name: body_type, dtype: int64"
      ]
     },
     "execution_count": 25,
     "metadata": {},
     "output_type": "execute_result"
    }
   ],
   "source": [
    "df.body_type.value_counts(dropna=False)"
   ]
  },
  {
   "cell_type": "markdown",
   "id": "c165d29a",
   "metadata": {},
   "source": [
    "## price"
   ]
  },
  {
   "cell_type": "code",
   "execution_count": 26,
   "id": "ed948a82",
   "metadata": {},
   "outputs": [
    {
     "name": "stdout",
     "output_type": "stream",
     "text": [
      "Column Name    :  price\n",
      "--------------------------------\n",
      "Number of Nulls       :  0\n",
      "Percentage of Nulls   :  % 0.0\n",
      "Number of Uniques     :  2956\n",
      "\n",
      "--------------------------------\n",
      "14990    123\n",
      "15990    121\n",
      "15900    105\n",
      "17990    100\n",
      "10990     95\n",
      "        ... \n",
      "23620      1\n",
      "23755      1\n",
      "23740      1\n",
      "23845      1\n",
      "39875      1\n",
      "Name: price, Length: 2956, dtype: int64\n"
     ]
    }
   ],
   "source": [
    "info('price')"
   ]
  },
  {
   "cell_type": "markdown",
   "id": "187db766",
   "metadata": {},
   "source": [
    "## vat"
   ]
  },
  {
   "cell_type": "code",
   "execution_count": 27,
   "id": "6f04a675",
   "metadata": {},
   "outputs": [
    {
     "name": "stdout",
     "output_type": "stream",
     "text": [
      "Column Name    :  vat\n",
      "--------------------------------\n",
      "Number of Nulls       :  3989\n",
      "Percentage of Nulls   :  % 28.0\n",
      "Number of Uniques     :  2\n",
      "\n",
      "--------------------------------\n",
      "VAT deductible      9830\n",
      "NaN                 3989\n",
      "Price negotiable     425\n",
      "Name: vat, dtype: int64\n"
     ]
    }
   ],
   "source": [
    "info('vat')"
   ]
  },
  {
   "cell_type": "code",
   "execution_count": 28,
   "id": "2c8dbf7e",
   "metadata": {
    "scrolled": true
   },
   "outputs": [
    {
     "data": {
      "text/plain": [
       "VAT deductible      9830\n",
       "NaN                 3989\n",
       "Price negotiable     425\n",
       "Name: vat, dtype: int64"
      ]
     },
     "execution_count": 28,
     "metadata": {},
     "output_type": "execute_result"
    }
   ],
   "source": [
    "df.vat.value_counts(dropna=False)"
   ]
  },
  {
   "cell_type": "code",
   "execution_count": 29,
   "id": "fca915d3",
   "metadata": {},
   "outputs": [
    {
     "name": "stdout",
     "output_type": "stream",
     "text": [
      "Number of NaN :  224\n",
      "------------------\n",
      "VAT deductible      13303\n",
      "Price negotiable      717\n",
      "NaN                   224\n",
      "Name: vat, dtype: int64\n"
     ]
    }
   ],
   "source": [
    "fillallmethod(df, \"price\",\"age\",\"vat\", \"mode\")"
   ]
  },
  {
   "cell_type": "code",
   "execution_count": 30,
   "id": "000b3992",
   "metadata": {},
   "outputs": [],
   "source": [
    "df.drop('vat', axis=1, inplace=True) #the both columns vat and price have same proportion in ratio, that's why we can drop it."
   ]
  },
  {
   "cell_type": "markdown",
   "id": "c907803c",
   "metadata": {},
   "source": [
    "## age"
   ]
  },
  {
   "cell_type": "code",
   "execution_count": 31,
   "id": "b77f4205",
   "metadata": {},
   "outputs": [
    {
     "name": "stdout",
     "output_type": "stream",
     "text": [
      "Column Name    :  age\n",
      "--------------------------------\n",
      "Number of Nulls       :  1321\n",
      "Percentage of Nulls   :  % 9.27\n",
      "Number of Uniques     :  4\n",
      "\n",
      "--------------------------------\n",
      "1.000    4281\n",
      "3.000    3316\n",
      "2.000    2899\n",
      "0.000    2427\n",
      "NaN      1321\n",
      "Name: age, dtype: int64\n"
     ]
    }
   ],
   "source": [
    "info('age')"
   ]
  },
  {
   "cell_type": "code",
   "execution_count": 32,
   "id": "d2abd1bf",
   "metadata": {},
   "outputs": [],
   "source": [
    "df['age'].fillna('-', inplace=True)"
   ]
  },
  {
   "cell_type": "code",
   "execution_count": 33,
   "id": "09fc206c",
   "metadata": {},
   "outputs": [
    {
     "data": {
      "text/plain": [
       "age  km   \n",
       "0.0  10       443\n",
       "     0        132\n",
       "     1        130\n",
       "     50        92\n",
       "     5000      79\n",
       "             ... \n",
       "-    68485      1\n",
       "     81800      1\n",
       "     85000      1\n",
       "     89692      1\n",
       "     89982      1\n",
       "Name: km, Length: 7519, dtype: int64"
      ]
     },
     "execution_count": 33,
     "metadata": {},
     "output_type": "execute_result"
    }
   ],
   "source": [
    "df.groupby('age').km.value_counts(dropna=False)"
   ]
  },
  {
   "cell_type": "code",
   "execution_count": 34,
   "id": "27c3fb95",
   "metadata": {},
   "outputs": [
    {
     "data": {
      "text/plain": [
       "0        729\n",
       "10       253\n",
       "1        138\n",
       "5         50\n",
       "20        24\n",
       "15        20\n",
       "8         11\n",
       "11        10\n",
       "50        10\n",
       "100        8\n",
       "7          7\n",
       "12         6\n",
       "3          4\n",
       "9          4\n",
       "25         3\n",
       "30         3\n",
       "4          3\n",
       "3000       2\n",
       "2          2\n",
       "22627      2\n",
       "325        1\n",
       "250        1\n",
       "89982      1\n",
       "11000      1\n",
       "6100       1\n",
       "40         1\n",
       "77         1\n",
       "99         1\n",
       "19500      1\n",
       "4307       1\n",
       "500        1\n",
       "3500       1\n",
       "89692      1\n",
       "784        1\n",
       "497        1\n",
       "196        1\n",
       "20768      1\n",
       "150        1\n",
       "34164      1\n",
       "4500       1\n",
       "32084      1\n",
       "39962      1\n",
       "142        1\n",
       "81800      1\n",
       "6          1\n",
       "68485      1\n",
       "85000      1\n",
       "281        1\n",
       "60         1\n",
       "11200      1\n",
       "141        1\n",
       "5000       1\n",
       "Name: km, dtype: int64"
      ]
     },
     "execution_count": 34,
     "metadata": {},
     "output_type": "execute_result"
    }
   ],
   "source": [
    "df[df[\"age\"] == \"-\"][\"km\"].value_counts(dropna=False)"
   ]
  },
  {
   "cell_type": "code",
   "execution_count": 35,
   "id": "63754d8e",
   "metadata": {},
   "outputs": [],
   "source": [
    "cond1 = (df['km'] < 10000)\n",
    "cond2 = ((df['km'] >= 10000) & (df['km'] < 28000))\n",
    "cond3 = ((df['km'] >= 28000) & (df['km'] < 50000))\n",
    "cond4 = (df['km'] >= 50000)"
   ]
  },
  {
   "cell_type": "code",
   "execution_count": 36,
   "id": "bd41eda8",
   "metadata": {},
   "outputs": [],
   "source": [
    "df.loc[cond1,'age'] = df.loc[cond1,'age'].replace('-', 0)\n",
    "df.loc[cond2,'age'] = df.loc[cond2,'age'].replace('-', 1)\n",
    "df.loc[cond3,'age'] = df.loc[cond3,'age'].replace('-', 2)\n",
    "df.loc[cond4,'age'] = df.loc[cond4,'age'].replace('-', 3)"
   ]
  },
  {
   "cell_type": "code",
   "execution_count": 37,
   "id": "e6e72066",
   "metadata": {},
   "outputs": [
    {
     "data": {
      "text/plain": [
       "age\n",
       "0.000    1480.715\n",
       "1.000   17940.846\n",
       "2.000   42277.721\n",
       "3.000   76602.034\n",
       "Name: km, dtype: float64"
      ]
     },
     "execution_count": 37,
     "metadata": {},
     "output_type": "execute_result"
    }
   ],
   "source": [
    "df.groupby('age').km.mean()"
   ]
  },
  {
   "cell_type": "code",
   "execution_count": 38,
   "id": "5b7fbc0c",
   "metadata": {},
   "outputs": [
    {
     "data": {
      "text/plain": [
       "1.000    4287\n",
       "0.000    3734\n",
       "3.000    3321\n",
       "2.000    2902\n",
       "Name: age, dtype: int64"
      ]
     },
     "execution_count": 38,
     "metadata": {},
     "output_type": "execute_result"
    }
   ],
   "source": [
    "df[\"age\"].value_counts(dropna=False)"
   ]
  },
  {
   "cell_type": "code",
   "execution_count": 39,
   "id": "777223a2",
   "metadata": {},
   "outputs": [
    {
     "data": {
      "text/html": [
       "<div>\n",
       "<style scoped>\n",
       "    .dataframe tbody tr th:only-of-type {\n",
       "        vertical-align: middle;\n",
       "    }\n",
       "\n",
       "    .dataframe tbody tr th {\n",
       "        vertical-align: top;\n",
       "    }\n",
       "\n",
       "    .dataframe thead th {\n",
       "        text-align: right;\n",
       "    }\n",
       "</style>\n",
       "<table border=\"1\" class=\"dataframe\">\n",
       "  <thead>\n",
       "    <tr style=\"text-align: right;\">\n",
       "      <th></th>\n",
       "      <th></th>\n",
       "      <th></th>\n",
       "      <th>count</th>\n",
       "      <th>mean</th>\n",
       "      <th>std</th>\n",
       "      <th>min</th>\n",
       "      <th>25%</th>\n",
       "      <th>50%</th>\n",
       "      <th>75%</th>\n",
       "      <th>max</th>\n",
       "    </tr>\n",
       "    <tr>\n",
       "      <th>make_model</th>\n",
       "      <th>body_type</th>\n",
       "      <th>age</th>\n",
       "      <th></th>\n",
       "      <th></th>\n",
       "      <th></th>\n",
       "      <th></th>\n",
       "      <th></th>\n",
       "      <th></th>\n",
       "      <th></th>\n",
       "      <th></th>\n",
       "    </tr>\n",
       "  </thead>\n",
       "  <tbody>\n",
       "    <tr>\n",
       "      <th rowspan=\"5\" valign=\"top\">Audi A1</th>\n",
       "      <th rowspan=\"4\" valign=\"top\">Compact</th>\n",
       "      <th>0.000</th>\n",
       "      <td>291.000</td>\n",
       "      <td>23605.113</td>\n",
       "      <td>3440.826</td>\n",
       "      <td>14900.000</td>\n",
       "      <td>21145.000</td>\n",
       "      <td>22750.000</td>\n",
       "      <td>26980.000</td>\n",
       "      <td>31990.000</td>\n",
       "    </tr>\n",
       "    <tr>\n",
       "      <th>1.000</th>\n",
       "      <td>260.000</td>\n",
       "      <td>18551.104</td>\n",
       "      <td>2645.427</td>\n",
       "      <td>13980.000</td>\n",
       "      <td>16445.000</td>\n",
       "      <td>16969.000</td>\n",
       "      <td>20950.000</td>\n",
       "      <td>23829.000</td>\n",
       "    </tr>\n",
       "    <tr>\n",
       "      <th>2.000</th>\n",
       "      <td>132.000</td>\n",
       "      <td>16681.402</td>\n",
       "      <td>2217.591</td>\n",
       "      <td>10999.000</td>\n",
       "      <td>15437.500</td>\n",
       "      <td>15900.000</td>\n",
       "      <td>17970.000</td>\n",
       "      <td>22150.000</td>\n",
       "    </tr>\n",
       "    <tr>\n",
       "      <th>3.000</th>\n",
       "      <td>208.000</td>\n",
       "      <td>14475.774</td>\n",
       "      <td>2017.945</td>\n",
       "      <td>9950.000</td>\n",
       "      <td>13372.500</td>\n",
       "      <td>13947.500</td>\n",
       "      <td>15859.750</td>\n",
       "      <td>18900.000</td>\n",
       "    </tr>\n",
       "    <tr>\n",
       "      <th>Coupe</th>\n",
       "      <th>2.000</th>\n",
       "      <td>1.000</td>\n",
       "      <td>15900.000</td>\n",
       "      <td>NaN</td>\n",
       "      <td>15900.000</td>\n",
       "      <td>15900.000</td>\n",
       "      <td>15900.000</td>\n",
       "      <td>15900.000</td>\n",
       "      <td>15900.000</td>\n",
       "    </tr>\n",
       "    <tr>\n",
       "      <th>...</th>\n",
       "      <th>...</th>\n",
       "      <th>...</th>\n",
       "      <td>...</td>\n",
       "      <td>...</td>\n",
       "      <td>...</td>\n",
       "      <td>...</td>\n",
       "      <td>...</td>\n",
       "      <td>...</td>\n",
       "      <td>...</td>\n",
       "      <td>...</td>\n",
       "    </tr>\n",
       "    <tr>\n",
       "      <th rowspan=\"5\" valign=\"top\">Renault Espace</th>\n",
       "      <th>Transporter</th>\n",
       "      <th>3.000</th>\n",
       "      <td>37.000</td>\n",
       "      <td>21124.297</td>\n",
       "      <td>3279.229</td>\n",
       "      <td>14999.000</td>\n",
       "      <td>19000.000</td>\n",
       "      <td>20500.000</td>\n",
       "      <td>24200.000</td>\n",
       "      <td>30000.000</td>\n",
       "    </tr>\n",
       "    <tr>\n",
       "      <th rowspan=\"4\" valign=\"top\">Van</th>\n",
       "      <th>0.000</th>\n",
       "      <td>212.000</td>\n",
       "      <td>40293.160</td>\n",
       "      <td>8088.592</td>\n",
       "      <td>24200.000</td>\n",
       "      <td>33931.250</td>\n",
       "      <td>39030.000</td>\n",
       "      <td>45990.000</td>\n",
       "      <td>68320.000</td>\n",
       "    </tr>\n",
       "    <tr>\n",
       "      <th>1.000</th>\n",
       "      <td>204.000</td>\n",
       "      <td>31921.627</td>\n",
       "      <td>4076.114</td>\n",
       "      <td>23099.000</td>\n",
       "      <td>29385.000</td>\n",
       "      <td>31940.000</td>\n",
       "      <td>34990.000</td>\n",
       "      <td>38990.000</td>\n",
       "    </tr>\n",
       "    <tr>\n",
       "      <th>2.000</th>\n",
       "      <td>110.000</td>\n",
       "      <td>26837.545</td>\n",
       "      <td>3732.463</td>\n",
       "      <td>14600.000</td>\n",
       "      <td>24722.500</td>\n",
       "      <td>27189.500</td>\n",
       "      <td>28986.250</td>\n",
       "      <td>33800.000</td>\n",
       "    </tr>\n",
       "    <tr>\n",
       "      <th>3.000</th>\n",
       "      <td>201.000</td>\n",
       "      <td>22223.090</td>\n",
       "      <td>3308.265</td>\n",
       "      <td>12614.000</td>\n",
       "      <td>19900.000</td>\n",
       "      <td>22390.000</td>\n",
       "      <td>24750.000</td>\n",
       "      <td>32900.000</td>\n",
       "    </tr>\n",
       "  </tbody>\n",
       "</table>\n",
       "<p>126 rows × 8 columns</p>\n",
       "</div>"
      ],
      "text/plain": [
       "                                   count      mean      std       min  \\\n",
       "make_model     body_type   age                                          \n",
       "Audi A1        Compact     0.000 291.000 23605.113 3440.826 14900.000   \n",
       "                           1.000 260.000 18551.104 2645.427 13980.000   \n",
       "                           2.000 132.000 16681.402 2217.591 10999.000   \n",
       "                           3.000 208.000 14475.774 2017.945  9950.000   \n",
       "               Coupe       2.000   1.000 15900.000      NaN 15900.000   \n",
       "...                                  ...       ...      ...       ...   \n",
       "Renault Espace Transporter 3.000  37.000 21124.297 3279.229 14999.000   \n",
       "               Van         0.000 212.000 40293.160 8088.592 24200.000   \n",
       "                           1.000 204.000 31921.627 4076.114 23099.000   \n",
       "                           2.000 110.000 26837.545 3732.463 14600.000   \n",
       "                           3.000 201.000 22223.090 3308.265 12614.000   \n",
       "\n",
       "                                       25%       50%       75%       max  \n",
       "make_model     body_type   age                                            \n",
       "Audi A1        Compact     0.000 21145.000 22750.000 26980.000 31990.000  \n",
       "                           1.000 16445.000 16969.000 20950.000 23829.000  \n",
       "                           2.000 15437.500 15900.000 17970.000 22150.000  \n",
       "                           3.000 13372.500 13947.500 15859.750 18900.000  \n",
       "               Coupe       2.000 15900.000 15900.000 15900.000 15900.000  \n",
       "...                                    ...       ...       ...       ...  \n",
       "Renault Espace Transporter 3.000 19000.000 20500.000 24200.000 30000.000  \n",
       "               Van         0.000 33931.250 39030.000 45990.000 68320.000  \n",
       "                           1.000 29385.000 31940.000 34990.000 38990.000  \n",
       "                           2.000 24722.500 27189.500 28986.250 33800.000  \n",
       "                           3.000 19900.000 22390.000 24750.000 32900.000  \n",
       "\n",
       "[126 rows x 8 columns]"
      ]
     },
     "execution_count": 39,
     "metadata": {},
     "output_type": "execute_result"
    }
   ],
   "source": [
    "df.groupby(['make_model',\"body_type\", 'age']).price.describe()"
   ]
  },
  {
   "cell_type": "code",
   "execution_count": 40,
   "id": "5c6e90e6",
   "metadata": {},
   "outputs": [],
   "source": [
    "df['age'].replace('-', 0, inplace=True)"
   ]
  },
  {
   "cell_type": "code",
   "execution_count": 41,
   "id": "a90f3de8",
   "metadata": {},
   "outputs": [
    {
     "data": {
      "text/plain": [
       "age\n",
       "0.000    1480.715\n",
       "1.000   17940.846\n",
       "2.000   42277.721\n",
       "3.000   76602.034\n",
       "Name: km, dtype: float64"
      ]
     },
     "execution_count": 41,
     "metadata": {},
     "output_type": "execute_result"
    }
   ],
   "source": [
    "df.groupby('age').km.mean()"
   ]
  },
  {
   "cell_type": "code",
   "execution_count": 42,
   "id": "f737333f",
   "metadata": {},
   "outputs": [
    {
     "data": {
      "text/plain": [
       "1.000    4287\n",
       "0.000    3734\n",
       "3.000    3321\n",
       "2.000    2902\n",
       "Name: age, dtype: int64"
      ]
     },
     "execution_count": 42,
     "metadata": {},
     "output_type": "execute_result"
    }
   ],
   "source": [
    "df[\"age\"].value_counts(dropna=False)"
   ]
  },
  {
   "cell_type": "markdown",
   "id": "334c1c08",
   "metadata": {},
   "source": [
    "## km"
   ]
  },
  {
   "cell_type": "code",
   "execution_count": 43,
   "id": "234675e1",
   "metadata": {},
   "outputs": [
    {
     "name": "stdout",
     "output_type": "stream",
     "text": [
      "Column Name    :  km\n",
      "--------------------------------\n",
      "Number of Nulls       :  0\n",
      "Percentage of Nulls   :  % 0.0\n",
      "Number of Uniques     :  6689\n",
      "\n",
      "--------------------------------\n",
      "0       896\n",
      "10      759\n",
      "1       289\n",
      "5       132\n",
      "50      118\n",
      "       ... \n",
      "3806      1\n",
      "6300      1\n",
      "126       1\n",
      "3339      1\n",
      "57        1\n",
      "Name: km, Length: 6689, dtype: int64\n"
     ]
    }
   ],
   "source": [
    "info('km')"
   ]
  },
  {
   "cell_type": "markdown",
   "id": "f43acdfb",
   "metadata": {},
   "source": [
    "## Type"
   ]
  },
  {
   "cell_type": "code",
   "execution_count": 44,
   "id": "ca0a4d20",
   "metadata": {},
   "outputs": [
    {
     "name": "stdout",
     "output_type": "stream",
     "text": [
      "Column Name    :  Type\n",
      "--------------------------------\n",
      "Number of Nulls       :  2\n",
      "Percentage of Nulls   :  % 0.01\n",
      "Number of Uniques     :  5\n",
      "\n",
      "--------------------------------\n",
      "Used              10155\n",
      "New                1370\n",
      "Pre-registered     1044\n",
      "Employee's car      904\n",
      "Demonstration       769\n",
      "NaN                   2\n",
      "Name: Type, dtype: int64\n"
     ]
    }
   ],
   "source": [
    "info('Type')"
   ]
  },
  {
   "cell_type": "code",
   "execution_count": 45,
   "id": "aff3606e",
   "metadata": {},
   "outputs": [
    {
     "name": "stdout",
     "output_type": "stream",
     "text": [
      "Number of NaN :  0\n",
      "------------------\n",
      "Used              10156\n",
      "New                1370\n",
      "Pre-registered     1045\n",
      "Employee's car      904\n",
      "Demonstration       769\n",
      "Name: Type, dtype: int64\n"
     ]
    }
   ],
   "source": [
    "fill_most_frq(df, 'price', 'Type')"
   ]
  },
  {
   "cell_type": "code",
   "execution_count": 46,
   "id": "cb9322e9",
   "metadata": {},
   "outputs": [
    {
     "data": {
      "text/plain": [
       "Used              10156\n",
       "New                1370\n",
       "Pre-registered     1045\n",
       "Employee's car      904\n",
       "Demonstration       769\n",
       "Name: Type, dtype: int64"
      ]
     },
     "execution_count": 46,
     "metadata": {},
     "output_type": "execute_result"
    }
   ],
   "source": [
    "df.Type.value_counts(dropna=False)"
   ]
  },
  {
   "cell_type": "markdown",
   "id": "d23c4577",
   "metadata": {},
   "source": [
    "## Previous_Owners"
   ]
  },
  {
   "cell_type": "code",
   "execution_count": 47,
   "id": "f12caa0d",
   "metadata": {},
   "outputs": [
    {
     "name": "stdout",
     "output_type": "stream",
     "text": [
      "Column Name    :  Previous_Owners\n",
      "--------------------------------\n",
      "Number of Nulls       :  5738\n",
      "Percentage of Nulls   :  % 40.28\n",
      "Number of Uniques     :  5\n",
      "\n",
      "--------------------------------\n",
      "1.000    7667\n",
      "NaN      5738\n",
      "2.000     642\n",
      "0.000     178\n",
      "3.000      17\n",
      "4.000       2\n",
      "Name: Previous_Owners, dtype: int64\n"
     ]
    }
   ],
   "source": [
    "info('Previous_Owners')"
   ]
  },
  {
   "cell_type": "code",
   "execution_count": 48,
   "id": "97c9dd6f",
   "metadata": {},
   "outputs": [],
   "source": [
    "df['Previous_Owners'].fillna('-', inplace = True)"
   ]
  },
  {
   "cell_type": "code",
   "execution_count": 49,
   "id": "e6fae803",
   "metadata": {},
   "outputs": [
    {
     "data": {
      "text/plain": [
       "1.0    7667\n",
       "-      5738\n",
       "2.0     642\n",
       "0.0     178\n",
       "3.0      17\n",
       "4.0       2\n",
       "Name: Previous_Owners, dtype: int64"
      ]
     },
     "execution_count": 49,
     "metadata": {},
     "output_type": "execute_result"
    }
   ],
   "source": [
    "df.Previous_Owners.value_counts(dropna=False)"
   ]
  },
  {
   "cell_type": "code",
   "execution_count": 50,
   "id": "bdaf5bd8",
   "metadata": {},
   "outputs": [],
   "source": [
    "df['Previous_Owners'].replace('-', np.nan, inplace=True)"
   ]
  },
  {
   "cell_type": "code",
   "execution_count": 51,
   "id": "87ae7369",
   "metadata": {},
   "outputs": [
    {
     "data": {
      "text/html": [
       "<div>\n",
       "<style scoped>\n",
       "    .dataframe tbody tr th:only-of-type {\n",
       "        vertical-align: middle;\n",
       "    }\n",
       "\n",
       "    .dataframe tbody tr th {\n",
       "        vertical-align: top;\n",
       "    }\n",
       "\n",
       "    .dataframe thead th {\n",
       "        text-align: right;\n",
       "    }\n",
       "</style>\n",
       "<table border=\"1\" class=\"dataframe\">\n",
       "  <thead>\n",
       "    <tr style=\"text-align: right;\">\n",
       "      <th></th>\n",
       "      <th></th>\n",
       "      <th></th>\n",
       "      <th></th>\n",
       "      <th>count</th>\n",
       "      <th>mean</th>\n",
       "      <th>std</th>\n",
       "      <th>min</th>\n",
       "      <th>25%</th>\n",
       "      <th>50%</th>\n",
       "      <th>75%</th>\n",
       "      <th>max</th>\n",
       "    </tr>\n",
       "    <tr>\n",
       "      <th>make_model</th>\n",
       "      <th>body_type</th>\n",
       "      <th>age</th>\n",
       "      <th>Previous_Owners</th>\n",
       "      <th></th>\n",
       "      <th></th>\n",
       "      <th></th>\n",
       "      <th></th>\n",
       "      <th></th>\n",
       "      <th></th>\n",
       "      <th></th>\n",
       "      <th></th>\n",
       "    </tr>\n",
       "  </thead>\n",
       "  <tbody>\n",
       "    <tr>\n",
       "      <th rowspan=\"5\" valign=\"top\">Audi A1</th>\n",
       "      <th rowspan=\"5\" valign=\"top\">Compact</th>\n",
       "      <th rowspan=\"3\" valign=\"top\">0.000</th>\n",
       "      <th>0.000</th>\n",
       "      <td>11.000</td>\n",
       "      <td>22466.273</td>\n",
       "      <td>2298.725</td>\n",
       "      <td>19490.000</td>\n",
       "      <td>21299.500</td>\n",
       "      <td>22400.000</td>\n",
       "      <td>22720.000</td>\n",
       "      <td>28650.000</td>\n",
       "    </tr>\n",
       "    <tr>\n",
       "      <th>1.000</th>\n",
       "      <td>76.000</td>\n",
       "      <td>23484.500</td>\n",
       "      <td>3444.173</td>\n",
       "      <td>14900.000</td>\n",
       "      <td>21450.000</td>\n",
       "      <td>22900.000</td>\n",
       "      <td>26210.000</td>\n",
       "      <td>29179.000</td>\n",
       "    </tr>\n",
       "    <tr>\n",
       "      <th>2.000</th>\n",
       "      <td>1.000</td>\n",
       "      <td>21760.000</td>\n",
       "      <td>NaN</td>\n",
       "      <td>21760.000</td>\n",
       "      <td>21760.000</td>\n",
       "      <td>21760.000</td>\n",
       "      <td>21760.000</td>\n",
       "      <td>21760.000</td>\n",
       "    </tr>\n",
       "    <tr>\n",
       "      <th rowspan=\"2\" valign=\"top\">1.000</th>\n",
       "      <th>1.000</th>\n",
       "      <td>192.000</td>\n",
       "      <td>18110.318</td>\n",
       "      <td>2390.177</td>\n",
       "      <td>13980.000</td>\n",
       "      <td>16430.000</td>\n",
       "      <td>16930.000</td>\n",
       "      <td>19988.500</td>\n",
       "      <td>23829.000</td>\n",
       "    </tr>\n",
       "    <tr>\n",
       "      <th>2.000</th>\n",
       "      <td>5.000</td>\n",
       "      <td>19261.800</td>\n",
       "      <td>2528.799</td>\n",
       "      <td>16960.000</td>\n",
       "      <td>16980.000</td>\n",
       "      <td>18470.000</td>\n",
       "      <td>21949.000</td>\n",
       "      <td>21950.000</td>\n",
       "    </tr>\n",
       "    <tr>\n",
       "      <th>...</th>\n",
       "      <th>...</th>\n",
       "      <th>...</th>\n",
       "      <th>...</th>\n",
       "      <td>...</td>\n",
       "      <td>...</td>\n",
       "      <td>...</td>\n",
       "      <td>...</td>\n",
       "      <td>...</td>\n",
       "      <td>...</td>\n",
       "      <td>...</td>\n",
       "      <td>...</td>\n",
       "    </tr>\n",
       "    <tr>\n",
       "      <th rowspan=\"5\" valign=\"top\">Renault Espace</th>\n",
       "      <th rowspan=\"5\" valign=\"top\">Van</th>\n",
       "      <th rowspan=\"2\" valign=\"top\">2.000</th>\n",
       "      <th>1.000</th>\n",
       "      <td>29.000</td>\n",
       "      <td>25965.172</td>\n",
       "      <td>3687.371</td>\n",
       "      <td>16950.000</td>\n",
       "      <td>23990.000</td>\n",
       "      <td>26990.000</td>\n",
       "      <td>28900.000</td>\n",
       "      <td>31775.000</td>\n",
       "    </tr>\n",
       "    <tr>\n",
       "      <th>2.000</th>\n",
       "      <td>11.000</td>\n",
       "      <td>27272.091</td>\n",
       "      <td>3605.443</td>\n",
       "      <td>19450.000</td>\n",
       "      <td>25570.000</td>\n",
       "      <td>27289.000</td>\n",
       "      <td>28925.000</td>\n",
       "      <td>33285.000</td>\n",
       "    </tr>\n",
       "    <tr>\n",
       "      <th rowspan=\"3\" valign=\"top\">3.000</th>\n",
       "      <th>0.000</th>\n",
       "      <td>1.000</td>\n",
       "      <td>24900.000</td>\n",
       "      <td>NaN</td>\n",
       "      <td>24900.000</td>\n",
       "      <td>24900.000</td>\n",
       "      <td>24900.000</td>\n",
       "      <td>24900.000</td>\n",
       "      <td>24900.000</td>\n",
       "    </tr>\n",
       "    <tr>\n",
       "      <th>1.000</th>\n",
       "      <td>100.000</td>\n",
       "      <td>21678.720</td>\n",
       "      <td>3571.088</td>\n",
       "      <td>12614.000</td>\n",
       "      <td>19009.750</td>\n",
       "      <td>21982.500</td>\n",
       "      <td>24637.500</td>\n",
       "      <td>27900.000</td>\n",
       "    </tr>\n",
       "    <tr>\n",
       "      <th>2.000</th>\n",
       "      <td>14.000</td>\n",
       "      <td>23641.000</td>\n",
       "      <td>2699.715</td>\n",
       "      <td>19490.000</td>\n",
       "      <td>21474.250</td>\n",
       "      <td>23495.000</td>\n",
       "      <td>25933.750</td>\n",
       "      <td>27900.000</td>\n",
       "    </tr>\n",
       "  </tbody>\n",
       "</table>\n",
       "<p>211 rows × 8 columns</p>\n",
       "</div>"
      ],
      "text/plain": [
       "                                                 count      mean      std  \\\n",
       "make_model     body_type age   Previous_Owners                              \n",
       "Audi A1        Compact   0.000 0.000            11.000 22466.273 2298.725   \n",
       "                               1.000            76.000 23484.500 3444.173   \n",
       "                               2.000             1.000 21760.000      NaN   \n",
       "                         1.000 1.000           192.000 18110.318 2390.177   \n",
       "                               2.000             5.000 19261.800 2528.799   \n",
       "...                                                ...       ...      ...   \n",
       "Renault Espace Van       2.000 1.000            29.000 25965.172 3687.371   \n",
       "                               2.000            11.000 27272.091 3605.443   \n",
       "                         3.000 0.000             1.000 24900.000      NaN   \n",
       "                               1.000           100.000 21678.720 3571.088   \n",
       "                               2.000            14.000 23641.000 2699.715   \n",
       "\n",
       "                                                     min       25%       50%  \\\n",
       "make_model     body_type age   Previous_Owners                                 \n",
       "Audi A1        Compact   0.000 0.000           19490.000 21299.500 22400.000   \n",
       "                               1.000           14900.000 21450.000 22900.000   \n",
       "                               2.000           21760.000 21760.000 21760.000   \n",
       "                         1.000 1.000           13980.000 16430.000 16930.000   \n",
       "                               2.000           16960.000 16980.000 18470.000   \n",
       "...                                                  ...       ...       ...   \n",
       "Renault Espace Van       2.000 1.000           16950.000 23990.000 26990.000   \n",
       "                               2.000           19450.000 25570.000 27289.000   \n",
       "                         3.000 0.000           24900.000 24900.000 24900.000   \n",
       "                               1.000           12614.000 19009.750 21982.500   \n",
       "                               2.000           19490.000 21474.250 23495.000   \n",
       "\n",
       "                                                     75%       max  \n",
       "make_model     body_type age   Previous_Owners                      \n",
       "Audi A1        Compact   0.000 0.000           22720.000 28650.000  \n",
       "                               1.000           26210.000 29179.000  \n",
       "                               2.000           21760.000 21760.000  \n",
       "                         1.000 1.000           19988.500 23829.000  \n",
       "                               2.000           21949.000 21950.000  \n",
       "...                                                  ...       ...  \n",
       "Renault Espace Van       2.000 1.000           28900.000 31775.000  \n",
       "                               2.000           28925.000 33285.000  \n",
       "                         3.000 0.000           24900.000 24900.000  \n",
       "                               1.000           24637.500 27900.000  \n",
       "                               2.000           25933.750 27900.000  \n",
       "\n",
       "[211 rows x 8 columns]"
      ]
     },
     "execution_count": 51,
     "metadata": {},
     "output_type": "execute_result"
    }
   ],
   "source": [
    "df.groupby(['make_model', 'body_type', 'age', 'Previous_Owners']).price.describe()"
   ]
  },
  {
   "cell_type": "code",
   "execution_count": 52,
   "id": "b422d0c4",
   "metadata": {},
   "outputs": [
    {
     "data": {
      "text/html": [
       "<div>\n",
       "<style scoped>\n",
       "    .dataframe tbody tr th:only-of-type {\n",
       "        vertical-align: middle;\n",
       "    }\n",
       "\n",
       "    .dataframe tbody tr th {\n",
       "        vertical-align: top;\n",
       "    }\n",
       "\n",
       "    .dataframe thead th {\n",
       "        text-align: right;\n",
       "    }\n",
       "</style>\n",
       "<table border=\"1\" class=\"dataframe\">\n",
       "  <thead>\n",
       "    <tr style=\"text-align: right;\">\n",
       "      <th></th>\n",
       "      <th></th>\n",
       "      <th></th>\n",
       "      <th></th>\n",
       "      <th>count</th>\n",
       "      <th>mean</th>\n",
       "      <th>std</th>\n",
       "      <th>min</th>\n",
       "      <th>25%</th>\n",
       "      <th>50%</th>\n",
       "      <th>75%</th>\n",
       "      <th>max</th>\n",
       "    </tr>\n",
       "    <tr>\n",
       "      <th>make_model</th>\n",
       "      <th>body_type</th>\n",
       "      <th>age</th>\n",
       "      <th>Previous_Owners</th>\n",
       "      <th></th>\n",
       "      <th></th>\n",
       "      <th></th>\n",
       "      <th></th>\n",
       "      <th></th>\n",
       "      <th></th>\n",
       "      <th></th>\n",
       "      <th></th>\n",
       "    </tr>\n",
       "  </thead>\n",
       "  <tbody>\n",
       "    <tr>\n",
       "      <th rowspan=\"5\" valign=\"top\">Audi A1</th>\n",
       "      <th rowspan=\"5\" valign=\"top\">Compact</th>\n",
       "      <th rowspan=\"3\" valign=\"top\">0.000</th>\n",
       "      <th>0.000</th>\n",
       "      <td>11.000</td>\n",
       "      <td>2.727</td>\n",
       "      <td>4.921</td>\n",
       "      <td>0.000</td>\n",
       "      <td>0.000</td>\n",
       "      <td>0.000</td>\n",
       "      <td>4.000</td>\n",
       "      <td>15.000</td>\n",
       "    </tr>\n",
       "    <tr>\n",
       "      <th>1.000</th>\n",
       "      <td>76.000</td>\n",
       "      <td>4326.553</td>\n",
       "      <td>3360.385</td>\n",
       "      <td>1.000</td>\n",
       "      <td>2425.000</td>\n",
       "      <td>3500.000</td>\n",
       "      <td>6000.000</td>\n",
       "      <td>14900.000</td>\n",
       "    </tr>\n",
       "    <tr>\n",
       "      <th>2.000</th>\n",
       "      <td>1.000</td>\n",
       "      <td>3000.000</td>\n",
       "      <td>NaN</td>\n",
       "      <td>3000.000</td>\n",
       "      <td>3000.000</td>\n",
       "      <td>3000.000</td>\n",
       "      <td>3000.000</td>\n",
       "      <td>3000.000</td>\n",
       "    </tr>\n",
       "    <tr>\n",
       "      <th rowspan=\"2\" valign=\"top\">1.000</th>\n",
       "      <th>1.000</th>\n",
       "      <td>192.000</td>\n",
       "      <td>13914.026</td>\n",
       "      <td>8400.783</td>\n",
       "      <td>973.000</td>\n",
       "      <td>6694.250</td>\n",
       "      <td>11202.500</td>\n",
       "      <td>22285.000</td>\n",
       "      <td>33360.000</td>\n",
       "    </tr>\n",
       "    <tr>\n",
       "      <th>2.000</th>\n",
       "      <td>5.000</td>\n",
       "      <td>10160.000</td>\n",
       "      <td>1844.722</td>\n",
       "      <td>7500.000</td>\n",
       "      <td>9500.000</td>\n",
       "      <td>10000.000</td>\n",
       "      <td>11800.000</td>\n",
       "      <td>12000.000</td>\n",
       "    </tr>\n",
       "    <tr>\n",
       "      <th>...</th>\n",
       "      <th>...</th>\n",
       "      <th>...</th>\n",
       "      <th>...</th>\n",
       "      <td>...</td>\n",
       "      <td>...</td>\n",
       "      <td>...</td>\n",
       "      <td>...</td>\n",
       "      <td>...</td>\n",
       "      <td>...</td>\n",
       "      <td>...</td>\n",
       "      <td>...</td>\n",
       "    </tr>\n",
       "    <tr>\n",
       "      <th rowspan=\"5\" valign=\"top\">Renault Espace</th>\n",
       "      <th rowspan=\"5\" valign=\"top\">Van</th>\n",
       "      <th rowspan=\"2\" valign=\"top\">2.000</th>\n",
       "      <th>1.000</th>\n",
       "      <td>29.000</td>\n",
       "      <td>41765.034</td>\n",
       "      <td>26330.052</td>\n",
       "      <td>10400.000</td>\n",
       "      <td>20862.000</td>\n",
       "      <td>31501.000</td>\n",
       "      <td>52285.000</td>\n",
       "      <td>113100.000</td>\n",
       "    </tr>\n",
       "    <tr>\n",
       "      <th>2.000</th>\n",
       "      <td>11.000</td>\n",
       "      <td>29364.545</td>\n",
       "      <td>14182.392</td>\n",
       "      <td>5600.000</td>\n",
       "      <td>18000.000</td>\n",
       "      <td>31221.000</td>\n",
       "      <td>39000.000</td>\n",
       "      <td>49606.000</td>\n",
       "    </tr>\n",
       "    <tr>\n",
       "      <th rowspan=\"3\" valign=\"top\">3.000</th>\n",
       "      <th>0.000</th>\n",
       "      <td>1.000</td>\n",
       "      <td>91883.000</td>\n",
       "      <td>NaN</td>\n",
       "      <td>91883.000</td>\n",
       "      <td>91883.000</td>\n",
       "      <td>91883.000</td>\n",
       "      <td>91883.000</td>\n",
       "      <td>91883.000</td>\n",
       "    </tr>\n",
       "    <tr>\n",
       "      <th>1.000</th>\n",
       "      <td>100.000</td>\n",
       "      <td>78350.720</td>\n",
       "      <td>37367.590</td>\n",
       "      <td>3532.000</td>\n",
       "      <td>53058.000</td>\n",
       "      <td>75000.000</td>\n",
       "      <td>96081.250</td>\n",
       "      <td>197414.000</td>\n",
       "    </tr>\n",
       "    <tr>\n",
       "      <th>2.000</th>\n",
       "      <td>14.000</td>\n",
       "      <td>52909.643</td>\n",
       "      <td>14193.461</td>\n",
       "      <td>26450.000</td>\n",
       "      <td>44350.000</td>\n",
       "      <td>51972.500</td>\n",
       "      <td>63921.250</td>\n",
       "      <td>72118.000</td>\n",
       "    </tr>\n",
       "  </tbody>\n",
       "</table>\n",
       "<p>211 rows × 8 columns</p>\n",
       "</div>"
      ],
      "text/plain": [
       "                                                 count      mean       std  \\\n",
       "make_model     body_type age   Previous_Owners                               \n",
       "Audi A1        Compact   0.000 0.000            11.000     2.727     4.921   \n",
       "                               1.000            76.000  4326.553  3360.385   \n",
       "                               2.000             1.000  3000.000       NaN   \n",
       "                         1.000 1.000           192.000 13914.026  8400.783   \n",
       "                               2.000             5.000 10160.000  1844.722   \n",
       "...                                                ...       ...       ...   \n",
       "Renault Espace Van       2.000 1.000            29.000 41765.034 26330.052   \n",
       "                               2.000            11.000 29364.545 14182.392   \n",
       "                         3.000 0.000             1.000 91883.000       NaN   \n",
       "                               1.000           100.000 78350.720 37367.590   \n",
       "                               2.000            14.000 52909.643 14193.461   \n",
       "\n",
       "                                                     min       25%       50%  \\\n",
       "make_model     body_type age   Previous_Owners                                 \n",
       "Audi A1        Compact   0.000 0.000               0.000     0.000     0.000   \n",
       "                               1.000               1.000  2425.000  3500.000   \n",
       "                               2.000            3000.000  3000.000  3000.000   \n",
       "                         1.000 1.000             973.000  6694.250 11202.500   \n",
       "                               2.000            7500.000  9500.000 10000.000   \n",
       "...                                                  ...       ...       ...   \n",
       "Renault Espace Van       2.000 1.000           10400.000 20862.000 31501.000   \n",
       "                               2.000            5600.000 18000.000 31221.000   \n",
       "                         3.000 0.000           91883.000 91883.000 91883.000   \n",
       "                               1.000            3532.000 53058.000 75000.000   \n",
       "                               2.000           26450.000 44350.000 51972.500   \n",
       "\n",
       "                                                     75%        max  \n",
       "make_model     body_type age   Previous_Owners                       \n",
       "Audi A1        Compact   0.000 0.000               4.000     15.000  \n",
       "                               1.000            6000.000  14900.000  \n",
       "                               2.000            3000.000   3000.000  \n",
       "                         1.000 1.000           22285.000  33360.000  \n",
       "                               2.000           11800.000  12000.000  \n",
       "...                                                  ...        ...  \n",
       "Renault Espace Van       2.000 1.000           52285.000 113100.000  \n",
       "                               2.000           39000.000  49606.000  \n",
       "                         3.000 0.000           91883.000  91883.000  \n",
       "                               1.000           96081.250 197414.000  \n",
       "                               2.000           63921.250  72118.000  \n",
       "\n",
       "[211 rows x 8 columns]"
      ]
     },
     "execution_count": 52,
     "metadata": {},
     "output_type": "execute_result"
    }
   ],
   "source": [
    "df.groupby(['make_model', 'body_type', 'age', 'Previous_Owners']).km.describe()"
   ]
  },
  {
   "cell_type": "code",
   "execution_count": 53,
   "id": "f60575e3",
   "metadata": {},
   "outputs": [
    {
     "name": "stdout",
     "output_type": "stream",
     "text": [
      "Number of NaN :  0\n",
      "------------------\n",
      "1.000    12705\n",
      "2.000     1008\n",
      "0.000      499\n",
      "3.000       30\n",
      "4.000        2\n",
      "Name: Previous_Owners, dtype: int64\n"
     ]
    }
   ],
   "source": [
    "fill_prop(df, \"age\", \"Previous_Owners\")"
   ]
  },
  {
   "cell_type": "code",
   "execution_count": 54,
   "id": "2a996274",
   "metadata": {},
   "outputs": [
    {
     "data": {
      "text/plain": [
       "1.000    12705\n",
       "2.000     1008\n",
       "0.000      499\n",
       "3.000       30\n",
       "4.000        2\n",
       "Name: Previous_Owners, dtype: int64"
      ]
     },
     "execution_count": 54,
     "metadata": {},
     "output_type": "execute_result"
    }
   ],
   "source": [
    "df.Previous_Owners.value_counts(dropna=False)"
   ]
  },
  {
   "cell_type": "markdown",
   "id": "da0a1f32",
   "metadata": {},
   "source": [
    "## Warranty"
   ]
  },
  {
   "cell_type": "code",
   "execution_count": 55,
   "id": "0916ffe5",
   "metadata": {},
   "outputs": [
    {
     "name": "stdout",
     "output_type": "stream",
     "text": [
      "Column Name    :  Warranty\n",
      "--------------------------------\n",
      "Number of Nulls       :  9977\n",
      "Percentage of Nulls   :  % 70.04\n",
      "Number of Uniques     :  41\n",
      "\n",
      "--------------------------------\n",
      "NaN       9977\n",
      "12.000    2245\n",
      "24.000    1010\n",
      "60.000     391\n",
      "36.000     178\n",
      "48.000     133\n",
      "6.000      125\n",
      "72.000      59\n",
      "3.000       33\n",
      "18.000      10\n",
      "23.000      10\n",
      "20.000       7\n",
      "25.000       6\n",
      "2.000        5\n",
      "50.000       4\n",
      "16.000       4\n",
      "4.000        3\n",
      "1.000        3\n",
      "19.000       3\n",
      "34.000       3\n",
      "26.000       3\n",
      "13.000       3\n",
      "28.000       2\n",
      "22.000       2\n",
      "14.000       2\n",
      "11.000       2\n",
      "46.000       2\n",
      "21.000       2\n",
      "9.000        2\n",
      "17.000       2\n",
      "45.000       2\n",
      "33.000       1\n",
      "40.000       1\n",
      "65.000       1\n",
      "10.000       1\n",
      "15.000       1\n",
      "7.000        1\n",
      "8.000        1\n",
      "56.000       1\n",
      "49.000       1\n",
      "47.000       1\n",
      "30.000       1\n",
      "Name: Warranty, dtype: int64\n"
     ]
    }
   ],
   "source": [
    "info('Warranty')"
   ]
  },
  {
   "cell_type": "code",
   "execution_count": 56,
   "id": "1f26c10f",
   "metadata": {},
   "outputs": [
    {
     "data": {
      "text/html": [
       "<div>\n",
       "<style scoped>\n",
       "    .dataframe tbody tr th:only-of-type {\n",
       "        vertical-align: middle;\n",
       "    }\n",
       "\n",
       "    .dataframe tbody tr th {\n",
       "        vertical-align: top;\n",
       "    }\n",
       "\n",
       "    .dataframe thead th {\n",
       "        text-align: right;\n",
       "    }\n",
       "</style>\n",
       "<table border=\"1\" class=\"dataframe\">\n",
       "  <thead>\n",
       "    <tr style=\"text-align: right;\">\n",
       "      <th></th>\n",
       "      <th>count</th>\n",
       "      <th>mean</th>\n",
       "      <th>std</th>\n",
       "      <th>min</th>\n",
       "      <th>25%</th>\n",
       "      <th>50%</th>\n",
       "      <th>75%</th>\n",
       "      <th>max</th>\n",
       "    </tr>\n",
       "    <tr>\n",
       "      <th>Warranty</th>\n",
       "      <th></th>\n",
       "      <th></th>\n",
       "      <th></th>\n",
       "      <th></th>\n",
       "      <th></th>\n",
       "      <th></th>\n",
       "      <th></th>\n",
       "      <th></th>\n",
       "    </tr>\n",
       "  </thead>\n",
       "  <tbody>\n",
       "    <tr>\n",
       "      <th>1.000</th>\n",
       "      <td>3.000</td>\n",
       "      <td>18383.333</td>\n",
       "      <td>4269.292</td>\n",
       "      <td>13455.000</td>\n",
       "      <td>17100.000</td>\n",
       "      <td>20745.000</td>\n",
       "      <td>20847.500</td>\n",
       "      <td>20950.000</td>\n",
       "    </tr>\n",
       "    <tr>\n",
       "      <th>2.000</th>\n",
       "      <td>5.000</td>\n",
       "      <td>14604.000</td>\n",
       "      <td>2709.369</td>\n",
       "      <td>10750.000</td>\n",
       "      <td>12990.000</td>\n",
       "      <td>15290.000</td>\n",
       "      <td>16990.000</td>\n",
       "      <td>17000.000</td>\n",
       "    </tr>\n",
       "    <tr>\n",
       "      <th>3.000</th>\n",
       "      <td>33.000</td>\n",
       "      <td>16278.212</td>\n",
       "      <td>8782.362</td>\n",
       "      <td>5800.000</td>\n",
       "      <td>8900.000</td>\n",
       "      <td>14950.000</td>\n",
       "      <td>17990.000</td>\n",
       "      <td>39990.000</td>\n",
       "    </tr>\n",
       "    <tr>\n",
       "      <th>4.000</th>\n",
       "      <td>3.000</td>\n",
       "      <td>19666.667</td>\n",
       "      <td>7922.331</td>\n",
       "      <td>11200.000</td>\n",
       "      <td>16050.000</td>\n",
       "      <td>20900.000</td>\n",
       "      <td>23900.000</td>\n",
       "      <td>26900.000</td>\n",
       "    </tr>\n",
       "    <tr>\n",
       "      <th>6.000</th>\n",
       "      <td>125.000</td>\n",
       "      <td>14608.704</td>\n",
       "      <td>6033.523</td>\n",
       "      <td>5900.000</td>\n",
       "      <td>8790.000</td>\n",
       "      <td>13990.000</td>\n",
       "      <td>18900.000</td>\n",
       "      <td>33800.000</td>\n",
       "    </tr>\n",
       "    <tr>\n",
       "      <th>7.000</th>\n",
       "      <td>1.000</td>\n",
       "      <td>21480.000</td>\n",
       "      <td>NaN</td>\n",
       "      <td>21480.000</td>\n",
       "      <td>21480.000</td>\n",
       "      <td>21480.000</td>\n",
       "      <td>21480.000</td>\n",
       "      <td>21480.000</td>\n",
       "    </tr>\n",
       "    <tr>\n",
       "      <th>8.000</th>\n",
       "      <td>1.000</td>\n",
       "      <td>17500.000</td>\n",
       "      <td>NaN</td>\n",
       "      <td>17500.000</td>\n",
       "      <td>17500.000</td>\n",
       "      <td>17500.000</td>\n",
       "      <td>17500.000</td>\n",
       "      <td>17500.000</td>\n",
       "    </tr>\n",
       "    <tr>\n",
       "      <th>9.000</th>\n",
       "      <td>2.000</td>\n",
       "      <td>10797.500</td>\n",
       "      <td>0.707</td>\n",
       "      <td>10797.000</td>\n",
       "      <td>10797.250</td>\n",
       "      <td>10797.500</td>\n",
       "      <td>10797.750</td>\n",
       "      <td>10798.000</td>\n",
       "    </tr>\n",
       "    <tr>\n",
       "      <th>10.000</th>\n",
       "      <td>1.000</td>\n",
       "      <td>19990.000</td>\n",
       "      <td>NaN</td>\n",
       "      <td>19990.000</td>\n",
       "      <td>19990.000</td>\n",
       "      <td>19990.000</td>\n",
       "      <td>19990.000</td>\n",
       "      <td>19990.000</td>\n",
       "    </tr>\n",
       "    <tr>\n",
       "      <th>11.000</th>\n",
       "      <td>2.000</td>\n",
       "      <td>20897.000</td>\n",
       "      <td>8341.032</td>\n",
       "      <td>14999.000</td>\n",
       "      <td>17948.000</td>\n",
       "      <td>20897.000</td>\n",
       "      <td>23846.000</td>\n",
       "      <td>26795.000</td>\n",
       "    </tr>\n",
       "    <tr>\n",
       "      <th>12.000</th>\n",
       "      <td>2245.000</td>\n",
       "      <td>15799.616</td>\n",
       "      <td>5965.835</td>\n",
       "      <td>5250.000</td>\n",
       "      <td>11000.000</td>\n",
       "      <td>14990.000</td>\n",
       "      <td>18999.000</td>\n",
       "      <td>51900.000</td>\n",
       "    </tr>\n",
       "    <tr>\n",
       "      <th>13.000</th>\n",
       "      <td>3.000</td>\n",
       "      <td>16746.667</td>\n",
       "      <td>6298.137</td>\n",
       "      <td>9500.000</td>\n",
       "      <td>14670.000</td>\n",
       "      <td>19840.000</td>\n",
       "      <td>20370.000</td>\n",
       "      <td>20900.000</td>\n",
       "    </tr>\n",
       "    <tr>\n",
       "      <th>14.000</th>\n",
       "      <td>2.000</td>\n",
       "      <td>24990.000</td>\n",
       "      <td>1414.214</td>\n",
       "      <td>23990.000</td>\n",
       "      <td>24490.000</td>\n",
       "      <td>24990.000</td>\n",
       "      <td>25490.000</td>\n",
       "      <td>25990.000</td>\n",
       "    </tr>\n",
       "    <tr>\n",
       "      <th>15.000</th>\n",
       "      <td>1.000</td>\n",
       "      <td>21450.000</td>\n",
       "      <td>NaN</td>\n",
       "      <td>21450.000</td>\n",
       "      <td>21450.000</td>\n",
       "      <td>21450.000</td>\n",
       "      <td>21450.000</td>\n",
       "      <td>21450.000</td>\n",
       "    </tr>\n",
       "    <tr>\n",
       "      <th>16.000</th>\n",
       "      <td>4.000</td>\n",
       "      <td>24730.750</td>\n",
       "      <td>11677.217</td>\n",
       "      <td>10893.000</td>\n",
       "      <td>18960.750</td>\n",
       "      <td>24570.000</td>\n",
       "      <td>30340.000</td>\n",
       "      <td>38890.000</td>\n",
       "    </tr>\n",
       "    <tr>\n",
       "      <th>17.000</th>\n",
       "      <td>2.000</td>\n",
       "      <td>8944.500</td>\n",
       "      <td>1761.403</td>\n",
       "      <td>7699.000</td>\n",
       "      <td>8321.750</td>\n",
       "      <td>8944.500</td>\n",
       "      <td>9567.250</td>\n",
       "      <td>10190.000</td>\n",
       "    </tr>\n",
       "    <tr>\n",
       "      <th>18.000</th>\n",
       "      <td>10.000</td>\n",
       "      <td>23056.900</td>\n",
       "      <td>4335.447</td>\n",
       "      <td>16999.000</td>\n",
       "      <td>20625.000</td>\n",
       "      <td>21997.500</td>\n",
       "      <td>23972.500</td>\n",
       "      <td>30800.000</td>\n",
       "    </tr>\n",
       "    <tr>\n",
       "      <th>19.000</th>\n",
       "      <td>3.000</td>\n",
       "      <td>24665.333</td>\n",
       "      <td>2798.107</td>\n",
       "      <td>21450.000</td>\n",
       "      <td>23724.000</td>\n",
       "      <td>25998.000</td>\n",
       "      <td>26273.000</td>\n",
       "      <td>26548.000</td>\n",
       "    </tr>\n",
       "    <tr>\n",
       "      <th>20.000</th>\n",
       "      <td>7.000</td>\n",
       "      <td>21154.143</td>\n",
       "      <td>9026.598</td>\n",
       "      <td>11999.000</td>\n",
       "      <td>15470.000</td>\n",
       "      <td>18750.000</td>\n",
       "      <td>25745.000</td>\n",
       "      <td>34900.000</td>\n",
       "    </tr>\n",
       "    <tr>\n",
       "      <th>21.000</th>\n",
       "      <td>2.000</td>\n",
       "      <td>26220.000</td>\n",
       "      <td>325.269</td>\n",
       "      <td>25990.000</td>\n",
       "      <td>26105.000</td>\n",
       "      <td>26220.000</td>\n",
       "      <td>26335.000</td>\n",
       "      <td>26450.000</td>\n",
       "    </tr>\n",
       "    <tr>\n",
       "      <th>22.000</th>\n",
       "      <td>2.000</td>\n",
       "      <td>20175.000</td>\n",
       "      <td>813.173</td>\n",
       "      <td>19600.000</td>\n",
       "      <td>19887.500</td>\n",
       "      <td>20175.000</td>\n",
       "      <td>20462.500</td>\n",
       "      <td>20750.000</td>\n",
       "    </tr>\n",
       "    <tr>\n",
       "      <th>23.000</th>\n",
       "      <td>10.000</td>\n",
       "      <td>15764.600</td>\n",
       "      <td>8255.754</td>\n",
       "      <td>10990.000</td>\n",
       "      <td>11115.000</td>\n",
       "      <td>12535.000</td>\n",
       "      <td>14841.500</td>\n",
       "      <td>37600.000</td>\n",
       "    </tr>\n",
       "    <tr>\n",
       "      <th>24.000</th>\n",
       "      <td>1010.000</td>\n",
       "      <td>20442.554</td>\n",
       "      <td>7887.972</td>\n",
       "      <td>6900.000</td>\n",
       "      <td>14990.000</td>\n",
       "      <td>19990.000</td>\n",
       "      <td>24300.000</td>\n",
       "      <td>68320.000</td>\n",
       "    </tr>\n",
       "    <tr>\n",
       "      <th>25.000</th>\n",
       "      <td>6.000</td>\n",
       "      <td>20946.333</td>\n",
       "      <td>8591.413</td>\n",
       "      <td>11890.000</td>\n",
       "      <td>15842.500</td>\n",
       "      <td>20625.000</td>\n",
       "      <td>21500.000</td>\n",
       "      <td>36498.000</td>\n",
       "    </tr>\n",
       "    <tr>\n",
       "      <th>26.000</th>\n",
       "      <td>3.000</td>\n",
       "      <td>23659.333</td>\n",
       "      <td>11206.405</td>\n",
       "      <td>15840.000</td>\n",
       "      <td>17240.000</td>\n",
       "      <td>18640.000</td>\n",
       "      <td>27569.000</td>\n",
       "      <td>36498.000</td>\n",
       "    </tr>\n",
       "    <tr>\n",
       "      <th>28.000</th>\n",
       "      <td>2.000</td>\n",
       "      <td>17925.000</td>\n",
       "      <td>4277.996</td>\n",
       "      <td>14900.000</td>\n",
       "      <td>16412.500</td>\n",
       "      <td>17925.000</td>\n",
       "      <td>19437.500</td>\n",
       "      <td>20950.000</td>\n",
       "    </tr>\n",
       "    <tr>\n",
       "      <th>30.000</th>\n",
       "      <td>1.000</td>\n",
       "      <td>36400.000</td>\n",
       "      <td>NaN</td>\n",
       "      <td>36400.000</td>\n",
       "      <td>36400.000</td>\n",
       "      <td>36400.000</td>\n",
       "      <td>36400.000</td>\n",
       "      <td>36400.000</td>\n",
       "    </tr>\n",
       "    <tr>\n",
       "      <th>33.000</th>\n",
       "      <td>1.000</td>\n",
       "      <td>23299.000</td>\n",
       "      <td>NaN</td>\n",
       "      <td>23299.000</td>\n",
       "      <td>23299.000</td>\n",
       "      <td>23299.000</td>\n",
       "      <td>23299.000</td>\n",
       "      <td>23299.000</td>\n",
       "    </tr>\n",
       "    <tr>\n",
       "      <th>34.000</th>\n",
       "      <td>3.000</td>\n",
       "      <td>25694.333</td>\n",
       "      <td>3283.027</td>\n",
       "      <td>23099.000</td>\n",
       "      <td>23849.000</td>\n",
       "      <td>24599.000</td>\n",
       "      <td>26992.000</td>\n",
       "      <td>29385.000</td>\n",
       "    </tr>\n",
       "    <tr>\n",
       "      <th>36.000</th>\n",
       "      <td>178.000</td>\n",
       "      <td>22167.039</td>\n",
       "      <td>5842.961</td>\n",
       "      <td>9400.000</td>\n",
       "      <td>17596.250</td>\n",
       "      <td>22500.000</td>\n",
       "      <td>25900.000</td>\n",
       "      <td>39990.000</td>\n",
       "    </tr>\n",
       "    <tr>\n",
       "      <th>40.000</th>\n",
       "      <td>1.000</td>\n",
       "      <td>22500.000</td>\n",
       "      <td>NaN</td>\n",
       "      <td>22500.000</td>\n",
       "      <td>22500.000</td>\n",
       "      <td>22500.000</td>\n",
       "      <td>22500.000</td>\n",
       "      <td>22500.000</td>\n",
       "    </tr>\n",
       "    <tr>\n",
       "      <th>45.000</th>\n",
       "      <td>2.000</td>\n",
       "      <td>29200.000</td>\n",
       "      <td>12374.369</td>\n",
       "      <td>20450.000</td>\n",
       "      <td>24825.000</td>\n",
       "      <td>29200.000</td>\n",
       "      <td>33575.000</td>\n",
       "      <td>37950.000</td>\n",
       "    </tr>\n",
       "    <tr>\n",
       "      <th>46.000</th>\n",
       "      <td>2.000</td>\n",
       "      <td>24490.000</td>\n",
       "      <td>12034.957</td>\n",
       "      <td>15980.000</td>\n",
       "      <td>20235.000</td>\n",
       "      <td>24490.000</td>\n",
       "      <td>28745.000</td>\n",
       "      <td>33000.000</td>\n",
       "    </tr>\n",
       "    <tr>\n",
       "      <th>47.000</th>\n",
       "      <td>1.000</td>\n",
       "      <td>16370.000</td>\n",
       "      <td>NaN</td>\n",
       "      <td>16370.000</td>\n",
       "      <td>16370.000</td>\n",
       "      <td>16370.000</td>\n",
       "      <td>16370.000</td>\n",
       "      <td>16370.000</td>\n",
       "    </tr>\n",
       "    <tr>\n",
       "      <th>48.000</th>\n",
       "      <td>133.000</td>\n",
       "      <td>21054.662</td>\n",
       "      <td>8666.477</td>\n",
       "      <td>9300.000</td>\n",
       "      <td>15870.000</td>\n",
       "      <td>20500.000</td>\n",
       "      <td>24100.000</td>\n",
       "      <td>47990.000</td>\n",
       "    </tr>\n",
       "    <tr>\n",
       "      <th>49.000</th>\n",
       "      <td>1.000</td>\n",
       "      <td>16270.000</td>\n",
       "      <td>NaN</td>\n",
       "      <td>16270.000</td>\n",
       "      <td>16270.000</td>\n",
       "      <td>16270.000</td>\n",
       "      <td>16270.000</td>\n",
       "      <td>16270.000</td>\n",
       "    </tr>\n",
       "    <tr>\n",
       "      <th>50.000</th>\n",
       "      <td>4.000</td>\n",
       "      <td>18837.500</td>\n",
       "      <td>2166.308</td>\n",
       "      <td>16370.000</td>\n",
       "      <td>17945.000</td>\n",
       "      <td>18670.000</td>\n",
       "      <td>19562.500</td>\n",
       "      <td>21640.000</td>\n",
       "    </tr>\n",
       "    <tr>\n",
       "      <th>56.000</th>\n",
       "      <td>1.000</td>\n",
       "      <td>21760.000</td>\n",
       "      <td>NaN</td>\n",
       "      <td>21760.000</td>\n",
       "      <td>21760.000</td>\n",
       "      <td>21760.000</td>\n",
       "      <td>21760.000</td>\n",
       "      <td>21760.000</td>\n",
       "    </tr>\n",
       "    <tr>\n",
       "      <th>60.000</th>\n",
       "      <td>391.000</td>\n",
       "      <td>16971.164</td>\n",
       "      <td>7468.034</td>\n",
       "      <td>6450.000</td>\n",
       "      <td>10980.000</td>\n",
       "      <td>15990.000</td>\n",
       "      <td>20980.000</td>\n",
       "      <td>46890.000</td>\n",
       "    </tr>\n",
       "    <tr>\n",
       "      <th>65.000</th>\n",
       "      <td>1.000</td>\n",
       "      <td>11490.000</td>\n",
       "      <td>NaN</td>\n",
       "      <td>11490.000</td>\n",
       "      <td>11490.000</td>\n",
       "      <td>11490.000</td>\n",
       "      <td>11490.000</td>\n",
       "      <td>11490.000</td>\n",
       "    </tr>\n",
       "    <tr>\n",
       "      <th>72.000</th>\n",
       "      <td>59.000</td>\n",
       "      <td>27362.288</td>\n",
       "      <td>9258.446</td>\n",
       "      <td>10970.000</td>\n",
       "      <td>17420.000</td>\n",
       "      <td>29475.000</td>\n",
       "      <td>34190.000</td>\n",
       "      <td>42475.000</td>\n",
       "    </tr>\n",
       "  </tbody>\n",
       "</table>\n",
       "</div>"
      ],
      "text/plain": [
       "            count      mean       std       min       25%       50%       75%  \\\n",
       "Warranty                                                                        \n",
       "1.000       3.000 18383.333  4269.292 13455.000 17100.000 20745.000 20847.500   \n",
       "2.000       5.000 14604.000  2709.369 10750.000 12990.000 15290.000 16990.000   \n",
       "3.000      33.000 16278.212  8782.362  5800.000  8900.000 14950.000 17990.000   \n",
       "4.000       3.000 19666.667  7922.331 11200.000 16050.000 20900.000 23900.000   \n",
       "6.000     125.000 14608.704  6033.523  5900.000  8790.000 13990.000 18900.000   \n",
       "7.000       1.000 21480.000       NaN 21480.000 21480.000 21480.000 21480.000   \n",
       "8.000       1.000 17500.000       NaN 17500.000 17500.000 17500.000 17500.000   \n",
       "9.000       2.000 10797.500     0.707 10797.000 10797.250 10797.500 10797.750   \n",
       "10.000      1.000 19990.000       NaN 19990.000 19990.000 19990.000 19990.000   \n",
       "11.000      2.000 20897.000  8341.032 14999.000 17948.000 20897.000 23846.000   \n",
       "12.000   2245.000 15799.616  5965.835  5250.000 11000.000 14990.000 18999.000   \n",
       "13.000      3.000 16746.667  6298.137  9500.000 14670.000 19840.000 20370.000   \n",
       "14.000      2.000 24990.000  1414.214 23990.000 24490.000 24990.000 25490.000   \n",
       "15.000      1.000 21450.000       NaN 21450.000 21450.000 21450.000 21450.000   \n",
       "16.000      4.000 24730.750 11677.217 10893.000 18960.750 24570.000 30340.000   \n",
       "17.000      2.000  8944.500  1761.403  7699.000  8321.750  8944.500  9567.250   \n",
       "18.000     10.000 23056.900  4335.447 16999.000 20625.000 21997.500 23972.500   \n",
       "19.000      3.000 24665.333  2798.107 21450.000 23724.000 25998.000 26273.000   \n",
       "20.000      7.000 21154.143  9026.598 11999.000 15470.000 18750.000 25745.000   \n",
       "21.000      2.000 26220.000   325.269 25990.000 26105.000 26220.000 26335.000   \n",
       "22.000      2.000 20175.000   813.173 19600.000 19887.500 20175.000 20462.500   \n",
       "23.000     10.000 15764.600  8255.754 10990.000 11115.000 12535.000 14841.500   \n",
       "24.000   1010.000 20442.554  7887.972  6900.000 14990.000 19990.000 24300.000   \n",
       "25.000      6.000 20946.333  8591.413 11890.000 15842.500 20625.000 21500.000   \n",
       "26.000      3.000 23659.333 11206.405 15840.000 17240.000 18640.000 27569.000   \n",
       "28.000      2.000 17925.000  4277.996 14900.000 16412.500 17925.000 19437.500   \n",
       "30.000      1.000 36400.000       NaN 36400.000 36400.000 36400.000 36400.000   \n",
       "33.000      1.000 23299.000       NaN 23299.000 23299.000 23299.000 23299.000   \n",
       "34.000      3.000 25694.333  3283.027 23099.000 23849.000 24599.000 26992.000   \n",
       "36.000    178.000 22167.039  5842.961  9400.000 17596.250 22500.000 25900.000   \n",
       "40.000      1.000 22500.000       NaN 22500.000 22500.000 22500.000 22500.000   \n",
       "45.000      2.000 29200.000 12374.369 20450.000 24825.000 29200.000 33575.000   \n",
       "46.000      2.000 24490.000 12034.957 15980.000 20235.000 24490.000 28745.000   \n",
       "47.000      1.000 16370.000       NaN 16370.000 16370.000 16370.000 16370.000   \n",
       "48.000    133.000 21054.662  8666.477  9300.000 15870.000 20500.000 24100.000   \n",
       "49.000      1.000 16270.000       NaN 16270.000 16270.000 16270.000 16270.000   \n",
       "50.000      4.000 18837.500  2166.308 16370.000 17945.000 18670.000 19562.500   \n",
       "56.000      1.000 21760.000       NaN 21760.000 21760.000 21760.000 21760.000   \n",
       "60.000    391.000 16971.164  7468.034  6450.000 10980.000 15990.000 20980.000   \n",
       "65.000      1.000 11490.000       NaN 11490.000 11490.000 11490.000 11490.000   \n",
       "72.000     59.000 27362.288  9258.446 10970.000 17420.000 29475.000 34190.000   \n",
       "\n",
       "               max  \n",
       "Warranty            \n",
       "1.000    20950.000  \n",
       "2.000    17000.000  \n",
       "3.000    39990.000  \n",
       "4.000    26900.000  \n",
       "6.000    33800.000  \n",
       "7.000    21480.000  \n",
       "8.000    17500.000  \n",
       "9.000    10798.000  \n",
       "10.000   19990.000  \n",
       "11.000   26795.000  \n",
       "12.000   51900.000  \n",
       "13.000   20900.000  \n",
       "14.000   25990.000  \n",
       "15.000   21450.000  \n",
       "16.000   38890.000  \n",
       "17.000   10190.000  \n",
       "18.000   30800.000  \n",
       "19.000   26548.000  \n",
       "20.000   34900.000  \n",
       "21.000   26450.000  \n",
       "22.000   20750.000  \n",
       "23.000   37600.000  \n",
       "24.000   68320.000  \n",
       "25.000   36498.000  \n",
       "26.000   36498.000  \n",
       "28.000   20950.000  \n",
       "30.000   36400.000  \n",
       "33.000   23299.000  \n",
       "34.000   29385.000  \n",
       "36.000   39990.000  \n",
       "40.000   22500.000  \n",
       "45.000   37950.000  \n",
       "46.000   33000.000  \n",
       "47.000   16370.000  \n",
       "48.000   47990.000  \n",
       "49.000   16270.000  \n",
       "50.000   21640.000  \n",
       "56.000   21760.000  \n",
       "60.000   46890.000  \n",
       "65.000   11490.000  \n",
       "72.000   42475.000  "
      ]
     },
     "execution_count": 56,
     "metadata": {},
     "output_type": "execute_result"
    }
   ],
   "source": [
    "df.groupby([\"Warranty\"])['price'].describe(include='O')"
   ]
  },
  {
   "cell_type": "code",
   "execution_count": 57,
   "id": "d890ac1e",
   "metadata": {},
   "outputs": [
    {
     "name": "stdout",
     "output_type": "stream",
     "text": [
      "Number of NaN :  0\n",
      "------------------\n",
      "12.000    9511\n",
      "24.000    3721\n",
      "60.000     391\n",
      "36.000     178\n",
      "48.000     133\n",
      "6.000      125\n",
      "72.000      59\n",
      "3.000       33\n",
      "23.000      10\n",
      "18.000      10\n",
      "20.000       7\n",
      "25.000       6\n",
      "2.000        5\n",
      "50.000       4\n",
      "16.000       4\n",
      "4.000        3\n",
      "1.000        3\n",
      "19.000       3\n",
      "34.000       3\n",
      "26.000       3\n",
      "13.000       3\n",
      "28.000       2\n",
      "22.000       2\n",
      "14.000       2\n",
      "11.000       2\n",
      "46.000       2\n",
      "21.000       2\n",
      "9.000        2\n",
      "17.000       2\n",
      "45.000       2\n",
      "33.000       1\n",
      "40.000       1\n",
      "65.000       1\n",
      "10.000       1\n",
      "15.000       1\n",
      "7.000        1\n",
      "8.000        1\n",
      "56.000       1\n",
      "49.000       1\n",
      "47.000       1\n",
      "30.000       1\n",
      "Name: Warranty, dtype: int64\n"
     ]
    }
   ],
   "source": [
    "fill_most_frq(df, \"age\", \"Warranty\")"
   ]
  },
  {
   "cell_type": "code",
   "execution_count": 58,
   "id": "cf85c3cd",
   "metadata": {},
   "outputs": [],
   "source": [
    "df.drop(\"Warranty\", axis=1, inplace=True) #it has too much null values."
   ]
  },
  {
   "cell_type": "markdown",
   "id": "b70963bc",
   "metadata": {},
   "source": [
    "## Nr_of_Doors"
   ]
  },
  {
   "cell_type": "code",
   "execution_count": 59,
   "id": "61b88890",
   "metadata": {},
   "outputs": [
    {
     "name": "stdout",
     "output_type": "stream",
     "text": [
      "Column Name    :  Nr_of_Doors\n",
      "--------------------------------\n",
      "Number of Nulls       :  140\n",
      "Percentage of Nulls   :  % 0.98\n",
      "Number of Uniques     :  6\n",
      "\n",
      "--------------------------------\n",
      "5.000    10387\n",
      "4.000     2770\n",
      "3.000      751\n",
      "2.000      194\n",
      "NaN        140\n",
      "1.000        1\n",
      "7.000        1\n",
      "Name: Nr_of_Doors, dtype: int64\n"
     ]
    }
   ],
   "source": [
    "info('Nr_of_Doors')"
   ]
  },
  {
   "cell_type": "code",
   "execution_count": 60,
   "id": "f9ad94f4",
   "metadata": {},
   "outputs": [
    {
     "name": "stdout",
     "output_type": "stream",
     "text": [
      "Number of NaN :  0\n",
      "------------------\n",
      "5.000    10527\n",
      "4.000     2770\n",
      "3.000      751\n",
      "2.000      194\n",
      "1.000        1\n",
      "7.000        1\n",
      "Name: Nr_of_Doors, dtype: int64\n"
     ]
    }
   ],
   "source": [
    "fillallmethod(df, \"make_model\", \"body_type\", \"Nr_of_Doors\", \"mode\")"
   ]
  },
  {
   "cell_type": "markdown",
   "id": "bba8b724",
   "metadata": {},
   "source": [
    "## Nr_of_Seats"
   ]
  },
  {
   "cell_type": "code",
   "execution_count": 61,
   "id": "ef82e8ee",
   "metadata": {},
   "outputs": [
    {
     "name": "stdout",
     "output_type": "stream",
     "text": [
      "Column Name    :  Nr_of_Seats\n",
      "--------------------------------\n",
      "Number of Nulls       :  852\n",
      "Percentage of Nulls   :  % 5.98\n",
      "Number of Uniques     :  6\n",
      "\n",
      "--------------------------------\n",
      "5.000    11921\n",
      "4.000     1072\n",
      "NaN        852\n",
      "7.000      310\n",
      "2.000       86\n",
      "6.000        2\n",
      "3.000        1\n",
      "Name: Nr_of_Seats, dtype: int64\n"
     ]
    }
   ],
   "source": [
    "info('Nr_of_Seats')"
   ]
  },
  {
   "cell_type": "code",
   "execution_count": 62,
   "id": "69ec9d4b",
   "metadata": {},
   "outputs": [
    {
     "name": "stdout",
     "output_type": "stream",
     "text": [
      "Number of NaN :  0\n",
      "------------------\n",
      "5.000    12768\n",
      "4.000     1074\n",
      "7.000      310\n",
      "2.000       89\n",
      "6.000        2\n",
      "3.000        1\n",
      "Name: Nr_of_Seats, dtype: int64\n"
     ]
    }
   ],
   "source": [
    "fillallmethod(df, \"make_model\", \"body_type\", \"Nr_of_Seats\", \"mode\")"
   ]
  },
  {
   "cell_type": "markdown",
   "id": "4b8cf963",
   "metadata": {},
   "source": [
    "## Gearing_Type "
   ]
  },
  {
   "cell_type": "code",
   "execution_count": 63,
   "id": "32742ecc",
   "metadata": {},
   "outputs": [
    {
     "name": "stdout",
     "output_type": "stream",
     "text": [
      "Column Name    :  Gearing_Type\n",
      "--------------------------------\n",
      "Number of Nulls       :  0\n",
      "Percentage of Nulls   :  % 0.0\n",
      "Number of Uniques     :  3\n",
      "\n",
      "--------------------------------\n",
      "Manual            7236\n",
      "Automatic         6544\n",
      "Semi-automatic     464\n",
      "Name: Gearing_Type, dtype: int64\n"
     ]
    }
   ],
   "source": [
    "info('Gearing_Type')"
   ]
  },
  {
   "cell_type": "markdown",
   "id": "0e4f16ea",
   "metadata": {},
   "source": [
    "## Cylinders"
   ]
  },
  {
   "cell_type": "code",
   "execution_count": 64,
   "id": "307d5248",
   "metadata": {},
   "outputs": [
    {
     "name": "stdout",
     "output_type": "stream",
     "text": [
      "Column Name    :  Cylinders\n",
      "--------------------------------\n",
      "Number of Nulls       :  4952\n",
      "Percentage of Nulls   :  % 34.77\n",
      "Number of Uniques     :  7\n",
      "\n",
      "--------------------------------\n",
      "4.000    7340\n",
      "NaN      4952\n",
      "3.000    1922\n",
      "5.000      22\n",
      "6.000       3\n",
      "8.000       2\n",
      "2.000       2\n",
      "1.000       1\n",
      "Name: Cylinders, dtype: int64\n"
     ]
    }
   ],
   "source": [
    "info('Cylinders')"
   ]
  },
  {
   "cell_type": "code",
   "execution_count": 65,
   "id": "2b4a145d",
   "metadata": {},
   "outputs": [
    {
     "name": "stdout",
     "output_type": "stream",
     "text": [
      "Number of NaN :  0\n",
      "------------------\n",
      "4.000    11298\n",
      "3.000     2905\n",
      "5.000       26\n",
      "8.000        5\n",
      "2.000        5\n",
      "6.000        3\n",
      "1.000        2\n",
      "Name: Cylinders, dtype: int64\n"
     ]
    }
   ],
   "source": [
    "fillallmethod(df, \"make_model\", \"Weight_kg\", \"Cylinders\", \"ffill\")"
   ]
  },
  {
   "cell_type": "code",
   "execution_count": 66,
   "id": "51ff2f0a",
   "metadata": {},
   "outputs": [],
   "source": [
    "df.drop('Cylinders', axis=1, inplace=True)  # it has similar values with hp_kW, but more null values,so we don't need this column."
   ]
  },
  {
   "cell_type": "markdown",
   "id": "91a401b2",
   "metadata": {},
   "source": [
    "## Drive_Chain"
   ]
  },
  {
   "cell_type": "code",
   "execution_count": 67,
   "id": "eab42e1a",
   "metadata": {},
   "outputs": [
    {
     "name": "stdout",
     "output_type": "stream",
     "text": [
      "Column Name    :  Drive_Chain\n",
      "--------------------------------\n",
      "Number of Nulls       :  6245\n",
      "Percentage of Nulls   :  % 43.84\n",
      "Number of Uniques     :  3\n",
      "\n",
      "--------------------------------\n",
      "front    7847\n",
      "NaN      6245\n",
      "4WD       148\n",
      "rear        4\n",
      "Name: Drive_Chain, dtype: int64\n"
     ]
    }
   ],
   "source": [
    "info('Drive_Chain')"
   ]
  },
  {
   "cell_type": "code",
   "execution_count": 68,
   "id": "5e799785",
   "metadata": {},
   "outputs": [
    {
     "name": "stdout",
     "output_type": "stream",
     "text": [
      "Number of NaN :  0\n",
      "------------------\n",
      "front    14056\n",
      "4WD        184\n",
      "rear         4\n",
      "Name: Drive_Chain, dtype: int64\n"
     ]
    }
   ],
   "source": [
    "fillallmethod(df,'body_type', 'make_model','Drive_Chain', 'mode')"
   ]
  },
  {
   "cell_type": "markdown",
   "id": "c102d119",
   "metadata": {},
   "source": [
    "## Fuel"
   ]
  },
  {
   "cell_type": "code",
   "execution_count": 69,
   "id": "27206865",
   "metadata": {},
   "outputs": [
    {
     "name": "stdout",
     "output_type": "stream",
     "text": [
      "Column Name    :  Fuel\n",
      "--------------------------------\n",
      "Number of Nulls       :  0\n",
      "Percentage of Nulls   :  % 0.0\n",
      "Number of Uniques     :  4\n",
      "\n",
      "--------------------------------\n",
      "Benzine     7595\n",
      "Diesel      6584\n",
      "LPG/CNG       60\n",
      "Electric       5\n",
      "Name: Fuel, dtype: int64\n"
     ]
    }
   ],
   "source": [
    "info('Fuel')"
   ]
  },
  {
   "cell_type": "markdown",
   "id": "e652cf84",
   "metadata": {},
   "source": [
    "## Emission_Class"
   ]
  },
  {
   "cell_type": "code",
   "execution_count": 70,
   "id": "592d79f6",
   "metadata": {},
   "outputs": [
    {
     "name": "stdout",
     "output_type": "stream",
     "text": [
      "Column Name    :  Emission_Class\n",
      "--------------------------------\n",
      "Number of Nulls       :  3249\n",
      "Percentage of Nulls   :  % 22.81\n",
      "Number of Uniques     :  6\n",
      "\n",
      "--------------------------------\n",
      "Euro6          9149\n",
      "NaN            3249\n",
      "Euro6d-TEMP    1546\n",
      "Euro6c          121\n",
      "Euro5            78\n",
      "Euro6d           61\n",
      "Euro4            40\n",
      "Name: Emission_Class, dtype: int64\n"
     ]
    }
   ],
   "source": [
    "info('Emission_Class')"
   ]
  },
  {
   "cell_type": "code",
   "execution_count": 71,
   "id": "9deeb00e",
   "metadata": {
    "scrolled": true
   },
   "outputs": [
    {
     "name": "stdout",
     "output_type": "stream",
     "text": [
      "Number of NaN :  0\n",
      "------------------\n",
      "Euro6          11838\n",
      "Euro6d-TEMP     2104\n",
      "Euro6c           121\n",
      "Euro5             78\n",
      "Euro6d            61\n",
      "Euro4             42\n",
      "Name: Emission_Class, dtype: int64\n"
     ]
    }
   ],
   "source": [
    "fillallmethod(df, 'make_model', 'age', 'Emission_Class', 'mode')"
   ]
  },
  {
   "cell_type": "code",
   "execution_count": 72,
   "id": "ed29fee3",
   "metadata": {},
   "outputs": [],
   "source": [
    "# The emission class is related to make_model, age and fuel,so we don't need it."
   ]
  },
  {
   "cell_type": "code",
   "execution_count": 73,
   "id": "e87bd610",
   "metadata": {},
   "outputs": [],
   "source": [
    "df.drop(\"Emission_Class\", axis=1, inplace=True)"
   ]
  },
  {
   "cell_type": "markdown",
   "id": "d37e69e7",
   "metadata": {},
   "source": [
    "## comfort_convenience"
   ]
  },
  {
   "cell_type": "code",
   "execution_count": 74,
   "id": "dd0008ad",
   "metadata": {},
   "outputs": [
    {
     "name": "stdout",
     "output_type": "stream",
     "text": [
      "Column Name    :  comfort_convenience\n",
      "--------------------------------\n",
      "Number of Nulls       :  765\n",
      "Percentage of Nulls   :  % 5.37\n",
      "Number of Uniques     :  6198\n",
      "\n",
      "--------------------------------\n",
      "NaN                                                                                                                                                                                                                                                                                                                                                                                                                                                                                                  765\n",
      "Air conditioning,Electrical side mirrors,Hill Holder,Power windows                                                                                                                                                                                                                                                                                                                                                                                                                                   178\n",
      "Air conditioning,Electrical side mirrors,Power windows                                                                                                                                                                                                                                                                                                                                                                                                                                               128\n",
      "Air conditioning,Power windows                                                                                                                                                                                                                                                                                                                                                                                                                                                                       109\n",
      "Air conditioning,Armrest,Automatic climate control,Cruise control,Electrical side mirrors,Leather steering wheel,Light sensor,Lumbar support,Multi-function steering wheel,Navigation system,Park Distance Control,Parking assist system sensors front,Parking assist system sensors rear,Power windows,Rain sensor,Seat heating,Start-stop system                                                                                                                                                   105\n",
      "                                                                                                                                                                                                                                                                                                                                                                                                                                                                                                    ... \n",
      "Air conditioning,Armrest,Automatic climate control,Cruise control,Electrical side mirrors,Hill Holder,Keyless central door lock,Leather steering wheel,Light sensor,Lumbar support,Multi-function steering wheel,Navigation system,Park Distance Control,Parking assist system camera,Power windows,Rain sensor,Split rear seats,Tinted windows                                                                                                                                                        1\n",
      "Air conditioning,Cruise control,Electrical side mirrors,Light sensor,Power windows                                                                                                                                                                                                                                                                                                                                                                                                                     1\n",
      "Air conditioning,Automatic climate control,Cruise control,Electrical side mirrors,Heated steering wheel,Leather steering wheel,Light sensor,Navigation system,Park Distance Control,Parking assist system sensors front,Parking assist system sensors rear,Power windows,Rain sensor,Seat heating,Start-stop system                                                                                                                                                                                    1\n",
      "Air conditioning,Electrical side mirrors,Leather steering wheel,Light sensor,Navigation system,Park Distance Control,Parking assist system sensors front,Parking assist system sensors rear,Power windows                                                                                                                                                                                                                                                                                              1\n",
      "Air conditioning,Automatic climate control,Cruise control,Electrically heated windshield,Electrical side mirrors,Electric tailgate,Heads-up display,Heated steering wheel,Hill Holder,Keyless central door lock,Leather steering wheel,Light sensor,Lumbar support,Navigation system,Park Distance Control,Parking assist system camera,Parking assist system self-steering,Parking assist system sensors front,Parking assist system sensors rear,Power windows,Rain sensor,Seat heating,Sunroof      1\n",
      "Name: comfort_convenience, Length: 6199, dtype: int64\n"
     ]
    }
   ],
   "source": [
    "info('comfort_convenience')"
   ]
  },
  {
   "cell_type": "code",
   "execution_count": 75,
   "id": "d5a77b25",
   "metadata": {},
   "outputs": [
    {
     "name": "stdout",
     "output_type": "stream",
     "text": [
      "Number of NaN :  0\n",
      "------------------\n",
      "Air conditioning,Electrical side mirrors,Hill Holder,Power windows                                                                                                                                                                                                                                                                                                                                                                                                                                   322\n",
      "Air conditioning,Armrest,Automatic climate control,Cruise control,Electrical side mirrors,Leather steering wheel,Light sensor,Lumbar support,Multi-function steering wheel,Navigation system,Park Distance Control,Parking assist system sensors front,Parking assist system sensors rear,Power windows,Rain sensor,Seat heating,Start-stop system                                                                                                                                                   177\n",
      "Air conditioning,Automatic climate control,Cruise control,Multi-function steering wheel,Park Distance Control,Power windows                                                                                                                                                                                                                                                                                                                                                                          140\n",
      "Air conditioning,Armrest,Automatic climate control,Cruise control,Electrically adjustable seats,Electrical side mirrors,Electric tailgate,Heated steering wheel,Hill Holder,Keyless central door lock,Leather steering wheel,Light sensor,Lumbar support,Multi-function steering wheel,Navigation system,Park Distance Control,Parking assist system camera,Parking assist system sensors front,Parking assist system sensors rear,Power windows,Rain sensor,Seat heating,Start-stop system          138\n",
      "Air conditioning,Electrical side mirrors,Power windows                                                                                                                                                                                                                                                                                                                                                                                                                                               128\n",
      "                                                                                                                                                                                                                                                                                                                                                                                                                                                                                                    ... \n",
      "Air conditioning,Automatic climate control,Cruise control,Electrically adjustable seats,Electrical side mirrors,Leather steering wheel,Lumbar support,Multi-function steering wheel,Navigation system,Park Distance Control,Parking assist system sensors front,Parking assist system sensors rear,Power windows,Start-stop system                                                                                                                                                                     1\n",
      "Air conditioning,Armrest,Cruise control,Electrical side mirrors,Leather steering wheel,Light sensor,Multi-function steering wheel,Navigation system,Power windows,Rain sensor,Split rear seats                                                                                                                                                                                                                                                                                                         1\n",
      "Air conditioning,Armrest,Cruise control,Electrical side mirrors,Leather steering wheel,Light sensor,Lumbar support,Multi-function steering wheel,Park Distance Control,Parking assist system sensors rear,Power windows,Rain sensor,Start-stop system                                                                                                                                                                                                                                                  1\n",
      "Air conditioning,Armrest,Automatic climate control,Auxiliary heating,Cruise control,Hill Holder,Keyless central door lock,Leather steering wheel,Multi-function steering wheel,Navigation system,Park Distance Control,Parking assist system sensors rear,Power windows,Seat heating,Sunroof                                                                                                                                                                                                           1\n",
      "Air conditioning,Automatic climate control,Cruise control,Electrically heated windshield,Electrical side mirrors,Electric tailgate,Heads-up display,Heated steering wheel,Hill Holder,Keyless central door lock,Leather steering wheel,Light sensor,Lumbar support,Navigation system,Park Distance Control,Parking assist system camera,Parking assist system self-steering,Parking assist system sensors front,Parking assist system sensors rear,Power windows,Rain sensor,Seat heating,Sunroof      1\n",
      "Name: comfort_convenience, Length: 6198, dtype: int64\n"
     ]
    }
   ],
   "source": [
    "fillallmethod(df,'make_model', 'body_type', 'comfort_convenience', 'mode')"
   ]
  },
  {
   "cell_type": "markdown",
   "id": "f0d1a39e",
   "metadata": {},
   "source": [
    "## entertainment_media"
   ]
  },
  {
   "cell_type": "code",
   "execution_count": 76,
   "id": "0e9364ed",
   "metadata": {},
   "outputs": [
    {
     "name": "stdout",
     "output_type": "stream",
     "text": [
      "Column Name    :  entertainment_media\n",
      "--------------------------------\n",
      "Number of Nulls       :  1150\n",
      "Percentage of Nulls   :  % 8.07\n",
      "Number of Uniques     :  346\n",
      "\n",
      "--------------------------------\n",
      "Bluetooth,Hands-free equipment,On-board computer,Radio,USB                  1187\n",
      "NaN                                                                         1150\n",
      "Bluetooth,Hands-free equipment,MP3,On-board computer,Radio,USB               933\n",
      "Bluetooth,CD player,Hands-free equipment,MP3,On-board computer,Radio,USB     696\n",
      "On-board computer,Radio                                                      439\n",
      "                                                                            ... \n",
      "Bluetooth,CD player,Digital radio,Hands-free equipment,Radio                   1\n",
      "CD player,Hands-free equipment,MP3,Radio,USB                                   1\n",
      "MP3,Radio,Sound system,USB                                                     1\n",
      "Hands-free equipment,On-board computer,Radio,Sound system                      1\n",
      "CD player,Digital radio,Radio                                                  1\n",
      "Name: entertainment_media, Length: 347, dtype: int64\n"
     ]
    }
   ],
   "source": [
    "info('entertainment_media')"
   ]
  },
  {
   "cell_type": "code",
   "execution_count": 77,
   "id": "962390fc",
   "metadata": {},
   "outputs": [
    {
     "name": "stdout",
     "output_type": "stream",
     "text": [
      "Number of NaN :  0\n",
      "------------------\n",
      "Bluetooth,Hands-free equipment,On-board computer,Radio,USB                  1550\n",
      "Bluetooth,Hands-free equipment,MP3,On-board computer,Radio,USB              1079\n",
      "Bluetooth,CD player,Hands-free equipment,MP3,On-board computer,Radio,USB     796\n",
      "On-board computer                                                            526\n",
      "Radio                                                                        497\n",
      "                                                                            ... \n",
      "Bluetooth,CD player,Digital radio,Hands-free equipment,Radio                   1\n",
      "CD player,Hands-free equipment,MP3,Radio,USB                                   1\n",
      "MP3,Radio,Sound system,USB                                                     1\n",
      "Bluetooth,MP3,On-board computer,Sound system,USB                               1\n",
      "CD player,Digital radio,Radio                                                  1\n",
      "Name: entertainment_media, Length: 346, dtype: int64\n"
     ]
    }
   ],
   "source": [
    "fillallmethod(df, 'make_model', 'body_type', 'entertainment_media', 'mode')"
   ]
  },
  {
   "cell_type": "markdown",
   "id": "a5ff9eed",
   "metadata": {},
   "source": [
    "## Extras"
   ]
  },
  {
   "cell_type": "code",
   "execution_count": 78,
   "id": "bc5c78c9",
   "metadata": {},
   "outputs": [
    {
     "name": "stdout",
     "output_type": "stream",
     "text": [
      "Column Name    :  Extras\n",
      "--------------------------------\n",
      "Number of Nulls       :  2524\n",
      "Percentage of Nulls   :  % 17.72\n",
      "Number of Uniques     :  659\n",
      "\n",
      "--------------------------------\n",
      "Alloy wheels                                                                                               2846\n",
      "NaN                                                                                                        2524\n",
      "Alloy wheels,Touch screen                                                                                   610\n",
      "Alloy wheels,Voice Control                                                                                  529\n",
      "Alloy wheels,Touch screen,Voice Control                                                                     509\n",
      "                                                                                                           ... \n",
      "Alloy wheels,Handicapped enabled,Shift paddles,Voice Control                                                  1\n",
      "Alloy wheels,Handicapped enabled,Shift paddles                                                                1\n",
      "Alloy wheels,Catalytic Converter,Shift paddles,Sport package,Sport seats,Sport suspension,Voice Control       1\n",
      "Alloy wheels,Catalytic Converter,Roof rack,Sport package,Sport seats,Trailer hitch                            1\n",
      "Alloy wheels,Shift paddles,Ski bag,Sport seats,Sport suspension,Touch screen,Voice Control                    1\n",
      "Name: Extras, Length: 660, dtype: int64\n"
     ]
    }
   ],
   "source": [
    "info('Extras')"
   ]
  },
  {
   "cell_type": "code",
   "execution_count": 79,
   "id": "ead555f1",
   "metadata": {
    "scrolled": true
   },
   "outputs": [
    {
     "name": "stdout",
     "output_type": "stream",
     "text": [
      "Number of NaN :  0\n",
      "------------------\n",
      "Alloy wheels                                                                                               4993\n",
      "Alloy wheels,Touch screen                                                                                   610\n",
      "Alloy wheels,Voice Control                                                                                  529\n",
      "Roof rack                                                                                                   523\n",
      "Alloy wheels,Touch screen,Voice Control                                                                     517\n",
      "                                                                                                           ... \n",
      "Alloy wheels,Handicapped enabled,Shift paddles,Voice Control                                                  1\n",
      "Alloy wheels,Handicapped enabled,Shift paddles                                                                1\n",
      "Alloy wheels,Catalytic Converter,Shift paddles,Sport package,Sport seats,Sport suspension,Voice Control       1\n",
      "Alloy wheels,Catalytic Converter,Roof rack,Sport package,Sport seats,Trailer hitch                            1\n",
      "Alloy wheels,Shift paddles,Ski bag,Sport seats,Sport suspension,Touch screen,Voice Control                    1\n",
      "Name: Extras, Length: 659, dtype: int64\n"
     ]
    }
   ],
   "source": [
    "fillallmethod(df, 'make_model', 'body_type', 'Extras', 'mode')"
   ]
  },
  {
   "cell_type": "markdown",
   "id": "d797cfe9",
   "metadata": {},
   "source": [
    "## safety_security"
   ]
  },
  {
   "cell_type": "code",
   "execution_count": 80,
   "id": "0f47bc08",
   "metadata": {},
   "outputs": [
    {
     "name": "stdout",
     "output_type": "stream",
     "text": [
      "Column Name    :  safety_security\n",
      "--------------------------------\n",
      "Number of Nulls       :  803\n",
      "Percentage of Nulls   :  % 5.64\n",
      "Number of Uniques     :  4443\n",
      "\n",
      "--------------------------------\n",
      "NaN                                                                                                                                                                                                                                                                                                                                                               803\n",
      "ABS,Central door lock,Daytime running lights,Driver-side airbag,Electronic stability control,Fog lights,Immobilizer,Isofix,Passenger-side airbag,Power steering,Side airbag,Tire pressure monitoring system,Traction control                                                                                                                                      472\n",
      "ABS,Central door lock,Daytime running lights,Driver-side airbag,Electronic stability control,Immobilizer,Isofix,Passenger-side airbag,Power steering,Side airbag,Tire pressure monitoring system,Traction control                                                                                                                                                 440\n",
      "ABS,Central door lock,Daytime running lights,Driver-side airbag,Electronic stability control,Fog lights,Immobilizer,Isofix,LED Daytime Running Lights,Passenger-side airbag,Power steering,Side airbag,Tire pressure monitoring system,Traction control                                                                                                           260\n",
      "ABS,Central door lock,Daytime running lights,Driver-side airbag,Electronic stability control,Immobilizer,Isofix,Passenger-side airbag,Power steering,Side airbag,Tire pressure monitoring system,Traction control,Xenon headlights                                                                                                                                223\n",
      "                                                                                                                                                                                                                                                                                                                                                                 ... \n",
      "ABS,Adaptive Cruise Control,Central door lock,Daytime running lights,Driver-side airbag,Electronic stability control,Emergency brake assistant,Fog lights,Immobilizer,Isofix,Lane departure warning system,Passenger-side airbag,Power steering,Side airbag,Tire pressure monitoring system,Traction control,Xenon headlights                                       1\n",
      "ABS,Central door lock,Daytime running lights,Driver drowsiness detection,Driver-side airbag,Electronic stability control,Fog lights,Immobilizer,Isofix,Lane departure warning system,LED Daytime Running Lights,Passenger-side airbag,Power steering,Side airbag,Tire pressure monitoring system,Traction control,Traffic sign recognition                          1\n",
      "ABS,Adaptive headlights,Blind spot monitor,Central door lock,Daytime running lights,Electronic stability control,Emergency brake assistant,Fog lights,Immobilizer,Lane departure warning system,LED Daytime Running Lights,LED Headlights,Passenger-side airbag,Power steering,Side airbag,Tire pressure monitoring system,Traction control                         1\n",
      "ABS,Alarm system,Central door lock,Daytime running lights,Driver-side airbag,Electronic stability control,Fog lights,Immobilizer,LED Headlights,Power steering,Side airbag,Traction control,Xenon headlights                                                                                                                                                        1\n",
      "ABS,Adaptive Cruise Control,Central door lock,Daytime running lights,Driver-side airbag,Electronic stability control,Emergency brake assistant,Fog lights,Immobilizer,Isofix,Lane departure warning system,LED Daytime Running Lights,LED Headlights,Passenger-side airbag,Power steering,Side airbag,Tire pressure monitoring system,Traffic sign recognition      1\n",
      "Name: safety_security, Length: 4444, dtype: int64\n"
     ]
    }
   ],
   "source": [
    "info('safety_security')"
   ]
  },
  {
   "cell_type": "code",
   "execution_count": 81,
   "id": "b6a6b51b",
   "metadata": {},
   "outputs": [
    {
     "name": "stdout",
     "output_type": "stream",
     "text": [
      "Number of NaN :  0\n",
      "------------------\n",
      "ABS,Central door lock,Daytime running lights,Driver-side airbag,Electronic stability control,Fog lights,Immobilizer,Isofix,Passenger-side airbag,Power steering,Side airbag,Tire pressure monitoring system,Traction control                                                                                                                                                                                                                                                          647\n",
      "ABS,Central door lock,Daytime running lights,Driver-side airbag,Electronic stability control,Immobilizer,Isofix,Passenger-side airbag,Power steering,Side airbag,Tire pressure monitoring system,Traction control                                                                                                                                                                                                                                                                     440\n",
      "ABS,Central door lock,Daytime running lights,Driver-side airbag,Electronic stability control,Fog lights,Immobilizer,Isofix,LED Daytime Running Lights,Passenger-side airbag,Power steering,Side airbag,Tire pressure monitoring system,Traction control                                                                                                                                                                                                                               350\n",
      "ABS,Central door lock,Daytime running lights,Driver-side airbag,Electronic stability control,Immobilizer,Isofix,Passenger-side airbag,Power steering,Side airbag,Tire pressure monitoring system,Traction control,Xenon headlights                                                                                                                                                                                                                                                    285\n",
      "ABS,Central door lock,Daytime running lights,Driver-side airbag,Electronic stability control,Immobilizer,Isofix,LED Daytime Running Lights,Passenger-side airbag,Power steering,Side airbag,Tire pressure monitoring system,Traction control                                                                                                                                                                                                                                          273\n",
      "                                                                                                                                                                                                                                                                                                                                                                                                                                                                                     ... \n",
      "ABS,Central door lock,Daytime running lights,Driver-side airbag,Electronic stability control,Emergency system,Isofix,LED Daytime Running Lights,Passenger-side airbag,Power steering,Side airbag,Tire pressure monitoring system,Traction control                                                                                                                                                                                                                                       1\n",
      "ABS,Adaptive headlights,Alarm system,Central door lock,Central door lock with remote control,Daytime running lights,Driver drowsiness detection,Driver-side airbag,Electronic stability control,Fog lights,Head airbag,Isofix,LED Daytime Running Lights,LED Headlights,Passenger-side airbag,Power steering,Rear airbag,Side airbag,Tire pressure monitoring system,Traffic sign recognition                                                                                           1\n",
      "ABS,Adaptive headlights,Alarm system,Central door lock,Central door lock with remote control,Daytime running lights,Driver drowsiness detection,Driver-side airbag,Electronic stability control,Emergency brake assistant,Emergency system,Fog lights,Head airbag,Immobilizer,Isofix,Lane departure warning system,LED Daytime Running Lights,LED Headlights,Passenger-side airbag,Power steering,Rear airbag,Side airbag,Tire pressure monitoring system,Traffic sign recognition      1\n",
      "ABS,Adaptive headlights,Alarm system,Central door lock,Driver-side airbag,Side airbag                                                                                                                                                                                                                                                                                                                                                                                                   1\n",
      "ABS,Adaptive Cruise Control,Central door lock,Daytime running lights,Driver-side airbag,Electronic stability control,Emergency brake assistant,Fog lights,Immobilizer,Isofix,Lane departure warning system,LED Daytime Running Lights,LED Headlights,Passenger-side airbag,Power steering,Side airbag,Tire pressure monitoring system,Traffic sign recognition                                                                                                                          1\n",
      "Name: safety_security, Length: 4443, dtype: int64\n"
     ]
    }
   ],
   "source": [
    "fillallmethod(df, 'make_model', 'body_type', 'safety_security', 'mode')"
   ]
  },
  {
   "cell_type": "markdown",
   "id": "4be519fa",
   "metadata": {},
   "source": [
    "## Gears"
   ]
  },
  {
   "cell_type": "code",
   "execution_count": 82,
   "id": "437998f0",
   "metadata": {},
   "outputs": [
    {
     "name": "stdout",
     "output_type": "stream",
     "text": [
      "Column Name    :  Gears\n",
      "--------------------------------\n",
      "Number of Nulls       :  4140\n",
      "Percentage of Nulls   :  % 29.06\n",
      "Number of Uniques     :  10\n",
      "\n",
      "--------------------------------\n",
      "6.000     5245\n",
      "NaN       4140\n",
      "5.000     2926\n",
      "7.000     1725\n",
      "8.000      197\n",
      "9.000        4\n",
      "1.000        2\n",
      "3.000        2\n",
      "2.000        1\n",
      "50.000       1\n",
      "4.000        1\n",
      "Name: Gears, dtype: int64\n"
     ]
    }
   ],
   "source": [
    "info('Gears')"
   ]
  },
  {
   "cell_type": "code",
   "execution_count": 83,
   "id": "5b98be0f",
   "metadata": {},
   "outputs": [
    {
     "name": "stdout",
     "output_type": "stream",
     "text": [
      "Number of NaN :  0\n",
      "------------------\n",
      "6.000     7582\n",
      "5.000     4695\n",
      "7.000     1759\n",
      "8.000      197\n",
      "9.000        4\n",
      "1.000        2\n",
      "3.000        2\n",
      "2.000        1\n",
      "50.000       1\n",
      "4.000        1\n",
      "Name: Gears, dtype: int64\n"
     ]
    }
   ],
   "source": [
    "fillallmethod(df, 'make_model', 'body_type', 'Gears', 'mode')"
   ]
  },
  {
   "cell_type": "markdown",
   "id": "6213244f",
   "metadata": {},
   "source": [
    "## hp_kW"
   ]
  },
  {
   "cell_type": "code",
   "execution_count": 84,
   "id": "3fcf6391",
   "metadata": {},
   "outputs": [
    {
     "name": "stdout",
     "output_type": "stream",
     "text": [
      "Column Name    :  hp_kW\n",
      "--------------------------------\n",
      "Number of Nulls       :  0\n",
      "Percentage of Nulls   :  % 0.0\n",
      "Number of Uniques     :  81\n",
      "\n",
      "--------------------------------\n",
      "85.000     2240\n",
      "66.000     1950\n",
      "81.000     1253\n",
      "100.000    1228\n",
      "110.000    1012\n",
      "           ... \n",
      "84.000        1\n",
      "195.000       1\n",
      "44.000        1\n",
      "239.000       1\n",
      "137.000       1\n",
      "Name: hp_kW, Length: 81, dtype: int64\n"
     ]
    }
   ],
   "source": [
    "info('hp_kW')"
   ]
  },
  {
   "cell_type": "markdown",
   "id": "53315d6c",
   "metadata": {},
   "source": [
    "## Inspection_new"
   ]
  },
  {
   "cell_type": "code",
   "execution_count": 85,
   "id": "bbc9ed64",
   "metadata": {},
   "outputs": [
    {
     "name": "stdout",
     "output_type": "stream",
     "text": [
      "Column Name    :  Inspection_new\n",
      "--------------------------------\n",
      "Number of Nulls       :  10595\n",
      "Percentage of Nulls   :  % 74.38\n",
      "Number of Uniques     :  1\n",
      "\n",
      "--------------------------------\n",
      "NaN    10595\n",
      "Yes     3649\n",
      "Name: Inspection_new, dtype: int64\n"
     ]
    }
   ],
   "source": [
    "info('Inspection_new')"
   ]
  },
  {
   "cell_type": "code",
   "execution_count": 86,
   "id": "2d408a81",
   "metadata": {},
   "outputs": [],
   "source": [
    "df[\"Inspection_new\"].fillna(\"No\", inplace=True) # if there is no given information in this column, it is most probably 'no'."
   ]
  },
  {
   "cell_type": "code",
   "execution_count": 87,
   "id": "96b3d3e5",
   "metadata": {},
   "outputs": [
    {
     "data": {
      "text/plain": [
       "No     10595\n",
       "Yes     3649\n",
       "Name: Inspection_new, dtype: int64"
      ]
     },
     "execution_count": 87,
     "metadata": {},
     "output_type": "execute_result"
    }
   ],
   "source": [
    "df[\"Inspection_new\"].value_counts(dropna=False)"
   ]
  },
  {
   "cell_type": "markdown",
   "id": "e4402fc8",
   "metadata": {},
   "source": [
    "## Paint_Type"
   ]
  },
  {
   "cell_type": "code",
   "execution_count": 88,
   "id": "a9ba0040",
   "metadata": {},
   "outputs": [
    {
     "name": "stdout",
     "output_type": "stream",
     "text": [
      "Column Name    :  Paint_Type\n",
      "--------------------------------\n",
      "Number of Nulls       :  5053\n",
      "Percentage of Nulls   :  % 35.47\n",
      "Number of Uniques     :  3\n",
      "\n",
      "--------------------------------\n",
      "Metallic       8866\n",
      "NaN            5053\n",
      "Uni/basic       319\n",
      "Perl effect       6\n",
      "Name: Paint_Type, dtype: int64\n"
     ]
    }
   ],
   "source": [
    "info('Paint_Type')"
   ]
  },
  {
   "cell_type": "code",
   "execution_count": 89,
   "id": "cd2fc8ee",
   "metadata": {},
   "outputs": [
    {
     "name": "stdout",
     "output_type": "stream",
     "text": [
      "Number of NaN :  0\n",
      "------------------\n",
      "Metallic       13877\n",
      "Uni/basic        361\n",
      "Perl effect        6\n",
      "Name: Paint_Type, dtype: int64\n"
     ]
    }
   ],
   "source": [
    "fillallmethod(df, 'make_model', 'body_type', 'Paint_Type', 'mode')"
   ]
  },
  {
   "cell_type": "markdown",
   "id": "f617fb17",
   "metadata": {},
   "source": [
    "## Upholstery_type"
   ]
  },
  {
   "cell_type": "code",
   "execution_count": 90,
   "id": "898af678",
   "metadata": {},
   "outputs": [
    {
     "name": "stdout",
     "output_type": "stream",
     "text": [
      "Column Name    :  Upholstery_type\n",
      "--------------------------------\n",
      "Number of Nulls       :  4213\n",
      "Percentage of Nulls   :  % 29.58\n",
      "Number of Uniques     :  5\n",
      "\n",
      "--------------------------------\n",
      "Cloth           7629\n",
      "NaN             4213\n",
      "Part leather    1348\n",
      "Full leather     939\n",
      "Velour            58\n",
      "alcantara         57\n",
      "Name: Upholstery_type, dtype: int64\n"
     ]
    }
   ],
   "source": [
    "info('Upholstery_type')"
   ]
  },
  {
   "cell_type": "code",
   "execution_count": 91,
   "id": "5786ef4b",
   "metadata": {},
   "outputs": [
    {
     "name": "stdout",
     "output_type": "stream",
     "text": [
      "Number of NaN :  0\n",
      "------------------\n",
      "Cloth           11478\n",
      "Part leather     1357\n",
      "Full leather     1294\n",
      "Velour             58\n",
      "alcantara          57\n",
      "Name: Upholstery_type, dtype: int64\n"
     ]
    }
   ],
   "source": [
    "fillallmethod(df,'make_model', 'body_type', 'Upholstery_type', 'mode')"
   ]
  },
  {
   "cell_type": "markdown",
   "id": "d258318f",
   "metadata": {},
   "source": [
    "## Upholstery_color"
   ]
  },
  {
   "cell_type": "code",
   "execution_count": 92,
   "id": "887fcd8a",
   "metadata": {},
   "outputs": [
    {
     "name": "stdout",
     "output_type": "stream",
     "text": [
      "Column Name    :  Upholstery_color\n",
      "--------------------------------\n",
      "Number of Nulls       :  4614\n",
      "Percentage of Nulls   :  % 32.39\n",
      "Number of Uniques     :  10\n",
      "\n",
      "--------------------------------\n",
      "Black     7436\n",
      "NaN       4614\n",
      "Grey      1042\n",
      "Other      859\n",
      "Brown      200\n",
      "Beige       51\n",
      "Blue        15\n",
      "White       13\n",
      "Red          9\n",
      "Yellow       4\n",
      "Orange       1\n",
      "Name: Upholstery_color, dtype: int64\n"
     ]
    }
   ],
   "source": [
    "info('Upholstery_color')"
   ]
  },
  {
   "cell_type": "code",
   "execution_count": 93,
   "id": "ea4ab96d",
   "metadata": {},
   "outputs": [
    {
     "name": "stdout",
     "output_type": "stream",
     "text": [
      "Number of NaN :  0\n",
      "------------------\n",
      "Black     11607\n",
      "Grey       1081\n",
      "Other       860\n",
      "Brown       603\n",
      "Beige        51\n",
      "Blue         15\n",
      "White        13\n",
      "Red           9\n",
      "Yellow        4\n",
      "Orange        1\n",
      "Name: Upholstery_color, dtype: int64\n"
     ]
    }
   ],
   "source": [
    "fillallmethod(df,\"make_model\", \"body_type\", 'Upholstery_color', 'mode')"
   ]
  },
  {
   "cell_type": "code",
   "execution_count": 94,
   "id": "5f7c1a95",
   "metadata": {},
   "outputs": [],
   "source": [
    "df.drop(\"Upholstery_color\", axis=1, inplace=True) #It is not needed."
   ]
  },
  {
   "cell_type": "markdown",
   "id": "c0ef7916",
   "metadata": {},
   "source": [
    "## Displacement_cc"
   ]
  },
  {
   "cell_type": "code",
   "execution_count": 95,
   "id": "2fe1b33a",
   "metadata": {},
   "outputs": [
    {
     "name": "stdout",
     "output_type": "stream",
     "text": [
      "Column Name    :  Displacement_cc\n",
      "--------------------------------\n",
      "Number of Nulls       :  362\n",
      "Percentage of Nulls   :  % 2.54\n",
      "Number of Uniques     :  77\n",
      "\n",
      "--------------------------------\n",
      "1598.000    4358\n",
      "999.000     2217\n",
      "1398.000    1226\n",
      "1399.000     661\n",
      "1956.000     635\n",
      "            ... \n",
      "122.000        1\n",
      "1198.000       1\n",
      "1195.000       1\n",
      "2967.000       1\n",
      "1800.000       1\n",
      "Name: Displacement_cc, Length: 78, dtype: int64\n"
     ]
    }
   ],
   "source": [
    "info('Displacement_cc')"
   ]
  },
  {
   "cell_type": "code",
   "execution_count": 96,
   "id": "e4c5a7b2",
   "metadata": {},
   "outputs": [
    {
     "name": "stdout",
     "output_type": "stream",
     "text": [
      "Number of NaN :  0\n",
      "------------------\n",
      "1598.000    4563\n",
      "999.000     2246\n",
      "1398.000    1271\n",
      "1399.000     675\n",
      "1956.000     635\n",
      "            ... \n",
      "122.000        1\n",
      "1198.000       1\n",
      "1195.000       1\n",
      "2967.000       1\n",
      "1800.000       1\n",
      "Name: Displacement_cc, Length: 77, dtype: int64\n"
     ]
    }
   ],
   "source": [
    "fillallmethod(df, 'make_model', 'body_type', 'Displacement_cc', 'mode')"
   ]
  },
  {
   "cell_type": "markdown",
   "id": "8dc39760",
   "metadata": {},
   "source": [
    "## Weight_kg"
   ]
  },
  {
   "cell_type": "code",
   "execution_count": 97,
   "id": "1d533e6b",
   "metadata": {},
   "outputs": [
    {
     "name": "stdout",
     "output_type": "stream",
     "text": [
      "Column Name    :  Weight_kg\n",
      "--------------------------------\n",
      "Number of Nulls       :  6264\n",
      "Percentage of Nulls   :  % 43.98\n",
      "Number of Uniques     :  434\n",
      "\n",
      "--------------------------------\n",
      "NaN         6264\n",
      "1163.000     513\n",
      "1360.000     313\n",
      "1165.000     240\n",
      "1335.000     221\n",
      "            ... \n",
      "1213.000       1\n",
      "1960.000       1\n",
      "1258.000       1\n",
      "1167.000       1\n",
      "2037.000       1\n",
      "Name: Weight_kg, Length: 435, dtype: int64\n"
     ]
    }
   ],
   "source": [
    "info('Weight_kg')"
   ]
  },
  {
   "cell_type": "code",
   "execution_count": 98,
   "id": "07d9f366",
   "metadata": {},
   "outputs": [
    {
     "name": "stdout",
     "output_type": "stream",
     "text": [
      "Number of NaN :  0\n",
      "------------------\n",
      "1163.000    1438\n",
      "1360.000    1192\n",
      "1487.000     911\n",
      "1135.000     788\n",
      "1425.000     706\n",
      "            ... \n",
      "1167.000       1\n",
      "1331.000       1\n",
      "1132.000       1\n",
      "1252.000       1\n",
      "2037.000       1\n",
      "Name: Weight_kg, Length: 434, dtype: int64\n"
     ]
    }
   ],
   "source": [
    "fillallmethod(df, 'make_model', 'body_type', 'Weight_kg', 'mode')"
   ]
  },
  {
   "cell_type": "markdown",
   "id": "3172c6b7",
   "metadata": {},
   "source": [
    "## cons_comb"
   ]
  },
  {
   "cell_type": "code",
   "execution_count": 99,
   "id": "eacbce94",
   "metadata": {},
   "outputs": [
    {
     "name": "stdout",
     "output_type": "stream",
     "text": [
      "Column Name    :  cons_comb\n",
      "--------------------------------\n",
      "Number of Nulls       :  1807\n",
      "Percentage of Nulls   :  % 12.69\n",
      "Number of Uniques     :  72\n",
      "\n",
      "--------------------------------\n",
      "NaN       1807\n",
      "3.900      675\n",
      "4.000      634\n",
      "5.400      628\n",
      "4.400      601\n",
      "          ... \n",
      "33.000       1\n",
      "50.000       1\n",
      "1.000        1\n",
      "46.000       1\n",
      "11.000       1\n",
      "Name: cons_comb, Length: 73, dtype: int64\n"
     ]
    }
   ],
   "source": [
    "info('cons_comb')"
   ]
  },
  {
   "cell_type": "code",
   "execution_count": 100,
   "id": "1f1e9b3d",
   "metadata": {},
   "outputs": [],
   "source": [
    "df['cons_comb'].replace(43.0,4.3, inplace=True, regex=True)"
   ]
  },
  {
   "cell_type": "code",
   "execution_count": 101,
   "id": "72c363ce",
   "metadata": {},
   "outputs": [],
   "source": [
    "df['cons_comb'].replace(50.0,0.5, inplace=True, regex=True)"
   ]
  },
  {
   "cell_type": "code",
   "execution_count": 102,
   "id": "49d30a02",
   "metadata": {},
   "outputs": [],
   "source": [
    "df['cons_comb'].replace(46.0,4.6, inplace=True, regex=True)"
   ]
  },
  {
   "cell_type": "code",
   "execution_count": 103,
   "id": "bf079486",
   "metadata": {},
   "outputs": [],
   "source": [
    "df['cons_comb'].replace(55.0,5.5, inplace=True, regex=True)"
   ]
  },
  {
   "cell_type": "code",
   "execution_count": 104,
   "id": "963e6ea0",
   "metadata": {},
   "outputs": [],
   "source": [
    "df['cons_comb'].replace(54.0,5.4, inplace=True, regex=True)"
   ]
  },
  {
   "cell_type": "code",
   "execution_count": 105,
   "id": "eb8f6c74",
   "metadata": {},
   "outputs": [],
   "source": [
    "df['cons_comb'].replace(33.0,3.3, inplace=True, regex=True)"
   ]
  },
  {
   "cell_type": "code",
   "execution_count": 106,
   "id": "4ae30a9f",
   "metadata": {},
   "outputs": [],
   "source": [
    "df['cons_comb'].replace(11.0,1.1, inplace=True, regex=True)"
   ]
  },
  {
   "cell_type": "code",
   "execution_count": 107,
   "id": "75c82e1f",
   "metadata": {},
   "outputs": [],
   "source": [
    "df['cons_comb'].replace(32.0,3.2, inplace=True, regex=True)"
   ]
  },
  {
   "cell_type": "code",
   "execution_count": 108,
   "id": "b99c0ace",
   "metadata": {},
   "outputs": [],
   "source": [
    "df['cons_comb'].replace(40.0,4.0, inplace=True, regex=True)"
   ]
  },
  {
   "cell_type": "code",
   "execution_count": 109,
   "id": "45927932",
   "metadata": {},
   "outputs": [],
   "source": [
    "df['cons_comb'].replace(51.0,5.1, inplace=True, regex=True)"
   ]
  },
  {
   "cell_type": "code",
   "execution_count": 110,
   "id": "352cef24",
   "metadata": {},
   "outputs": [],
   "source": [
    "df['cons_comb'].replace(38.0,3.8, inplace=True, regex=True)"
   ]
  },
  {
   "cell_type": "code",
   "execution_count": 111,
   "id": "5c19635c",
   "metadata": {},
   "outputs": [
    {
     "data": {
      "text/plain": [
       "NaN      1807\n",
       "3.900     675\n",
       "4.000     636\n",
       "5.400     629\n",
       "4.400     601\n",
       "         ... \n",
       "1.100       1\n",
       "9.100       1\n",
       "1.200       1\n",
       "0.500       1\n",
       "1.000       1\n",
       "Name: cons_comb, Length: 64, dtype: int64"
      ]
     },
     "execution_count": 111,
     "metadata": {},
     "output_type": "execute_result"
    }
   ],
   "source": [
    "df.cons_comb.value_counts(dropna=False)"
   ]
  },
  {
   "cell_type": "code",
   "execution_count": 112,
   "id": "fe0d5df3",
   "metadata": {},
   "outputs": [
    {
     "name": "stdout",
     "output_type": "stream",
     "text": [
      "Number of NaN :  0\n",
      "------------------\n",
      "4.000    1269\n",
      "4.400     866\n",
      "5.400     764\n",
      "3.900     707\n",
      "5.600     627\n",
      "         ... \n",
      "1.100       1\n",
      "9.100       1\n",
      "1.200       1\n",
      "0.500       1\n",
      "1.000       1\n",
      "Name: cons_comb, Length: 63, dtype: int64\n"
     ]
    }
   ],
   "source": [
    "fillallmethod(df, 'Displacement_cc','Fuel','cons_comb','mode')"
   ]
  },
  {
   "cell_type": "markdown",
   "id": "1efaf0e5",
   "metadata": {},
   "source": [
    "## cons_city"
   ]
  },
  {
   "cell_type": "code",
   "execution_count": 113,
   "id": "a87f7cca",
   "metadata": {},
   "outputs": [
    {
     "name": "stdout",
     "output_type": "stream",
     "text": [
      "Column Name    :  cons_city\n",
      "--------------------------------\n",
      "Number of Nulls       :  2270\n",
      "Percentage of Nulls   :  % 15.94\n",
      "Number of Uniques     :  86\n",
      "\n",
      "--------------------------------\n",
      "NaN       2270\n",
      "5.000      607\n",
      "5.800      564\n",
      "4.500      546\n",
      "4.300      492\n",
      "          ... \n",
      "66.000       1\n",
      "10.400       1\n",
      "10.500       1\n",
      "19.900       1\n",
      "9.700        1\n",
      "Name: cons_city, Length: 87, dtype: int64\n"
     ]
    }
   ],
   "source": [
    "info('cons_city')"
   ]
  },
  {
   "cell_type": "code",
   "execution_count": 114,
   "id": "b16839fb",
   "metadata": {},
   "outputs": [],
   "source": [
    "df.drop('cons_city', axis=1, inplace=True)"
   ]
  },
  {
   "cell_type": "markdown",
   "id": "c78e09e4",
   "metadata": {},
   "source": [
    "## cons_country"
   ]
  },
  {
   "cell_type": "code",
   "execution_count": 115,
   "id": "7f41d693",
   "metadata": {},
   "outputs": [
    {
     "name": "stdout",
     "output_type": "stream",
     "text": [
      "Column Name    :  cons_country\n",
      "--------------------------------\n",
      "Number of Nulls       :  2210\n",
      "Percentage of Nulls   :  % 15.52\n",
      "Number of Uniques     :  57\n",
      "\n",
      "--------------------------------\n",
      "NaN       2210\n",
      "4.200     1020\n",
      "3.700      989\n",
      "4.400      793\n",
      "3.800      724\n",
      "4.500      720\n",
      "3.900      713\n",
      "4.700      564\n",
      "4.100      540\n",
      "4.000      532\n",
      "3.500      490\n",
      "3.600      473\n",
      "4.600      459\n",
      "4.900      444\n",
      "3.300      423\n",
      "4.300      409\n",
      "3.100      364\n",
      "3.400      326\n",
      "4.800      323\n",
      "5.300      262\n",
      "5.400      197\n",
      "5.100      182\n",
      "3.200      158\n",
      "5.700      151\n",
      "5.600      144\n",
      "3.000      122\n",
      "5.000      115\n",
      "5.200      108\n",
      "6.300       47\n",
      "5.500       36\n",
      "6.000       36\n",
      "10.000      32\n",
      "5.800       29\n",
      "6.600       19\n",
      "2.900       16\n",
      "6.400       13\n",
      "2.800        9\n",
      "0.000        9\n",
      "7.700        4\n",
      "7.300        4\n",
      "44.000       4\n",
      "6.500        4\n",
      "7.000        3\n",
      "7.100        3\n",
      "6.900        2\n",
      "35.000       2\n",
      "37.000       2\n",
      "6.100        2\n",
      "5.900        2\n",
      "6.700        2\n",
      "7.800        2\n",
      "7.600        1\n",
      "42.000       1\n",
      "8.000        1\n",
      "8.600        1\n",
      "10.300       1\n",
      "2.000        1\n",
      "1.000        1\n",
      "Name: cons_country, dtype: int64\n"
     ]
    }
   ],
   "source": [
    "info('cons_country')"
   ]
  },
  {
   "cell_type": "code",
   "execution_count": 116,
   "id": "8df11105",
   "metadata": {},
   "outputs": [],
   "source": [
    "df.drop('cons_country', axis=1, inplace=True)"
   ]
  },
  {
   "cell_type": "markdown",
   "id": "b4dc836c",
   "metadata": {},
   "source": [
    "## CO2_Emission"
   ]
  },
  {
   "cell_type": "code",
   "execution_count": 117,
   "id": "43e5dc94",
   "metadata": {},
   "outputs": [
    {
     "name": "stdout",
     "output_type": "stream",
     "text": [
      "Column Name    :  CO2_Emission\n",
      "--------------------------------\n",
      "Number of Nulls       :  2239\n",
      "Percentage of Nulls   :  % 15.72\n",
      "Number of Uniques     :  120\n",
      "\n",
      "--------------------------------\n",
      "NaN        2239\n",
      "120.000     648\n",
      "97.000      503\n",
      "99.000      476\n",
      "10.000      468\n",
      "           ... \n",
      "12.324        1\n",
      "80.000        1\n",
      "160.000       1\n",
      "331.000       1\n",
      "193.000       1\n",
      "Name: CO2_Emission, Length: 121, dtype: int64\n"
     ]
    }
   ],
   "source": [
    "info('CO2_Emission')"
   ]
  },
  {
   "cell_type": "code",
   "execution_count": 118,
   "id": "6f34cf36",
   "metadata": {},
   "outputs": [
    {
     "name": "stdout",
     "output_type": "stream",
     "text": [
      "Number of NaN :  0\n",
      "------------------\n",
      "120.000    964\n",
      "97.000     753\n",
      "104.000    670\n",
      "135.000    532\n",
      "99.000     476\n",
      "          ... \n",
      "165.000      1\n",
      "12.324       1\n",
      "160.000      1\n",
      "80.000       1\n",
      "193.000      1\n",
      "Name: CO2_Emission, Length: 121, dtype: int64\n"
     ]
    }
   ],
   "source": [
    "fillallmethod(df, 'make_model', 'Fuel', 'CO2_Emission','median' )"
   ]
  },
  {
   "cell_type": "code",
   "execution_count": null,
   "id": "3e616f53",
   "metadata": {},
   "outputs": [],
   "source": []
  },
  {
   "cell_type": "code",
   "execution_count": 119,
   "id": "0199d595",
   "metadata": {},
   "outputs": [
    {
     "data": {
      "text/plain": [
       "Index(['make_model', 'body_type', 'price', 'km', 'Type', 'Previous_Owners',\n",
       "       'Nr_of_Doors', 'Nr_of_Seats', 'Gearing_Type', 'Drive_Chain', 'Fuel',\n",
       "       'comfort_convenience', 'entertainment_media', 'Extras',\n",
       "       'safety_security', 'Gears', 'age', 'hp_kW', 'Inspection_new',\n",
       "       'Paint_Type', 'Upholstery_type', 'Displacement_cc', 'Weight_kg',\n",
       "       'cons_comb', 'CO2_Emission'],\n",
       "      dtype='object')"
      ]
     },
     "execution_count": 119,
     "metadata": {},
     "output_type": "execute_result"
    }
   ],
   "source": [
    "df.columns"
   ]
  },
  {
   "cell_type": "code",
   "execution_count": 120,
   "id": "28299fb5",
   "metadata": {},
   "outputs": [
    {
     "data": {
      "text/plain": [
       "(14244, 25)"
      ]
     },
     "execution_count": 120,
     "metadata": {},
     "output_type": "execute_result"
    }
   ],
   "source": [
    "df.shape"
   ]
  },
  {
   "cell_type": "code",
   "execution_count": 121,
   "id": "58059de6",
   "metadata": {},
   "outputs": [
    {
     "name": "stdout",
     "output_type": "stream",
     "text": [
      "<class 'pandas.core.frame.DataFrame'>\n",
      "Int64Index: 14244 entries, 0 to 15916\n",
      "Data columns (total 25 columns):\n",
      " #   Column               Non-Null Count  Dtype  \n",
      "---  ------               --------------  -----  \n",
      " 0   make_model           14244 non-null  object \n",
      " 1   body_type            14244 non-null  object \n",
      " 2   price                14244 non-null  int64  \n",
      " 3   km                   14244 non-null  int64  \n",
      " 4   Type                 14244 non-null  object \n",
      " 5   Previous_Owners      14244 non-null  float64\n",
      " 6   Nr_of_Doors          14244 non-null  float64\n",
      " 7   Nr_of_Seats          14244 non-null  float64\n",
      " 8   Gearing_Type         14244 non-null  object \n",
      " 9   Drive_Chain          14244 non-null  object \n",
      " 10  Fuel                 14244 non-null  object \n",
      " 11  comfort_convenience  14244 non-null  object \n",
      " 12  entertainment_media  14244 non-null  object \n",
      " 13  Extras               14244 non-null  object \n",
      " 14  safety_security      14244 non-null  object \n",
      " 15  Gears                14244 non-null  float64\n",
      " 16  age                  14244 non-null  object \n",
      " 17  hp_kW                14244 non-null  float64\n",
      " 18  Inspection_new       14244 non-null  object \n",
      " 19  Paint_Type           14244 non-null  object \n",
      " 20  Upholstery_type      14244 non-null  object \n",
      " 21  Displacement_cc      14244 non-null  float64\n",
      " 22  Weight_kg            14244 non-null  float64\n",
      " 23  cons_comb            14244 non-null  float64\n",
      " 24  CO2_Emission         14244 non-null  float64\n",
      "dtypes: float64(9), int64(2), object(14)\n",
      "memory usage: 2.8+ MB\n"
     ]
    }
   ],
   "source": [
    "df.info()"
   ]
  },
  {
   "cell_type": "code",
   "execution_count": 122,
   "id": "748db046",
   "metadata": {},
   "outputs": [
    {
     "data": {
      "image/png": "[encoded data removed]",
      "text/plain": [
       "<Figure size 720x432 with 1 Axes>"
      ]
     },
     "metadata": {},
     "output_type": "display_data"
    }
   ],
   "source": [
    "sns.heatmap(df.isnull(), yticklabels=False, cbar=False, cmap='viridis');"
   ]
  },
  {
   "cell_type": "code",
   "execution_count": 123,
   "id": "a8e03a23",
   "metadata": {},
   "outputs": [],
   "source": [
    "df.to_csv('auto_scout_filled.csv', index=False)"
   ]
  },
  {
   "cell_type": "markdown",
   "id": "eb71a110",
   "metadata": {},
   "source": [
    "'''END'''"
   ]
  }
 ],
 "metadata": {
  "kernelspec": {
   "display_name": "Python 3 (ipykernel)",
   "language": "python",
   "name": "python3"
  },
  "language_info": {
   "codemirror_mode": {
    "name": "ipython",
    "version": 3
   },
   "file_extension": ".py",
   "mimetype": "text/x-python",
   "name": "python",
   "nbconvert_exporter": "python",
   "pygments_lexer": "ipython3",
   "version": "3.9.7"
  },
  "toc": {
   "base_numbering": 1,
   "nav_menu": {},
   "number_sections": true,
   "sideBar": true,
   "skip_h1_title": false,
   "title_cell": "Table of Contents",
   "title_sidebar": "Contents",
   "toc_cell": false,
   "toc_position": {
    "height": "calc(100% - 180px)",
    "left": "10px",
    "top": "150px",
    "width": "240.809px"
   },
   "toc_section_display": true,
   "toc_window_display": true
  }
 },
 "nbformat": 4,
 "nbformat_minor": 5
}
